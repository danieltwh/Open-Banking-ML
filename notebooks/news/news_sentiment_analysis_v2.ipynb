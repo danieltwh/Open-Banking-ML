{
 "cells": [
  {
   "cell_type": "code",
   "execution_count": 18,
   "metadata": {},
   "outputs": [
    {
     "data": {
      "text/html": [
       "<div>\n",
       "<style scoped>\n",
       "    .dataframe tbody tr th:only-of-type {\n",
       "        vertical-align: middle;\n",
       "    }\n",
       "\n",
       "    .dataframe tbody tr th {\n",
       "        vertical-align: top;\n",
       "    }\n",
       "\n",
       "    .dataframe thead th {\n",
       "        text-align: right;\n",
       "    }\n",
       "</style>\n",
       "<table border=\"1\" class=\"dataframe\">\n",
       "  <thead>\n",
       "    <tr style=\"text-align: right;\">\n",
       "      <th></th>\n",
       "      <th>title</th>\n",
       "      <th>publishedAt</th>\n",
       "      <th>url</th>\n",
       "      <th>content</th>\n",
       "      <th>vader_neg</th>\n",
       "      <th>vader_neu</th>\n",
       "      <th>vader_pos</th>\n",
       "      <th>vader_comp</th>\n",
       "      <th>vader_label</th>\n",
       "      <th>label</th>\n",
       "      <th>include</th>\n",
       "      <th>relevant</th>\n",
       "    </tr>\n",
       "    <tr>\n",
       "      <th>Column1</th>\n",
       "      <th></th>\n",
       "      <th></th>\n",
       "      <th></th>\n",
       "      <th></th>\n",
       "      <th></th>\n",
       "      <th></th>\n",
       "      <th></th>\n",
       "      <th></th>\n",
       "      <th></th>\n",
       "      <th></th>\n",
       "      <th></th>\n",
       "      <th></th>\n",
       "    </tr>\n",
       "  </thead>\n",
       "  <tbody>\n",
       "    <tr>\n",
       "      <th>1</th>\n",
       "      <td>Key remarks from Russian c.bank governor after...</td>\n",
       "      <td>2022-02-11T12:26:00Z</td>\n",
       "      <td>https://www.reuters.com/markets/currencies/key...</td>\n",
       "      <td>MOSCOW, Feb 11 (Reuters) - The Russian Central...</td>\n",
       "      <td>0.000</td>\n",
       "      <td>1.000</td>\n",
       "      <td>0.0</td>\n",
       "      <td>0.0000</td>\n",
       "      <td>0</td>\n",
       "      <td>1</td>\n",
       "      <td>1</td>\n",
       "      <td>0</td>\n",
       "    </tr>\n",
       "    <tr>\n",
       "      <th>2</th>\n",
       "      <td>LIVE MARKETS Forex: worrying about an inverted...</td>\n",
       "      <td>2022-02-18T12:33:00Z</td>\n",
       "      <td>https://www.reuters.com/markets/stocks/live-ma...</td>\n",
       "      <td>Feb 18 - Welcome to the home for real-time cov...</td>\n",
       "      <td>0.211</td>\n",
       "      <td>0.789</td>\n",
       "      <td>0.0</td>\n",
       "      <td>-0.3400</td>\n",
       "      <td>-1</td>\n",
       "      <td>0</td>\n",
       "      <td>1</td>\n",
       "      <td>1</td>\n",
       "    </tr>\n",
       "    <tr>\n",
       "      <th>3</th>\n",
       "      <td>Dollar takes a break from this week's slide ah...</td>\n",
       "      <td>2022-02-03T02:18:00Z</td>\n",
       "      <td>https://www.reuters.com/markets/europe/dollar-...</td>\n",
       "      <td>SINGAPORE, Feb 3 (Reuters) - The dollar found ...</td>\n",
       "      <td>0.000</td>\n",
       "      <td>1.000</td>\n",
       "      <td>0.0</td>\n",
       "      <td>0.0000</td>\n",
       "      <td>0</td>\n",
       "      <td>0</td>\n",
       "      <td>1</td>\n",
       "      <td>1</td>\n",
       "    </tr>\n",
       "    <tr>\n",
       "      <th>4</th>\n",
       "      <td>Euro bounce pauses ahead of U.S. inflation - R...</td>\n",
       "      <td>2022-02-08T01:16:00Z</td>\n",
       "      <td>https://www.reuters.com/business/euro-bounce-p...</td>\n",
       "      <td>SINGAPORE, Feb 8 (Reuters) - A resurgent euro ...</td>\n",
       "      <td>0.000</td>\n",
       "      <td>1.000</td>\n",
       "      <td>0.0</td>\n",
       "      <td>0.0000</td>\n",
       "      <td>0</td>\n",
       "      <td>2</td>\n",
       "      <td>1</td>\n",
       "      <td>1</td>\n",
       "    </tr>\n",
       "    <tr>\n",
       "      <th>5</th>\n",
       "      <td>Dollar near two-week high amid jitters over ha...</td>\n",
       "      <td>2022-01-25T01:52:00Z</td>\n",
       "      <td>https://www.reuters.com/markets/europe/dollar-...</td>\n",
       "      <td>TOKYO, Jan 25 (Reuters) - The safe-haven U.S. ...</td>\n",
       "      <td>0.197</td>\n",
       "      <td>0.803</td>\n",
       "      <td>0.0</td>\n",
       "      <td>-0.4019</td>\n",
       "      <td>-1</td>\n",
       "      <td>0</td>\n",
       "      <td>1</td>\n",
       "      <td>1</td>\n",
       "    </tr>\n",
       "  </tbody>\n",
       "</table>\n",
       "</div>"
      ],
      "text/plain": [
       "                                                     title  \\\n",
       "Column1                                                      \n",
       "1        Key remarks from Russian c.bank governor after...   \n",
       "2        LIVE MARKETS Forex: worrying about an inverted...   \n",
       "3        Dollar takes a break from this week's slide ah...   \n",
       "4        Euro bounce pauses ahead of U.S. inflation - R...   \n",
       "5        Dollar near two-week high amid jitters over ha...   \n",
       "\n",
       "                  publishedAt  \\\n",
       "Column1                         \n",
       "1        2022-02-11T12:26:00Z   \n",
       "2        2022-02-18T12:33:00Z   \n",
       "3        2022-02-03T02:18:00Z   \n",
       "4        2022-02-08T01:16:00Z   \n",
       "5        2022-01-25T01:52:00Z   \n",
       "\n",
       "                                                       url  \\\n",
       "Column1                                                      \n",
       "1        https://www.reuters.com/markets/currencies/key...   \n",
       "2        https://www.reuters.com/markets/stocks/live-ma...   \n",
       "3        https://www.reuters.com/markets/europe/dollar-...   \n",
       "4        https://www.reuters.com/business/euro-bounce-p...   \n",
       "5        https://www.reuters.com/markets/europe/dollar-...   \n",
       "\n",
       "                                                   content  vader_neg  \\\n",
       "Column1                                                                 \n",
       "1        MOSCOW, Feb 11 (Reuters) - The Russian Central...      0.000   \n",
       "2        Feb 18 - Welcome to the home for real-time cov...      0.211   \n",
       "3        SINGAPORE, Feb 3 (Reuters) - The dollar found ...      0.000   \n",
       "4        SINGAPORE, Feb 8 (Reuters) - A resurgent euro ...      0.000   \n",
       "5        TOKYO, Jan 25 (Reuters) - The safe-haven U.S. ...      0.197   \n",
       "\n",
       "         vader_neu  vader_pos  vader_comp  vader_label  label  include  \\\n",
       "Column1                                                                  \n",
       "1            1.000        0.0      0.0000            0      1        1   \n",
       "2            0.789        0.0     -0.3400           -1      0        1   \n",
       "3            1.000        0.0      0.0000            0      0        1   \n",
       "4            1.000        0.0      0.0000            0      2        1   \n",
       "5            0.803        0.0     -0.4019           -1      0        1   \n",
       "\n",
       "         relevant  \n",
       "Column1            \n",
       "1               0  \n",
       "2               1  \n",
       "3               1  \n",
       "4               1  \n",
       "5               1  "
      ]
     },
     "execution_count": 18,
     "metadata": {},
     "output_type": "execute_result"
    }
   ],
   "source": [
    "import pandas as pd\n",
    "import numpy as np\n",
    "import math \n",
    "import tensorflow as tf\n",
    "df = pd.read_csv(\"../../data/raw/news/newsapiorg_labelled.csv\", index_col=0)\n",
    "df['label'] = df['label']+1\n",
    "df.head()"
   ]
  },
  {
   "cell_type": "code",
   "execution_count": 19,
   "metadata": {},
   "outputs": [],
   "source": [
    "from transformers import BertTokenizer\n",
    "tokenizer = BertTokenizer.from_pretrained('bert-base-uncased', do_lower_case=True)"
   ]
  },
  {
   "cell_type": "code",
   "execution_count": 12,
   "metadata": {},
   "outputs": [
    {
     "data": {
      "text/html": [
       "<div>\n",
       "<style scoped>\n",
       "    .dataframe tbody tr th:only-of-type {\n",
       "        vertical-align: middle;\n",
       "    }\n",
       "\n",
       "    .dataframe tbody tr th {\n",
       "        vertical-align: top;\n",
       "    }\n",
       "\n",
       "    .dataframe thead th {\n",
       "        text-align: right;\n",
       "    }\n",
       "</style>\n",
       "<table border=\"1\" class=\"dataframe\">\n",
       "  <thead>\n",
       "    <tr style=\"text-align: right;\">\n",
       "      <th></th>\n",
       "      <th>title</th>\n",
       "      <th>label</th>\n",
       "    </tr>\n",
       "    <tr>\n",
       "      <th>Column1</th>\n",
       "      <th></th>\n",
       "      <th></th>\n",
       "    </tr>\n",
       "  </thead>\n",
       "  <tbody>\n",
       "    <tr>\n",
       "      <th>324</th>\n",
       "      <td>Bloomberg Businessweek Weekend - January 28th,...</td>\n",
       "      <td>1</td>\n",
       "    </tr>\n",
       "    <tr>\n",
       "      <th>1463</th>\n",
       "      <td>Suominen Corporation’s Financial Statements Re...</td>\n",
       "      <td>2</td>\n",
       "    </tr>\n",
       "    <tr>\n",
       "      <th>50</th>\n",
       "      <td>European stocks join Asia sell-off as Russia-U...</td>\n",
       "      <td>0</td>\n",
       "    </tr>\n",
       "    <tr>\n",
       "      <th>782</th>\n",
       "      <td>Reflections on the 2022 FCT Area Council Elect...</td>\n",
       "      <td>1</td>\n",
       "    </tr>\n",
       "    <tr>\n",
       "      <th>1603</th>\n",
       "      <td>LIVE MARKETS STOXX near 2-week high - Reuters</td>\n",
       "      <td>2</td>\n",
       "    </tr>\n",
       "  </tbody>\n",
       "</table>\n",
       "</div>"
      ],
      "text/plain": [
       "                                                     title  label\n",
       "Column1                                                          \n",
       "324      Bloomberg Businessweek Weekend - January 28th,...      1\n",
       "1463     Suominen Corporation’s Financial Statements Re...      2\n",
       "50       European stocks join Asia sell-off as Russia-U...      0\n",
       "782      Reflections on the 2022 FCT Area Council Elect...      1\n",
       "1603         LIVE MARKETS STOXX near 2-week high - Reuters      2"
      ]
     },
     "execution_count": 12,
     "metadata": {},
     "output_type": "execute_result"
    }
   ],
   "source": [
    "import sklearn\n",
    "from sklearn.model_selection import train_test_split\n",
    "train_inputs, valid_inputs, train_labels, valid_labels = train_test_split(df.title, df.label, test_size = 0.2)\n",
    "train = pd.concat([train_inputs, train_labels], axis = 1)\n",
    "test = pd.concat([valid_inputs, valid_labels], axis = 1)\n",
    "train.head()"
   ]
  },
  {
   "cell_type": "code",
   "execution_count": 13,
   "metadata": {},
   "outputs": [],
   "source": [
    "def convert_example_to_feature(text): \n",
    "    return tokenizer.encode_plus(text,\n",
    "        add_special_tokens = True,\n",
    "        max_length = 512,\n",
    "        pad_to_max_length = True,\n",
    "        return_attention_mask = True,\n",
    "    )\n",
    "\n",
    "def map_example_to_dict(input_ids, attention_masks, token_type_ids, label): \n",
    "    return {\n",
    "        \"input_ids\": input_ids,\n",
    "        \"token_type_ids\": token_type_ids,\n",
    "        \"attention_mask\": attention_masks,\n",
    "    },label"
   ]
  },
  {
   "cell_type": "code",
   "execution_count": 28,
   "metadata": {},
   "outputs": [],
   "source": [
    "def encode(df):\n",
    "    input_ids_list = []\n",
    "    token_type_ids_list = []\n",
    "    attention_mask_list = []\n",
    "    label_list = []\n",
    "    for index,row in df.iterrows():\n",
    "        bert_input = convert_example_to_feature(row['title'])\n",
    "        input_ids_list.append(bert_input['input_ids'])\n",
    "        token_type_ids_list.append(bert_input['token_type_ids'])\n",
    "        attention_mask_list.append(bert_input['attention_mask'])\n",
    "        label_list.append(row['label'])\n",
    "    return tf.data.Dataset.from_tensor_slices((input_ids_list, attention_mask_list, token_type_ids_list, label_list)).map(map_example_to_dict)\n"
   ]
  },
  {
   "cell_type": "code",
   "execution_count": 29,
   "metadata": {},
   "outputs": [
    {
     "name": "stderr",
     "output_type": "stream",
     "text": [
      "C:\\Users\\wangt\\AppData\\Local\\Packages\\PythonSoftwareFoundation.Python.3.10_qbz5n2kfra8p0\\LocalCache\\local-packages\\Python310\\site-packages\\transformers\\tokenization_utils_base.py:2263: FutureWarning: The `pad_to_max_length` argument is deprecated and will be removed in a future version, use `padding=True` or `padding='longest'` to pad to the longest sequence in the batch, or use `padding='max_length'` to pad to a max length. In this case, you can give a specific length with `max_length` (e.g. `max_length=45`) or leave max_length to None to pad to the maximal input size of the model (e.g. 512 for Bert).\n",
      "  warnings.warn(\n"
     ]
    }
   ],
   "source": [
    "ds_train_encoded = encode(train).shuffle(100).batch(16)\n",
    "ds_test_encoded = encode(test).batch(16)"
   ]
  },
  {
   "cell_type": "code",
   "execution_count": 30,
   "metadata": {},
   "outputs": [
    {
     "name": "stderr",
     "output_type": "stream",
     "text": [
      "All model checkpoint layers were used when initializing TFBertForSequenceClassification.\n",
      "\n",
      "Some layers of TFBertForSequenceClassification were not initialized from the model checkpoint at bert-base-uncased and are newly initialized: ['classifier']\n",
      "You should probably TRAIN this model on a down-stream task to be able to use it for predictions and inference.\n"
     ]
    }
   ],
   "source": [
    "from transformers import TFBertForSequenceClassification\n",
    "import tensorflow as tf\n",
    "from tensorflow import keras\n",
    "from keras import layers\n",
    "\n",
    "learning_rate = 2e-5\n",
    "model = TFBertForSequenceClassification.from_pretrained(\"bert-base-uncased\",\n",
    "                                                      num_labels=3,\n",
    "                                                      output_attentions=False,\n",
    "                                                      output_hidden_states=False)\n",
    "optimizer = tf.keras.optimizers.Adam(learning_rate=learning_rate, epsilon=1e-08)\n",
    "loss = tf.keras.losses.SparseCategoricalCrossentropy(from_logits=True)\n",
    "metric = tf.keras.metrics.SparseCategoricalAccuracy('accuracy')\n",
    "model.compile(optimizer=optimizer, loss=loss, metrics=[metric])"
   ]
  },
  {
   "cell_type": "code",
   "execution_count": 31,
   "metadata": {},
   "outputs": [
    {
     "name": "stdout",
     "output_type": "stream",
     "text": [
      "Epoch 1/5\n",
      "108/108 [==============================] - 5789s 54s/step - loss: 0.8563 - accuracy: 0.6092 - val_loss: 0.6408 - val_accuracy: 0.7494\n",
      "Epoch 2/5\n",
      "108/108 [==============================] - 31179s 291s/step - loss: 0.5369 - accuracy: 0.7985 - val_loss: 0.5781 - val_accuracy: 0.7958\n",
      "Epoch 3/5\n",
      "108/108 [==============================] - 5149s 48s/step - loss: 0.3858 - accuracy: 0.8693 - val_loss: 0.6142 - val_accuracy: 0.7819\n",
      "Epoch 4/5\n",
      "108/108 [==============================] - 5033s 47s/step - loss: 0.2756 - accuracy: 0.9193 - val_loss: 0.6352 - val_accuracy: 0.7935\n",
      "Epoch 5/5\n",
      "108/108 [==============================] - 5009s 46s/step - loss: 0.2014 - accuracy: 0.9355 - val_loss: 0.7155 - val_accuracy: 0.7773\n"
     ]
    }
   ],
   "source": [
    "bert_history = model.fit(ds_train_encoded, epochs=5, validation_data=ds_test_encoded)"
   ]
  },
  {
   "cell_type": "code",
   "execution_count": 33,
   "metadata": {},
   "outputs": [
    {
     "name": "stderr",
     "output_type": "stream",
     "text": [
      "WARNING:absl:Found untraced functions such as embeddings_layer_call_fn, embeddings_layer_call_and_return_conditional_losses, encoder_layer_call_fn, encoder_layer_call_and_return_conditional_losses, pooler_layer_call_fn while saving (showing 5 of 420). These functions will not be directly callable after loading.\n"
     ]
    },
    {
     "name": "stdout",
     "output_type": "stream",
     "text": [
      "INFO:tensorflow:Assets written to: ../../results/models/BERT_v1.0\\assets\n"
     ]
    },
    {
     "name": "stderr",
     "output_type": "stream",
     "text": [
      "INFO:tensorflow:Assets written to: ../../results/models/BERT_v1.0\\assets\n",
      "WARNING:absl:Found untraced functions such as embeddings_layer_call_fn, embeddings_layer_call_and_return_conditional_losses, encoder_layer_call_fn, encoder_layer_call_and_return_conditional_losses, pooler_layer_call_fn while saving (showing 5 of 420). These functions will not be directly callable after loading.\n"
     ]
    },
    {
     "name": "stdout",
     "output_type": "stream",
     "text": [
      "INFO:tensorflow:Assets written to: ram://ccc60962-787a-445d-9763-58c50c516ff6/assets\n"
     ]
    },
    {
     "name": "stderr",
     "output_type": "stream",
     "text": [
      "INFO:tensorflow:Assets written to: ram://ccc60962-787a-445d-9763-58c50c516ff6/assets\n"
     ]
    },
    {
     "data": {
      "text/plain": [
       "['../../results/models/BERT_v1.0\\\\bert_history.save']"
      ]
     },
     "execution_count": 33,
     "metadata": {},
     "output_type": "execute_result"
    }
   ],
   "source": [
    "from joblib import dump\n",
    "import os\n",
    "MODEL_PATH = \"../../results/models/BERT_v1.0\"\n",
    "model.save(MODEL_PATH)\n",
    "dump(bert_history, os.path.join(MODEL_PATH, \"bert_history.save\"))"
   ]
  },
  {
   "cell_type": "code",
   "execution_count": 38,
   "metadata": {},
   "outputs": [],
   "source": [
    "from sklearn.metrics import accuracy_score\n",
    "from joblib import load\n",
    "MODEL_PATH = \"../../results/models/BERT_v1.0\"\n",
    "loaded_bert = tf.keras.models.load_model(MODEL_PATH)"
   ]
  }
 ],
 "metadata": {
  "interpreter": {
   "hash": "a68a12f5e74fdc99390f440e8a7053d3338595b9d29368c232ef4000e22ad217"
  },
  "kernelspec": {
   "display_name": "Python 3.10.4 64-bit (windows store)",
   "language": "python",
   "name": "python3"
  },
  "language_info": {
   "codemirror_mode": {
    "name": "ipython",
    "version": 3
   },
   "file_extension": ".py",
   "mimetype": "text/x-python",
   "name": "python",
   "nbconvert_exporter": "python",
   "pygments_lexer": "ipython3",
   "version": "3.10.4"
  },
  "orig_nbformat": 4
 },
 "nbformat": 4,
 "nbformat_minor": 2
}
