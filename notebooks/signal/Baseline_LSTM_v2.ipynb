{
 "cells": [
  {
   "cell_type": "code",
   "execution_count": 35,
   "metadata": {},
   "outputs": [
    {
     "data": {
      "text/plain": [
       "'Baseline model. 1 layer LSTM with a classification layer trained for 100 epochs'"
      ]
     },
     "execution_count": 35,
     "metadata": {},
     "output_type": "execute_result"
    }
   ],
   "source": [
    "\"\"\"Baseline model. 1 layer LSTM with a classification layer trained for 100 epochs\"\"\""
   ]
  },
  {
   "cell_type": "code",
   "execution_count": 229,
   "metadata": {},
   "outputs": [],
   "source": [
    "import sys\n",
    "import os\n",
    "import math\n",
    "\n",
    "import numpy as np\n",
    "import pandas as pd\n",
    "import matplotlib.pyplot as plt\n",
    "\n",
    "import tensorflow as tf\n",
    "\n",
    "from joblib import dump, load\n",
    "\n",
    "from sklearn.model_selection import train_test_split"
   ]
  },
  {
   "cell_type": "code",
   "execution_count": 115,
   "metadata": {},
   "outputs": [],
   "source": [
    "df = pd.read_csv(\"../../data/processed/signalEUR_USD_Labelled_v1_processed.csv\", index_col=0)"
   ]
  },
  {
   "cell_type": "code",
   "execution_count": 116,
   "metadata": {},
   "outputs": [
    {
     "data": {
      "text/html": [
       "<div>\n",
       "<style scoped>\n",
       "    .dataframe tbody tr th:only-of-type {\n",
       "        vertical-align: middle;\n",
       "    }\n",
       "\n",
       "    .dataframe tbody tr th {\n",
       "        vertical-align: top;\n",
       "    }\n",
       "\n",
       "    .dataframe thead th {\n",
       "        text-align: right;\n",
       "    }\n",
       "</style>\n",
       "<table border=\"1\" class=\"dataframe\">\n",
       "  <thead>\n",
       "    <tr style=\"text-align: right;\">\n",
       "      <th></th>\n",
       "      <th>Date</th>\n",
       "      <th>Price</th>\n",
       "      <th>Open</th>\n",
       "      <th>High</th>\n",
       "      <th>Low</th>\n",
       "      <th>Change %</th>\n",
       "      <th>diff_1</th>\n",
       "      <th>label</th>\n",
       "      <th>sma</th>\n",
       "      <th>ema</th>\n",
       "      <th>cma</th>\n",
       "      <th>macd</th>\n",
       "      <th>macd_s</th>\n",
       "      <th>macd_h</th>\n",
       "      <th>roc</th>\n",
       "      <th>rsi</th>\n",
       "      <th>Bollinger_up</th>\n",
       "      <th>Bollinger_down</th>\n",
       "      <th>cci</th>\n",
       "    </tr>\n",
       "  </thead>\n",
       "  <tbody>\n",
       "    <tr>\n",
       "      <th>0</th>\n",
       "      <td>2013-01-01</td>\n",
       "      <td>1.3205</td>\n",
       "      <td>1.3194</td>\n",
       "      <td>1.3220</td>\n",
       "      <td>1.3180</td>\n",
       "      <td>0.07%</td>\n",
       "      <td>NaN</td>\n",
       "      <td>NaN</td>\n",
       "      <td>NaN</td>\n",
       "      <td>1.320500</td>\n",
       "      <td>1.320500</td>\n",
       "      <td>NaN</td>\n",
       "      <td>NaN</td>\n",
       "      <td>NaN</td>\n",
       "      <td>NaN</td>\n",
       "      <td>NaN</td>\n",
       "      <td>NaN</td>\n",
       "      <td>NaN</td>\n",
       "      <td>NaN</td>\n",
       "    </tr>\n",
       "    <tr>\n",
       "      <th>1</th>\n",
       "      <td>2013-01-02</td>\n",
       "      <td>1.3186</td>\n",
       "      <td>1.3205</td>\n",
       "      <td>1.3302</td>\n",
       "      <td>1.3157</td>\n",
       "      <td>-0.14%</td>\n",
       "      <td>-0.0019</td>\n",
       "      <td>0.0</td>\n",
       "      <td>NaN</td>\n",
       "      <td>1.318956</td>\n",
       "      <td>1.319550</td>\n",
       "      <td>NaN</td>\n",
       "      <td>NaN</td>\n",
       "      <td>NaN</td>\n",
       "      <td>NaN</td>\n",
       "      <td>0.000000</td>\n",
       "      <td>NaN</td>\n",
       "      <td>NaN</td>\n",
       "      <td>NaN</td>\n",
       "    </tr>\n",
       "    <tr>\n",
       "      <th>2</th>\n",
       "      <td>2013-01-03</td>\n",
       "      <td>1.3048</td>\n",
       "      <td>1.3187</td>\n",
       "      <td>1.3192</td>\n",
       "      <td>1.3046</td>\n",
       "      <td>-1.05%</td>\n",
       "      <td>-0.0138</td>\n",
       "      <td>1.0</td>\n",
       "      <td>NaN</td>\n",
       "      <td>1.307931</td>\n",
       "      <td>1.314633</td>\n",
       "      <td>NaN</td>\n",
       "      <td>NaN</td>\n",
       "      <td>NaN</td>\n",
       "      <td>NaN</td>\n",
       "      <td>0.000000</td>\n",
       "      <td>NaN</td>\n",
       "      <td>NaN</td>\n",
       "      <td>NaN</td>\n",
       "    </tr>\n",
       "    <tr>\n",
       "      <th>3</th>\n",
       "      <td>2013-01-04</td>\n",
       "      <td>1.3069</td>\n",
       "      <td>1.3048</td>\n",
       "      <td>1.3091</td>\n",
       "      <td>1.2999</td>\n",
       "      <td>0.16%</td>\n",
       "      <td>0.0021</td>\n",
       "      <td>2.0</td>\n",
       "      <td>NaN</td>\n",
       "      <td>1.307136</td>\n",
       "      <td>1.312700</td>\n",
       "      <td>NaN</td>\n",
       "      <td>NaN</td>\n",
       "      <td>NaN</td>\n",
       "      <td>NaN</td>\n",
       "      <td>13.559663</td>\n",
       "      <td>NaN</td>\n",
       "      <td>NaN</td>\n",
       "      <td>NaN</td>\n",
       "    </tr>\n",
       "    <tr>\n",
       "      <th>4</th>\n",
       "      <td>2013-01-07</td>\n",
       "      <td>1.3117</td>\n",
       "      <td>1.3072</td>\n",
       "      <td>1.3121</td>\n",
       "      <td>1.3018</td>\n",
       "      <td>0.37%</td>\n",
       "      <td>0.0048</td>\n",
       "      <td>2.0</td>\n",
       "      <td>NaN</td>\n",
       "      <td>1.310649</td>\n",
       "      <td>1.312500</td>\n",
       "      <td>NaN</td>\n",
       "      <td>NaN</td>\n",
       "      <td>NaN</td>\n",
       "      <td>NaN</td>\n",
       "      <td>36.329386</td>\n",
       "      <td>NaN</td>\n",
       "      <td>NaN</td>\n",
       "      <td>NaN</td>\n",
       "    </tr>\n",
       "  </tbody>\n",
       "</table>\n",
       "</div>"
      ],
      "text/plain": [
       "         Date   Price    Open    High     Low Change %  diff_1  label  sma  \\\n",
       "0  2013-01-01  1.3205  1.3194  1.3220  1.3180    0.07%     NaN    NaN  NaN   \n",
       "1  2013-01-02  1.3186  1.3205  1.3302  1.3157   -0.14% -0.0019    0.0  NaN   \n",
       "2  2013-01-03  1.3048  1.3187  1.3192  1.3046   -1.05% -0.0138    1.0  NaN   \n",
       "3  2013-01-04  1.3069  1.3048  1.3091  1.2999    0.16%  0.0021    2.0  NaN   \n",
       "4  2013-01-07  1.3117  1.3072  1.3121  1.3018    0.37%  0.0048    2.0  NaN   \n",
       "\n",
       "        ema       cma  macd  macd_s  macd_h  roc        rsi  Bollinger_up  \\\n",
       "0  1.320500  1.320500   NaN     NaN     NaN  NaN        NaN           NaN   \n",
       "1  1.318956  1.319550   NaN     NaN     NaN  NaN   0.000000           NaN   \n",
       "2  1.307931  1.314633   NaN     NaN     NaN  NaN   0.000000           NaN   \n",
       "3  1.307136  1.312700   NaN     NaN     NaN  NaN  13.559663           NaN   \n",
       "4  1.310649  1.312500   NaN     NaN     NaN  NaN  36.329386           NaN   \n",
       "\n",
       "   Bollinger_down  cci  \n",
       "0             NaN  NaN  \n",
       "1             NaN  NaN  \n",
       "2             NaN  NaN  \n",
       "3             NaN  NaN  \n",
       "4             NaN  NaN  "
      ]
     },
     "execution_count": 116,
     "metadata": {},
     "output_type": "execute_result"
    }
   ],
   "source": [
    "df.head(5)"
   ]
  },
  {
   "cell_type": "code",
   "execution_count": 117,
   "metadata": {},
   "outputs": [],
   "source": [
    "import tensorflow.keras"
   ]
  },
  {
   "cell_type": "code",
   "execution_count": 151,
   "metadata": {},
   "outputs": [],
   "source": [
    "from tensorflow.keras.utils import to_categorical\n",
    "from sklearn.preprocessing import OneHotEncoder\n",
    "from sklearn.preprocessing import StandardScaler\n",
    "\n",
    "def prepare_data(df, n=3):\n",
    "    \"\"\"\n",
    "    n: number of days to window together \n",
    "    \"\"\"\n",
    "    df[\"label_3days\"] = df[\"label\"].shift(-3)\n",
    "    df[\"label_5days\"] = df[\"label\"].shift(-5)\n",
    "    df = df.dropna(axis=0)\n",
    "    df = df.reset_index(drop=True)\n",
    "\n",
    "    time = [\"Date\"]\n",
    "    var = [\"Price\",  \"sma\", \"ema\", \"cma\", \"macd\",\t\"macd_s\", \n",
    "               \"macd_h\", \"roc\", \"rsi\",\t\"Bollinger_up\", \"Bollinger_down\", \"cci\"]\n",
    "    columns = []\n",
    "    for v in var:\n",
    "        columns.append(v)\n",
    "        for i in range(n - 1, 0, -1):\n",
    "            columns.append(v + f\"(t-{i})\")\n",
    "    \n",
    "    labels = [\"label\", \"label_3days\", \"label_5days\"]\n",
    "    features = df[time + columns + labels]\n",
    "\n",
    "    X = features.drop(labels= time + labels, axis=1)\n",
    "    print(X.head(5))\n",
    "    Y = features[[\"label\"]]\n",
    "\n",
    "    scaler = StandardScaler()\n",
    "    X = scaler.fit_transform(X)\n",
    "\n",
    "    onehot_encoder = OneHotEncoder()\n",
    "    Y = to_categorical(Y)\n",
    "    \n",
    "    return X, Y, features\n",
    "    "
   ]
  },
  {
   "cell_type": "code",
   "execution_count": 152,
   "metadata": {},
   "outputs": [],
   "source": [
    "from pandas import concat\n",
    "\n",
    "def window(df, n=3):\n",
    "    \"\"\"\n",
    "    Given time series data, window it such that we can get (t-n), (t-n-1) .. (t-1) and (t)\n",
    "    \"\"\"\n",
    "    if n < 1:\n",
    "        raise ValueError(\"n should be >= 1\")\n",
    "    n_var = df.shape[1]\n",
    "    cols, names = list(), list()\n",
    "    \n",
    "    for i in range(n - 1, -1, -1):\n",
    "        cols.append(df.shift(i))\n",
    "        if i > 0:\n",
    "            names += [(f\"{j}(t-{i})\") for j in list(df.columns)]\n",
    "        else:\n",
    "            names += [(f\"{j}\") for j in list(df.columns)]\n",
    "    agg = concat(cols, axis=1)\n",
    "    agg.columns = names\n",
    "    agg.dropna(inplace=True)\n",
    "    return agg\n",
    "\n",
    "def prepare_and_window_data(df, n=3):\n",
    "    df = window(df, n=n)\n",
    "    return prepare_data(df, n=n)\n",
    "\n",
    "def get_data_split(df, test_size=0.2, random_state=420, window_size=3):\n",
    "    X, Y, features = prepare_and_window_data(df, n=window_size)\n",
    "    X_train, X_test, Y_train, Y_test = train_test_split(X, Y, test_size=0.2, random_state=420)\n",
    "    return X_train, X_test, Y_train, Y_test\n"
   ]
  },
  {
   "cell_type": "code",
   "execution_count": 174,
   "metadata": {},
   "outputs": [],
   "source": [
    "from tensorflow.keras.models import Sequential\n",
    "from tensorflow.keras.layers import Input\n",
    "from tensorflow.keras.layers import LSTM\n",
    "from tensorflow.keras.layers import Dense\n",
    "from tensorflow.keras.losses import CategoricalCrossentropy\n",
    "\n",
    "def build_model(X_dim, h_dim=100, num_classes=3):\n",
    "    model = Sequential()\n",
    "    model.add(LSTM(units=h_dim, input_shape=(X_dim, 1)))\n",
    "    model.add(Dense(num_classes))\n",
    "    model.compile(loss=CategoricalCrossentropy(from_logits=True), optimizer=\"adam\", metrics=[\"accuracy\"])\n",
    "    model.summary()\n",
    "    return model"
   ]
  },
  {
   "cell_type": "code",
   "execution_count": 175,
   "metadata": {},
   "outputs": [
    {
     "name": "stdout",
     "output_type": "stream",
     "text": [
      "    Price  Price(t-2)  Price(t-1)       sma  sma(t-2)  sma(t-1)       ema  \\\n",
      "0  1.3388      1.3363      1.3352  1.345260  1.344735  1.344925  1.338051   \n",
      "1  1.3281      1.3352      1.3388  1.345075  1.344925  1.345260  1.330396   \n",
      "2  1.3189      1.3388      1.3281  1.344140  1.345260  1.345075  1.321553   \n",
      "3  1.3190      1.3281      1.3189  1.342780  1.345075  1.344140  1.319589   \n",
      "4  1.3062      1.3189      1.3190  1.340810  1.344140  1.342780  1.309290   \n",
      "\n",
      "   ema(t-2)  ema(t-1)       cma  ...   rsi(t-1)  Bollinger_up  \\\n",
      "0  1.336730  1.335553  1.335408  ...  38.588551      1.363601   \n",
      "1  1.335553  1.338051  1.335211  ...  45.544851      1.364052   \n",
      "2  1.338051  1.330396  1.334782  ...  32.802173      1.366251   \n",
      "3  1.330396  1.321553  1.334377  ...  25.675429      1.367545   \n",
      "4  1.321553  1.319589  1.333673  ...  25.877405      1.370424   \n",
      "\n",
      "   Bollinger_up(t-2)  Bollinger_up(t-1)  Bollinger_down  Bollinger_down(t-2)  \\\n",
      "0           1.364281           1.363994        1.326919             1.325189   \n",
      "1           1.363994           1.363601        1.326098             1.325856   \n",
      "2           1.363601           1.364052        1.322029             1.326919   \n",
      "3           1.364052           1.366251        1.318015             1.326098   \n",
      "4           1.366251           1.367545        1.311196             1.322029   \n",
      "\n",
      "   Bollinger_down(t-1)         cci    cci(t-2)    cci(t-1)  \n",
      "0             1.325856  -57.039491  -62.849696  -68.561252  \n",
      "1             1.326919  -90.131403  -68.561252  -57.039491  \n",
      "2             1.326098 -149.263447  -57.039491  -90.131403  \n",
      "3             1.322029 -135.430243  -90.131403 -149.263447  \n",
      "4             1.318015 -136.799244 -149.263447 -135.430243  \n",
      "\n",
      "[5 rows x 36 columns]\n"
     ]
    }
   ],
   "source": [
    "X_train_2, X_test_2, Y_train_2, Y_test_2 = get_data_split(df, window_size=3)"
   ]
  },
  {
   "cell_type": "code",
   "execution_count": 206,
   "metadata": {},
   "outputs": [
    {
     "data": {
      "text/plain": [
       "(1843, 36)"
      ]
     },
     "execution_count": 206,
     "metadata": {},
     "output_type": "execute_result"
    }
   ],
   "source": [
    "X_train_2.shape"
   ]
  },
  {
   "cell_type": "code",
   "execution_count": 177,
   "metadata": {},
   "outputs": [
    {
     "name": "stdout",
     "output_type": "stream",
     "text": [
      "Model: \"sequential_16\"\n",
      "_________________________________________________________________\n",
      "Layer (type)                 Output Shape              Param #   \n",
      "=================================================================\n",
      "lstm_20 (LSTM)               (None, 100)               40800     \n",
      "_________________________________________________________________\n",
      "dense_19 (Dense)             (None, 3)                 303       \n",
      "=================================================================\n",
      "Total params: 41,103\n",
      "Trainable params: 41,103\n",
      "Non-trainable params: 0\n",
      "_________________________________________________________________\n"
     ]
    }
   ],
   "source": [
    "model_2 = build_model(X_dim=X_train_2.shape[1])"
   ]
  },
  {
   "cell_type": "code",
   "execution_count": 178,
   "metadata": {},
   "outputs": [
    {
     "name": "stdout",
     "output_type": "stream",
     "text": [
      "Epoch 1/100\n"
     ]
    },
    {
     "ename": "ValueError",
     "evalue": "in user code:\n\n    /Users/daniel/opt/anaconda3/envs/carrosell2/lib/python3.8/site-packages/tensorflow/python/keras/engine/training.py:805 train_function  *\n        return step_function(self, iterator)\n    /Users/daniel/opt/anaconda3/envs/carrosell2/lib/python3.8/site-packages/tensorflow/python/keras/engine/training.py:795 step_function  **\n        outputs = model.distribute_strategy.run(run_step, args=(data,))\n    /Users/daniel/opt/anaconda3/envs/carrosell2/lib/python3.8/site-packages/tensorflow/python/distribute/distribute_lib.py:1259 run\n        return self._extended.call_for_each_replica(fn, args=args, kwargs=kwargs)\n    /Users/daniel/opt/anaconda3/envs/carrosell2/lib/python3.8/site-packages/tensorflow/python/distribute/distribute_lib.py:2730 call_for_each_replica\n        return self._call_for_each_replica(fn, args, kwargs)\n    /Users/daniel/opt/anaconda3/envs/carrosell2/lib/python3.8/site-packages/tensorflow/python/distribute/distribute_lib.py:3417 _call_for_each_replica\n        return fn(*args, **kwargs)\n    /Users/daniel/opt/anaconda3/envs/carrosell2/lib/python3.8/site-packages/tensorflow/python/keras/engine/training.py:788 run_step  **\n        outputs = model.train_step(data)\n    /Users/daniel/opt/anaconda3/envs/carrosell2/lib/python3.8/site-packages/tensorflow/python/keras/engine/training.py:754 train_step\n        y_pred = self(x, training=True)\n    /Users/daniel/opt/anaconda3/envs/carrosell2/lib/python3.8/site-packages/tensorflow/python/keras/engine/base_layer.py:998 __call__\n        input_spec.assert_input_compatibility(self.input_spec, inputs, self.name)\n    /Users/daniel/opt/anaconda3/envs/carrosell2/lib/python3.8/site-packages/tensorflow/python/keras/engine/input_spec.py:219 assert_input_compatibility\n        raise ValueError('Input ' + str(input_index) + ' of layer ' +\n\n    ValueError: Input 0 of layer sequential_16 is incompatible with the layer: expected ndim=3, found ndim=2. Full shape received: (None, 36)\n",
     "output_type": "error",
     "traceback": [
      "\u001b[0;31m---------------------------------------------------------------------------\u001b[0m",
      "\u001b[0;31mValueError\u001b[0m                                Traceback (most recent call last)",
      "\u001b[1;32m/Users/daniel/Documents/GitHub/Open-Banking-ML/notebooks/signal/Baseline_LSTM_v2.ipynb Cell 12'\u001b[0m in \u001b[0;36m<cell line: 1>\u001b[0;34m()\u001b[0m\n\u001b[0;32m----> <a href='vscode-notebook-cell:/Users/daniel/Documents/GitHub/Open-Banking-ML/notebooks/signal/Baseline_LSTM_v2.ipynb#ch0000055?line=0'>1</a>\u001b[0m hist \u001b[39m=\u001b[39m model_2\u001b[39m.\u001b[39;49mfit(X_train_2, Y_train_2, validation_data\u001b[39m=\u001b[39;49m(X_test_2, Y_test_2), epochs\u001b[39m=\u001b[39;49m\u001b[39m100\u001b[39;49m, batch_size\u001b[39m=\u001b[39;49m\u001b[39m64\u001b[39;49m)\n",
      "File \u001b[0;32m~/opt/anaconda3/envs/carrosell2/lib/python3.8/site-packages/tensorflow/python/keras/engine/training.py:1100\u001b[0m, in \u001b[0;36mModel.fit\u001b[0;34m(self, x, y, batch_size, epochs, verbose, callbacks, validation_split, validation_data, shuffle, class_weight, sample_weight, initial_epoch, steps_per_epoch, validation_steps, validation_batch_size, validation_freq, max_queue_size, workers, use_multiprocessing)\u001b[0m\n\u001b[1;32m   <a href='file:///Users/daniel/opt/anaconda3/envs/carrosell2/lib/python3.8/site-packages/tensorflow/python/keras/engine/training.py?line=1092'>1093</a>\u001b[0m \u001b[39mwith\u001b[39;00m trace\u001b[39m.\u001b[39mTrace(\n\u001b[1;32m   <a href='file:///Users/daniel/opt/anaconda3/envs/carrosell2/lib/python3.8/site-packages/tensorflow/python/keras/engine/training.py?line=1093'>1094</a>\u001b[0m     \u001b[39m'\u001b[39m\u001b[39mtrain\u001b[39m\u001b[39m'\u001b[39m,\n\u001b[1;32m   <a href='file:///Users/daniel/opt/anaconda3/envs/carrosell2/lib/python3.8/site-packages/tensorflow/python/keras/engine/training.py?line=1094'>1095</a>\u001b[0m     epoch_num\u001b[39m=\u001b[39mepoch,\n\u001b[1;32m   <a href='file:///Users/daniel/opt/anaconda3/envs/carrosell2/lib/python3.8/site-packages/tensorflow/python/keras/engine/training.py?line=1095'>1096</a>\u001b[0m     step_num\u001b[39m=\u001b[39mstep,\n\u001b[1;32m   <a href='file:///Users/daniel/opt/anaconda3/envs/carrosell2/lib/python3.8/site-packages/tensorflow/python/keras/engine/training.py?line=1096'>1097</a>\u001b[0m     batch_size\u001b[39m=\u001b[39mbatch_size,\n\u001b[1;32m   <a href='file:///Users/daniel/opt/anaconda3/envs/carrosell2/lib/python3.8/site-packages/tensorflow/python/keras/engine/training.py?line=1097'>1098</a>\u001b[0m     _r\u001b[39m=\u001b[39m\u001b[39m1\u001b[39m):\n\u001b[1;32m   <a href='file:///Users/daniel/opt/anaconda3/envs/carrosell2/lib/python3.8/site-packages/tensorflow/python/keras/engine/training.py?line=1098'>1099</a>\u001b[0m   callbacks\u001b[39m.\u001b[39mon_train_batch_begin(step)\n\u001b[0;32m-> <a href='file:///Users/daniel/opt/anaconda3/envs/carrosell2/lib/python3.8/site-packages/tensorflow/python/keras/engine/training.py?line=1099'>1100</a>\u001b[0m   tmp_logs \u001b[39m=\u001b[39m \u001b[39mself\u001b[39;49m\u001b[39m.\u001b[39;49mtrain_function(iterator)\n\u001b[1;32m   <a href='file:///Users/daniel/opt/anaconda3/envs/carrosell2/lib/python3.8/site-packages/tensorflow/python/keras/engine/training.py?line=1100'>1101</a>\u001b[0m   \u001b[39mif\u001b[39;00m data_handler\u001b[39m.\u001b[39mshould_sync:\n\u001b[1;32m   <a href='file:///Users/daniel/opt/anaconda3/envs/carrosell2/lib/python3.8/site-packages/tensorflow/python/keras/engine/training.py?line=1101'>1102</a>\u001b[0m     context\u001b[39m.\u001b[39masync_wait()\n",
      "File \u001b[0;32m~/opt/anaconda3/envs/carrosell2/lib/python3.8/site-packages/tensorflow/python/eager/def_function.py:828\u001b[0m, in \u001b[0;36mFunction.__call__\u001b[0;34m(self, *args, **kwds)\u001b[0m\n\u001b[1;32m    <a href='file:///Users/daniel/opt/anaconda3/envs/carrosell2/lib/python3.8/site-packages/tensorflow/python/eager/def_function.py?line=825'>826</a>\u001b[0m tracing_count \u001b[39m=\u001b[39m \u001b[39mself\u001b[39m\u001b[39m.\u001b[39mexperimental_get_tracing_count()\n\u001b[1;32m    <a href='file:///Users/daniel/opt/anaconda3/envs/carrosell2/lib/python3.8/site-packages/tensorflow/python/eager/def_function.py?line=826'>827</a>\u001b[0m \u001b[39mwith\u001b[39;00m trace\u001b[39m.\u001b[39mTrace(\u001b[39mself\u001b[39m\u001b[39m.\u001b[39m_name) \u001b[39mas\u001b[39;00m tm:\n\u001b[0;32m--> <a href='file:///Users/daniel/opt/anaconda3/envs/carrosell2/lib/python3.8/site-packages/tensorflow/python/eager/def_function.py?line=827'>828</a>\u001b[0m   result \u001b[39m=\u001b[39m \u001b[39mself\u001b[39;49m\u001b[39m.\u001b[39;49m_call(\u001b[39m*\u001b[39;49margs, \u001b[39m*\u001b[39;49m\u001b[39m*\u001b[39;49mkwds)\n\u001b[1;32m    <a href='file:///Users/daniel/opt/anaconda3/envs/carrosell2/lib/python3.8/site-packages/tensorflow/python/eager/def_function.py?line=828'>829</a>\u001b[0m   compiler \u001b[39m=\u001b[39m \u001b[39m\"\u001b[39m\u001b[39mxla\u001b[39m\u001b[39m\"\u001b[39m \u001b[39mif\u001b[39;00m \u001b[39mself\u001b[39m\u001b[39m.\u001b[39m_experimental_compile \u001b[39melse\u001b[39;00m \u001b[39m\"\u001b[39m\u001b[39mnonXla\u001b[39m\u001b[39m\"\u001b[39m\n\u001b[1;32m    <a href='file:///Users/daniel/opt/anaconda3/envs/carrosell2/lib/python3.8/site-packages/tensorflow/python/eager/def_function.py?line=829'>830</a>\u001b[0m   new_tracing_count \u001b[39m=\u001b[39m \u001b[39mself\u001b[39m\u001b[39m.\u001b[39mexperimental_get_tracing_count()\n",
      "File \u001b[0;32m~/opt/anaconda3/envs/carrosell2/lib/python3.8/site-packages/tensorflow/python/eager/def_function.py:871\u001b[0m, in \u001b[0;36mFunction._call\u001b[0;34m(self, *args, **kwds)\u001b[0m\n\u001b[1;32m    <a href='file:///Users/daniel/opt/anaconda3/envs/carrosell2/lib/python3.8/site-packages/tensorflow/python/eager/def_function.py?line=867'>868</a>\u001b[0m \u001b[39mtry\u001b[39;00m:\n\u001b[1;32m    <a href='file:///Users/daniel/opt/anaconda3/envs/carrosell2/lib/python3.8/site-packages/tensorflow/python/eager/def_function.py?line=868'>869</a>\u001b[0m   \u001b[39m# This is the first call of __call__, so we have to initialize.\u001b[39;00m\n\u001b[1;32m    <a href='file:///Users/daniel/opt/anaconda3/envs/carrosell2/lib/python3.8/site-packages/tensorflow/python/eager/def_function.py?line=869'>870</a>\u001b[0m   initializers \u001b[39m=\u001b[39m []\n\u001b[0;32m--> <a href='file:///Users/daniel/opt/anaconda3/envs/carrosell2/lib/python3.8/site-packages/tensorflow/python/eager/def_function.py?line=870'>871</a>\u001b[0m   \u001b[39mself\u001b[39;49m\u001b[39m.\u001b[39;49m_initialize(args, kwds, add_initializers_to\u001b[39m=\u001b[39;49minitializers)\n\u001b[1;32m    <a href='file:///Users/daniel/opt/anaconda3/envs/carrosell2/lib/python3.8/site-packages/tensorflow/python/eager/def_function.py?line=871'>872</a>\u001b[0m \u001b[39mfinally\u001b[39;00m:\n\u001b[1;32m    <a href='file:///Users/daniel/opt/anaconda3/envs/carrosell2/lib/python3.8/site-packages/tensorflow/python/eager/def_function.py?line=872'>873</a>\u001b[0m   \u001b[39m# At this point we know that the initialization is complete (or less\u001b[39;00m\n\u001b[1;32m    <a href='file:///Users/daniel/opt/anaconda3/envs/carrosell2/lib/python3.8/site-packages/tensorflow/python/eager/def_function.py?line=873'>874</a>\u001b[0m   \u001b[39m# interestingly an exception was raised) so we no longer need a lock.\u001b[39;00m\n\u001b[1;32m    <a href='file:///Users/daniel/opt/anaconda3/envs/carrosell2/lib/python3.8/site-packages/tensorflow/python/eager/def_function.py?line=874'>875</a>\u001b[0m   \u001b[39mself\u001b[39m\u001b[39m.\u001b[39m_lock\u001b[39m.\u001b[39mrelease()\n",
      "File \u001b[0;32m~/opt/anaconda3/envs/carrosell2/lib/python3.8/site-packages/tensorflow/python/eager/def_function.py:725\u001b[0m, in \u001b[0;36mFunction._initialize\u001b[0;34m(self, args, kwds, add_initializers_to)\u001b[0m\n\u001b[1;32m    <a href='file:///Users/daniel/opt/anaconda3/envs/carrosell2/lib/python3.8/site-packages/tensorflow/python/eager/def_function.py?line=721'>722</a>\u001b[0m \u001b[39mself\u001b[39m\u001b[39m.\u001b[39m_lifted_initializer_graph \u001b[39m=\u001b[39m lifted_initializer_graph\n\u001b[1;32m    <a href='file:///Users/daniel/opt/anaconda3/envs/carrosell2/lib/python3.8/site-packages/tensorflow/python/eager/def_function.py?line=722'>723</a>\u001b[0m \u001b[39mself\u001b[39m\u001b[39m.\u001b[39m_graph_deleter \u001b[39m=\u001b[39m FunctionDeleter(\u001b[39mself\u001b[39m\u001b[39m.\u001b[39m_lifted_initializer_graph)\n\u001b[1;32m    <a href='file:///Users/daniel/opt/anaconda3/envs/carrosell2/lib/python3.8/site-packages/tensorflow/python/eager/def_function.py?line=723'>724</a>\u001b[0m \u001b[39mself\u001b[39m\u001b[39m.\u001b[39m_concrete_stateful_fn \u001b[39m=\u001b[39m (\n\u001b[0;32m--> <a href='file:///Users/daniel/opt/anaconda3/envs/carrosell2/lib/python3.8/site-packages/tensorflow/python/eager/def_function.py?line=724'>725</a>\u001b[0m     \u001b[39mself\u001b[39;49m\u001b[39m.\u001b[39;49m_stateful_fn\u001b[39m.\u001b[39;49m_get_concrete_function_internal_garbage_collected(  \u001b[39m# pylint: disable=protected-access\u001b[39;49;00m\n\u001b[1;32m    <a href='file:///Users/daniel/opt/anaconda3/envs/carrosell2/lib/python3.8/site-packages/tensorflow/python/eager/def_function.py?line=725'>726</a>\u001b[0m         \u001b[39m*\u001b[39;49margs, \u001b[39m*\u001b[39;49m\u001b[39m*\u001b[39;49mkwds))\n\u001b[1;32m    <a href='file:///Users/daniel/opt/anaconda3/envs/carrosell2/lib/python3.8/site-packages/tensorflow/python/eager/def_function.py?line=727'>728</a>\u001b[0m \u001b[39mdef\u001b[39;00m \u001b[39minvalid_creator_scope\u001b[39m(\u001b[39m*\u001b[39munused_args, \u001b[39m*\u001b[39m\u001b[39m*\u001b[39munused_kwds):\n\u001b[1;32m    <a href='file:///Users/daniel/opt/anaconda3/envs/carrosell2/lib/python3.8/site-packages/tensorflow/python/eager/def_function.py?line=728'>729</a>\u001b[0m   \u001b[39m\"\"\"Disables variable creation.\"\"\"\u001b[39;00m\n",
      "File \u001b[0;32m~/opt/anaconda3/envs/carrosell2/lib/python3.8/site-packages/tensorflow/python/eager/function.py:2969\u001b[0m, in \u001b[0;36mFunction._get_concrete_function_internal_garbage_collected\u001b[0;34m(self, *args, **kwargs)\u001b[0m\n\u001b[1;32m   <a href='file:///Users/daniel/opt/anaconda3/envs/carrosell2/lib/python3.8/site-packages/tensorflow/python/eager/function.py?line=2966'>2967</a>\u001b[0m   args, kwargs \u001b[39m=\u001b[39m \u001b[39mNone\u001b[39;00m, \u001b[39mNone\u001b[39;00m\n\u001b[1;32m   <a href='file:///Users/daniel/opt/anaconda3/envs/carrosell2/lib/python3.8/site-packages/tensorflow/python/eager/function.py?line=2967'>2968</a>\u001b[0m \u001b[39mwith\u001b[39;00m \u001b[39mself\u001b[39m\u001b[39m.\u001b[39m_lock:\n\u001b[0;32m-> <a href='file:///Users/daniel/opt/anaconda3/envs/carrosell2/lib/python3.8/site-packages/tensorflow/python/eager/function.py?line=2968'>2969</a>\u001b[0m   graph_function, _ \u001b[39m=\u001b[39m \u001b[39mself\u001b[39;49m\u001b[39m.\u001b[39;49m_maybe_define_function(args, kwargs)\n\u001b[1;32m   <a href='file:///Users/daniel/opt/anaconda3/envs/carrosell2/lib/python3.8/site-packages/tensorflow/python/eager/function.py?line=2969'>2970</a>\u001b[0m \u001b[39mreturn\u001b[39;00m graph_function\n",
      "File \u001b[0;32m~/opt/anaconda3/envs/carrosell2/lib/python3.8/site-packages/tensorflow/python/eager/function.py:3361\u001b[0m, in \u001b[0;36mFunction._maybe_define_function\u001b[0;34m(self, args, kwargs)\u001b[0m\n\u001b[1;32m   <a href='file:///Users/daniel/opt/anaconda3/envs/carrosell2/lib/python3.8/site-packages/tensorflow/python/eager/function.py?line=3356'>3357</a>\u001b[0m   \u001b[39mreturn\u001b[39;00m \u001b[39mself\u001b[39m\u001b[39m.\u001b[39m_define_function_with_shape_relaxation(\n\u001b[1;32m   <a href='file:///Users/daniel/opt/anaconda3/envs/carrosell2/lib/python3.8/site-packages/tensorflow/python/eager/function.py?line=3357'>3358</a>\u001b[0m       args, kwargs, flat_args, filtered_flat_args, cache_key_context)\n\u001b[1;32m   <a href='file:///Users/daniel/opt/anaconda3/envs/carrosell2/lib/python3.8/site-packages/tensorflow/python/eager/function.py?line=3359'>3360</a>\u001b[0m \u001b[39mself\u001b[39m\u001b[39m.\u001b[39m_function_cache\u001b[39m.\u001b[39mmissed\u001b[39m.\u001b[39madd(call_context_key)\n\u001b[0;32m-> <a href='file:///Users/daniel/opt/anaconda3/envs/carrosell2/lib/python3.8/site-packages/tensorflow/python/eager/function.py?line=3360'>3361</a>\u001b[0m graph_function \u001b[39m=\u001b[39m \u001b[39mself\u001b[39;49m\u001b[39m.\u001b[39;49m_create_graph_function(args, kwargs)\n\u001b[1;32m   <a href='file:///Users/daniel/opt/anaconda3/envs/carrosell2/lib/python3.8/site-packages/tensorflow/python/eager/function.py?line=3361'>3362</a>\u001b[0m \u001b[39mself\u001b[39m\u001b[39m.\u001b[39m_function_cache\u001b[39m.\u001b[39mprimary[cache_key] \u001b[39m=\u001b[39m graph_function\n\u001b[1;32m   <a href='file:///Users/daniel/opt/anaconda3/envs/carrosell2/lib/python3.8/site-packages/tensorflow/python/eager/function.py?line=3363'>3364</a>\u001b[0m \u001b[39mreturn\u001b[39;00m graph_function, filtered_flat_args\n",
      "File \u001b[0;32m~/opt/anaconda3/envs/carrosell2/lib/python3.8/site-packages/tensorflow/python/eager/function.py:3196\u001b[0m, in \u001b[0;36mFunction._create_graph_function\u001b[0;34m(self, args, kwargs, override_flat_arg_shapes)\u001b[0m\n\u001b[1;32m   <a href='file:///Users/daniel/opt/anaconda3/envs/carrosell2/lib/python3.8/site-packages/tensorflow/python/eager/function.py?line=3190'>3191</a>\u001b[0m missing_arg_names \u001b[39m=\u001b[39m [\n\u001b[1;32m   <a href='file:///Users/daniel/opt/anaconda3/envs/carrosell2/lib/python3.8/site-packages/tensorflow/python/eager/function.py?line=3191'>3192</a>\u001b[0m     \u001b[39m\"\u001b[39m\u001b[39m%s\u001b[39;00m\u001b[39m_\u001b[39m\u001b[39m%d\u001b[39;00m\u001b[39m\"\u001b[39m \u001b[39m%\u001b[39m (arg, i) \u001b[39mfor\u001b[39;00m i, arg \u001b[39min\u001b[39;00m \u001b[39menumerate\u001b[39m(missing_arg_names)\n\u001b[1;32m   <a href='file:///Users/daniel/opt/anaconda3/envs/carrosell2/lib/python3.8/site-packages/tensorflow/python/eager/function.py?line=3192'>3193</a>\u001b[0m ]\n\u001b[1;32m   <a href='file:///Users/daniel/opt/anaconda3/envs/carrosell2/lib/python3.8/site-packages/tensorflow/python/eager/function.py?line=3193'>3194</a>\u001b[0m arg_names \u001b[39m=\u001b[39m base_arg_names \u001b[39m+\u001b[39m missing_arg_names\n\u001b[1;32m   <a href='file:///Users/daniel/opt/anaconda3/envs/carrosell2/lib/python3.8/site-packages/tensorflow/python/eager/function.py?line=3194'>3195</a>\u001b[0m graph_function \u001b[39m=\u001b[39m ConcreteFunction(\n\u001b[0;32m-> <a href='file:///Users/daniel/opt/anaconda3/envs/carrosell2/lib/python3.8/site-packages/tensorflow/python/eager/function.py?line=3195'>3196</a>\u001b[0m     func_graph_module\u001b[39m.\u001b[39;49mfunc_graph_from_py_func(\n\u001b[1;32m   <a href='file:///Users/daniel/opt/anaconda3/envs/carrosell2/lib/python3.8/site-packages/tensorflow/python/eager/function.py?line=3196'>3197</a>\u001b[0m         \u001b[39mself\u001b[39;49m\u001b[39m.\u001b[39;49m_name,\n\u001b[1;32m   <a href='file:///Users/daniel/opt/anaconda3/envs/carrosell2/lib/python3.8/site-packages/tensorflow/python/eager/function.py?line=3197'>3198</a>\u001b[0m         \u001b[39mself\u001b[39;49m\u001b[39m.\u001b[39;49m_python_function,\n\u001b[1;32m   <a href='file:///Users/daniel/opt/anaconda3/envs/carrosell2/lib/python3.8/site-packages/tensorflow/python/eager/function.py?line=3198'>3199</a>\u001b[0m         args,\n\u001b[1;32m   <a href='file:///Users/daniel/opt/anaconda3/envs/carrosell2/lib/python3.8/site-packages/tensorflow/python/eager/function.py?line=3199'>3200</a>\u001b[0m         kwargs,\n\u001b[1;32m   <a href='file:///Users/daniel/opt/anaconda3/envs/carrosell2/lib/python3.8/site-packages/tensorflow/python/eager/function.py?line=3200'>3201</a>\u001b[0m         \u001b[39mself\u001b[39;49m\u001b[39m.\u001b[39;49minput_signature,\n\u001b[1;32m   <a href='file:///Users/daniel/opt/anaconda3/envs/carrosell2/lib/python3.8/site-packages/tensorflow/python/eager/function.py?line=3201'>3202</a>\u001b[0m         autograph\u001b[39m=\u001b[39;49m\u001b[39mself\u001b[39;49m\u001b[39m.\u001b[39;49m_autograph,\n\u001b[1;32m   <a href='file:///Users/daniel/opt/anaconda3/envs/carrosell2/lib/python3.8/site-packages/tensorflow/python/eager/function.py?line=3202'>3203</a>\u001b[0m         autograph_options\u001b[39m=\u001b[39;49m\u001b[39mself\u001b[39;49m\u001b[39m.\u001b[39;49m_autograph_options,\n\u001b[1;32m   <a href='file:///Users/daniel/opt/anaconda3/envs/carrosell2/lib/python3.8/site-packages/tensorflow/python/eager/function.py?line=3203'>3204</a>\u001b[0m         arg_names\u001b[39m=\u001b[39;49marg_names,\n\u001b[1;32m   <a href='file:///Users/daniel/opt/anaconda3/envs/carrosell2/lib/python3.8/site-packages/tensorflow/python/eager/function.py?line=3204'>3205</a>\u001b[0m         override_flat_arg_shapes\u001b[39m=\u001b[39;49moverride_flat_arg_shapes,\n\u001b[1;32m   <a href='file:///Users/daniel/opt/anaconda3/envs/carrosell2/lib/python3.8/site-packages/tensorflow/python/eager/function.py?line=3205'>3206</a>\u001b[0m         capture_by_value\u001b[39m=\u001b[39;49m\u001b[39mself\u001b[39;49m\u001b[39m.\u001b[39;49m_capture_by_value),\n\u001b[1;32m   <a href='file:///Users/daniel/opt/anaconda3/envs/carrosell2/lib/python3.8/site-packages/tensorflow/python/eager/function.py?line=3206'>3207</a>\u001b[0m     \u001b[39mself\u001b[39m\u001b[39m.\u001b[39m_function_attributes,\n\u001b[1;32m   <a href='file:///Users/daniel/opt/anaconda3/envs/carrosell2/lib/python3.8/site-packages/tensorflow/python/eager/function.py?line=3207'>3208</a>\u001b[0m     function_spec\u001b[39m=\u001b[39m\u001b[39mself\u001b[39m\u001b[39m.\u001b[39mfunction_spec,\n\u001b[1;32m   <a href='file:///Users/daniel/opt/anaconda3/envs/carrosell2/lib/python3.8/site-packages/tensorflow/python/eager/function.py?line=3208'>3209</a>\u001b[0m     \u001b[39m# Tell the ConcreteFunction to clean up its graph once it goes out of\u001b[39;00m\n\u001b[1;32m   <a href='file:///Users/daniel/opt/anaconda3/envs/carrosell2/lib/python3.8/site-packages/tensorflow/python/eager/function.py?line=3209'>3210</a>\u001b[0m     \u001b[39m# scope. This is not the default behavior since it gets used in some\u001b[39;00m\n\u001b[1;32m   <a href='file:///Users/daniel/opt/anaconda3/envs/carrosell2/lib/python3.8/site-packages/tensorflow/python/eager/function.py?line=3210'>3211</a>\u001b[0m     \u001b[39m# places (like Keras) where the FuncGraph lives longer than the\u001b[39;00m\n\u001b[1;32m   <a href='file:///Users/daniel/opt/anaconda3/envs/carrosell2/lib/python3.8/site-packages/tensorflow/python/eager/function.py?line=3211'>3212</a>\u001b[0m     \u001b[39m# ConcreteFunction.\u001b[39;00m\n\u001b[1;32m   <a href='file:///Users/daniel/opt/anaconda3/envs/carrosell2/lib/python3.8/site-packages/tensorflow/python/eager/function.py?line=3212'>3213</a>\u001b[0m     shared_func_graph\u001b[39m=\u001b[39m\u001b[39mFalse\u001b[39;00m)\n\u001b[1;32m   <a href='file:///Users/daniel/opt/anaconda3/envs/carrosell2/lib/python3.8/site-packages/tensorflow/python/eager/function.py?line=3213'>3214</a>\u001b[0m \u001b[39mreturn\u001b[39;00m graph_function\n",
      "File \u001b[0;32m~/opt/anaconda3/envs/carrosell2/lib/python3.8/site-packages/tensorflow/python/framework/func_graph.py:990\u001b[0m, in \u001b[0;36mfunc_graph_from_py_func\u001b[0;34m(name, python_func, args, kwargs, signature, func_graph, autograph, autograph_options, add_control_dependencies, arg_names, op_return_value, collections, capture_by_value, override_flat_arg_shapes)\u001b[0m\n\u001b[1;32m    <a href='file:///Users/daniel/opt/anaconda3/envs/carrosell2/lib/python3.8/site-packages/tensorflow/python/framework/func_graph.py?line=986'>987</a>\u001b[0m \u001b[39melse\u001b[39;00m:\n\u001b[1;32m    <a href='file:///Users/daniel/opt/anaconda3/envs/carrosell2/lib/python3.8/site-packages/tensorflow/python/framework/func_graph.py?line=987'>988</a>\u001b[0m   _, original_func \u001b[39m=\u001b[39m tf_decorator\u001b[39m.\u001b[39munwrap(python_func)\n\u001b[0;32m--> <a href='file:///Users/daniel/opt/anaconda3/envs/carrosell2/lib/python3.8/site-packages/tensorflow/python/framework/func_graph.py?line=989'>990</a>\u001b[0m func_outputs \u001b[39m=\u001b[39m python_func(\u001b[39m*\u001b[39;49mfunc_args, \u001b[39m*\u001b[39;49m\u001b[39m*\u001b[39;49mfunc_kwargs)\n\u001b[1;32m    <a href='file:///Users/daniel/opt/anaconda3/envs/carrosell2/lib/python3.8/site-packages/tensorflow/python/framework/func_graph.py?line=991'>992</a>\u001b[0m \u001b[39m# invariant: `func_outputs` contains only Tensors, CompositeTensors,\u001b[39;00m\n\u001b[1;32m    <a href='file:///Users/daniel/opt/anaconda3/envs/carrosell2/lib/python3.8/site-packages/tensorflow/python/framework/func_graph.py?line=992'>993</a>\u001b[0m \u001b[39m# TensorArrays and `None`s.\u001b[39;00m\n\u001b[1;32m    <a href='file:///Users/daniel/opt/anaconda3/envs/carrosell2/lib/python3.8/site-packages/tensorflow/python/framework/func_graph.py?line=993'>994</a>\u001b[0m func_outputs \u001b[39m=\u001b[39m nest\u001b[39m.\u001b[39mmap_structure(convert, func_outputs,\n\u001b[1;32m    <a href='file:///Users/daniel/opt/anaconda3/envs/carrosell2/lib/python3.8/site-packages/tensorflow/python/framework/func_graph.py?line=994'>995</a>\u001b[0m                                   expand_composites\u001b[39m=\u001b[39m\u001b[39mTrue\u001b[39;00m)\n",
      "File \u001b[0;32m~/opt/anaconda3/envs/carrosell2/lib/python3.8/site-packages/tensorflow/python/eager/def_function.py:634\u001b[0m, in \u001b[0;36mFunction._defun_with_scope.<locals>.wrapped_fn\u001b[0;34m(*args, **kwds)\u001b[0m\n\u001b[1;32m    <a href='file:///Users/daniel/opt/anaconda3/envs/carrosell2/lib/python3.8/site-packages/tensorflow/python/eager/def_function.py?line=631'>632</a>\u001b[0m     xla_context\u001b[39m.\u001b[39mExit()\n\u001b[1;32m    <a href='file:///Users/daniel/opt/anaconda3/envs/carrosell2/lib/python3.8/site-packages/tensorflow/python/eager/def_function.py?line=632'>633</a>\u001b[0m \u001b[39melse\u001b[39;00m:\n\u001b[0;32m--> <a href='file:///Users/daniel/opt/anaconda3/envs/carrosell2/lib/python3.8/site-packages/tensorflow/python/eager/def_function.py?line=633'>634</a>\u001b[0m   out \u001b[39m=\u001b[39m weak_wrapped_fn()\u001b[39m.\u001b[39;49m__wrapped__(\u001b[39m*\u001b[39;49margs, \u001b[39m*\u001b[39;49m\u001b[39m*\u001b[39;49mkwds)\n\u001b[1;32m    <a href='file:///Users/daniel/opt/anaconda3/envs/carrosell2/lib/python3.8/site-packages/tensorflow/python/eager/def_function.py?line=634'>635</a>\u001b[0m \u001b[39mreturn\u001b[39;00m out\n",
      "File \u001b[0;32m~/opt/anaconda3/envs/carrosell2/lib/python3.8/site-packages/tensorflow/python/framework/func_graph.py:977\u001b[0m, in \u001b[0;36mfunc_graph_from_py_func.<locals>.wrapper\u001b[0;34m(*args, **kwargs)\u001b[0m\n\u001b[1;32m    <a href='file:///Users/daniel/opt/anaconda3/envs/carrosell2/lib/python3.8/site-packages/tensorflow/python/framework/func_graph.py?line=974'>975</a>\u001b[0m \u001b[39mexcept\u001b[39;00m \u001b[39mException\u001b[39;00m \u001b[39mas\u001b[39;00m e:  \u001b[39m# pylint:disable=broad-except\u001b[39;00m\n\u001b[1;32m    <a href='file:///Users/daniel/opt/anaconda3/envs/carrosell2/lib/python3.8/site-packages/tensorflow/python/framework/func_graph.py?line=975'>976</a>\u001b[0m   \u001b[39mif\u001b[39;00m \u001b[39mhasattr\u001b[39m(e, \u001b[39m\"\u001b[39m\u001b[39mag_error_metadata\u001b[39m\u001b[39m\"\u001b[39m):\n\u001b[0;32m--> <a href='file:///Users/daniel/opt/anaconda3/envs/carrosell2/lib/python3.8/site-packages/tensorflow/python/framework/func_graph.py?line=976'>977</a>\u001b[0m     \u001b[39mraise\u001b[39;00m e\u001b[39m.\u001b[39mag_error_metadata\u001b[39m.\u001b[39mto_exception(e)\n\u001b[1;32m    <a href='file:///Users/daniel/opt/anaconda3/envs/carrosell2/lib/python3.8/site-packages/tensorflow/python/framework/func_graph.py?line=977'>978</a>\u001b[0m   \u001b[39melse\u001b[39;00m:\n\u001b[1;32m    <a href='file:///Users/daniel/opt/anaconda3/envs/carrosell2/lib/python3.8/site-packages/tensorflow/python/framework/func_graph.py?line=978'>979</a>\u001b[0m     \u001b[39mraise\u001b[39;00m\n",
      "\u001b[0;31mValueError\u001b[0m: in user code:\n\n    /Users/daniel/opt/anaconda3/envs/carrosell2/lib/python3.8/site-packages/tensorflow/python/keras/engine/training.py:805 train_function  *\n        return step_function(self, iterator)\n    /Users/daniel/opt/anaconda3/envs/carrosell2/lib/python3.8/site-packages/tensorflow/python/keras/engine/training.py:795 step_function  **\n        outputs = model.distribute_strategy.run(run_step, args=(data,))\n    /Users/daniel/opt/anaconda3/envs/carrosell2/lib/python3.8/site-packages/tensorflow/python/distribute/distribute_lib.py:1259 run\n        return self._extended.call_for_each_replica(fn, args=args, kwargs=kwargs)\n    /Users/daniel/opt/anaconda3/envs/carrosell2/lib/python3.8/site-packages/tensorflow/python/distribute/distribute_lib.py:2730 call_for_each_replica\n        return self._call_for_each_replica(fn, args, kwargs)\n    /Users/daniel/opt/anaconda3/envs/carrosell2/lib/python3.8/site-packages/tensorflow/python/distribute/distribute_lib.py:3417 _call_for_each_replica\n        return fn(*args, **kwargs)\n    /Users/daniel/opt/anaconda3/envs/carrosell2/lib/python3.8/site-packages/tensorflow/python/keras/engine/training.py:788 run_step  **\n        outputs = model.train_step(data)\n    /Users/daniel/opt/anaconda3/envs/carrosell2/lib/python3.8/site-packages/tensorflow/python/keras/engine/training.py:754 train_step\n        y_pred = self(x, training=True)\n    /Users/daniel/opt/anaconda3/envs/carrosell2/lib/python3.8/site-packages/tensorflow/python/keras/engine/base_layer.py:998 __call__\n        input_spec.assert_input_compatibility(self.input_spec, inputs, self.name)\n    /Users/daniel/opt/anaconda3/envs/carrosell2/lib/python3.8/site-packages/tensorflow/python/keras/engine/input_spec.py:219 assert_input_compatibility\n        raise ValueError('Input ' + str(input_index) + ' of layer ' +\n\n    ValueError: Input 0 of layer sequential_16 is incompatible with the layer: expected ndim=3, found ndim=2. Full shape received: (None, 36)\n"
     ]
    }
   ],
   "source": [
    "hist = model_2.fit(X_train_2, Y_train_2, validation_data=(X_test_2, Y_test_2), epochs=100, batch_size=64)"
   ]
  },
  {
   "cell_type": "code",
   "execution_count": 154,
   "metadata": {},
   "outputs": [],
   "source": [
    "from tqdm import tqdm\n",
    "def run_experiment(df, start=1, end=10, epochs=100, batch_size=64):\n",
    "    \"\"\"\n",
    "    Conduct an experiment to identify the optimal window size.\n",
    "    start: Starting window size\n",
    "    end: Ending window size\n",
    "    Return: A dictionary containing validation accuracy for each window size\n",
    "    \"\"\"\n",
    "    results = {}\n",
    "    for cur_win_size in tqdm(range(start, end + 1)):\n",
    "        X_train, X_test, Y_train, Y_test = get_data_split(df, window_size=cur_win_size)\n",
    "        model = build_model(X_dim=X_train.shape[1])\n",
    "        hist = model.fit(X_train, Y_train, validation_data=(X_test, Y_test), epochs=epochs, batch_size=batch_size)\n",
    "        results[cur_win_size] = hist.history['accuracy'][-1]\n",
    "    return results"
   ]
  },
  {
   "cell_type": "code",
   "execution_count": 155,
   "metadata": {},
   "outputs": [
    {
     "name": "stderr",
     "output_type": "stream",
     "text": [
      "  0%|          | 0/10 [00:00<?, ?it/s]\n"
     ]
    },
    {
     "name": "stdout",
     "output_type": "stream",
     "text": [
      "    Price       sma       ema       cma      macd    macd_s    macd_h  \\\n",
      "0  1.3363  1.344735  1.336730  1.335315  0.002701  0.005461 -0.002760   \n",
      "1  1.3352  1.344925  1.335553  1.335311  0.001906  0.004750 -0.002844   \n",
      "2  1.3388  1.345260  1.338051  1.335408  0.001549  0.004109 -0.002561   \n",
      "3  1.3281  1.345075  1.330396  1.335211  0.000398  0.003367 -0.002969   \n",
      "4  1.3189  1.344140  1.321553  1.334782 -0.001242  0.002445 -0.003688   \n",
      "\n",
      "        roc        rsi  Bollinger_up  Bollinger_down         cci  \n",
      "0 -0.000150  39.939646      1.364281        1.325189  -62.849696  \n",
      "1 -0.004102  38.588551      1.363994        1.325856  -68.561252  \n",
      "2 -0.004906  45.544851      1.363601        1.326919  -57.039491  \n",
      "3 -0.012785  32.802173      1.364052        1.326098  -90.131403  \n",
      "4 -0.012873  25.675429      1.366251        1.322029 -149.263447  \n",
      "Model: \"sequential_12\"\n",
      "_________________________________________________________________\n",
      "Layer (type)                 Output Shape              Param #   \n",
      "=================================================================\n",
      "lstm_13 (LSTM)               (None, 100)               40800     \n",
      "_________________________________________________________________\n",
      "dense_12 (Dense)             (None, 3)                 303       \n",
      "=================================================================\n",
      "Total params: 41,103\n",
      "Trainable params: 41,103\n",
      "Non-trainable params: 0\n",
      "_________________________________________________________________\n",
      "Epoch 1/100\n"
     ]
    },
    {
     "ename": "ValueError",
     "evalue": "in user code:\n\n    /Users/daniel/opt/anaconda3/envs/carrosell2/lib/python3.8/site-packages/tensorflow/python/keras/engine/training.py:805 train_function  *\n        return step_function(self, iterator)\n    /Users/daniel/opt/anaconda3/envs/carrosell2/lib/python3.8/site-packages/tensorflow/python/keras/engine/training.py:795 step_function  **\n        outputs = model.distribute_strategy.run(run_step, args=(data,))\n    /Users/daniel/opt/anaconda3/envs/carrosell2/lib/python3.8/site-packages/tensorflow/python/distribute/distribute_lib.py:1259 run\n        return self._extended.call_for_each_replica(fn, args=args, kwargs=kwargs)\n    /Users/daniel/opt/anaconda3/envs/carrosell2/lib/python3.8/site-packages/tensorflow/python/distribute/distribute_lib.py:2730 call_for_each_replica\n        return self._call_for_each_replica(fn, args, kwargs)\n    /Users/daniel/opt/anaconda3/envs/carrosell2/lib/python3.8/site-packages/tensorflow/python/distribute/distribute_lib.py:3417 _call_for_each_replica\n        return fn(*args, **kwargs)\n    /Users/daniel/opt/anaconda3/envs/carrosell2/lib/python3.8/site-packages/tensorflow/python/keras/engine/training.py:788 run_step  **\n        outputs = model.train_step(data)\n    /Users/daniel/opt/anaconda3/envs/carrosell2/lib/python3.8/site-packages/tensorflow/python/keras/engine/training.py:754 train_step\n        y_pred = self(x, training=True)\n    /Users/daniel/opt/anaconda3/envs/carrosell2/lib/python3.8/site-packages/tensorflow/python/keras/engine/base_layer.py:998 __call__\n        input_spec.assert_input_compatibility(self.input_spec, inputs, self.name)\n    /Users/daniel/opt/anaconda3/envs/carrosell2/lib/python3.8/site-packages/tensorflow/python/keras/engine/input_spec.py:219 assert_input_compatibility\n        raise ValueError('Input ' + str(input_index) + ' of layer ' +\n\n    ValueError: Input 0 of layer sequential_12 is incompatible with the layer: expected ndim=3, found ndim=2. Full shape received: (None, 12)\n",
     "output_type": "error",
     "traceback": [
      "\u001b[0;31m---------------------------------------------------------------------------\u001b[0m",
      "\u001b[0;31mValueError\u001b[0m                                Traceback (most recent call last)",
      "\u001b[1;32m/Users/daniel/Documents/GitHub/Open-Banking-ML/notebooks/signal/Baseline_LSTM_v2.ipynb Cell 13'\u001b[0m in \u001b[0;36m<cell line: 1>\u001b[0;34m()\u001b[0m\n\u001b[0;32m----> <a href='vscode-notebook-cell:/Users/daniel/Documents/GitHub/Open-Banking-ML/notebooks/signal/Baseline_LSTM_v2.ipynb#ch0000009?line=0'>1</a>\u001b[0m results \u001b[39m=\u001b[39m run_experiment(df)\n\u001b[1;32m      <a href='vscode-notebook-cell:/Users/daniel/Documents/GitHub/Open-Banking-ML/notebooks/signal/Baseline_LSTM_v2.ipynb#ch0000009?line=1'>2</a>\u001b[0m results\n",
      "\u001b[1;32m/Users/daniel/Documents/GitHub/Open-Banking-ML/notebooks/signal/Baseline_LSTM_v2.ipynb Cell 12'\u001b[0m in \u001b[0;36mrun_experiment\u001b[0;34m(df, start, end, epochs, batch_size)\u001b[0m\n\u001b[1;32m     <a href='vscode-notebook-cell:/Users/daniel/Documents/GitHub/Open-Banking-ML/notebooks/signal/Baseline_LSTM_v2.ipynb#ch0000008?line=10'>11</a>\u001b[0m     X_train, X_test, Y_train, Y_test \u001b[39m=\u001b[39m get_data_split(df, window_size\u001b[39m=\u001b[39mcur_win_size)\n\u001b[1;32m     <a href='vscode-notebook-cell:/Users/daniel/Documents/GitHub/Open-Banking-ML/notebooks/signal/Baseline_LSTM_v2.ipynb#ch0000008?line=11'>12</a>\u001b[0m     model \u001b[39m=\u001b[39m build_model(X_dim\u001b[39m=\u001b[39mX_train\u001b[39m.\u001b[39mshape[\u001b[39m1\u001b[39m])\n\u001b[0;32m---> <a href='vscode-notebook-cell:/Users/daniel/Documents/GitHub/Open-Banking-ML/notebooks/signal/Baseline_LSTM_v2.ipynb#ch0000008?line=12'>13</a>\u001b[0m     hist \u001b[39m=\u001b[39m model\u001b[39m.\u001b[39;49mfit(X_train, Y_train, validation_data\u001b[39m=\u001b[39;49m(X_test, Y_test), epochs\u001b[39m=\u001b[39;49mepochs, batch_size\u001b[39m=\u001b[39;49mbatch_size)\n\u001b[1;32m     <a href='vscode-notebook-cell:/Users/daniel/Documents/GitHub/Open-Banking-ML/notebooks/signal/Baseline_LSTM_v2.ipynb#ch0000008?line=13'>14</a>\u001b[0m     results[cur_win_size] \u001b[39m=\u001b[39m hist\u001b[39m.\u001b[39mhistory[\u001b[39m'\u001b[39m\u001b[39maccuracy\u001b[39m\u001b[39m'\u001b[39m][\u001b[39m-\u001b[39m\u001b[39m1\u001b[39m]\n\u001b[1;32m     <a href='vscode-notebook-cell:/Users/daniel/Documents/GitHub/Open-Banking-ML/notebooks/signal/Baseline_LSTM_v2.ipynb#ch0000008?line=14'>15</a>\u001b[0m \u001b[39mreturn\u001b[39;00m results\n",
      "File \u001b[0;32m~/opt/anaconda3/envs/carrosell2/lib/python3.8/site-packages/tensorflow/python/keras/engine/training.py:1100\u001b[0m, in \u001b[0;36mModel.fit\u001b[0;34m(self, x, y, batch_size, epochs, verbose, callbacks, validation_split, validation_data, shuffle, class_weight, sample_weight, initial_epoch, steps_per_epoch, validation_steps, validation_batch_size, validation_freq, max_queue_size, workers, use_multiprocessing)\u001b[0m\n\u001b[1;32m   <a href='file:///Users/daniel/opt/anaconda3/envs/carrosell2/lib/python3.8/site-packages/tensorflow/python/keras/engine/training.py?line=1092'>1093</a>\u001b[0m \u001b[39mwith\u001b[39;00m trace\u001b[39m.\u001b[39mTrace(\n\u001b[1;32m   <a href='file:///Users/daniel/opt/anaconda3/envs/carrosell2/lib/python3.8/site-packages/tensorflow/python/keras/engine/training.py?line=1093'>1094</a>\u001b[0m     \u001b[39m'\u001b[39m\u001b[39mtrain\u001b[39m\u001b[39m'\u001b[39m,\n\u001b[1;32m   <a href='file:///Users/daniel/opt/anaconda3/envs/carrosell2/lib/python3.8/site-packages/tensorflow/python/keras/engine/training.py?line=1094'>1095</a>\u001b[0m     epoch_num\u001b[39m=\u001b[39mepoch,\n\u001b[1;32m   <a href='file:///Users/daniel/opt/anaconda3/envs/carrosell2/lib/python3.8/site-packages/tensorflow/python/keras/engine/training.py?line=1095'>1096</a>\u001b[0m     step_num\u001b[39m=\u001b[39mstep,\n\u001b[1;32m   <a href='file:///Users/daniel/opt/anaconda3/envs/carrosell2/lib/python3.8/site-packages/tensorflow/python/keras/engine/training.py?line=1096'>1097</a>\u001b[0m     batch_size\u001b[39m=\u001b[39mbatch_size,\n\u001b[1;32m   <a href='file:///Users/daniel/opt/anaconda3/envs/carrosell2/lib/python3.8/site-packages/tensorflow/python/keras/engine/training.py?line=1097'>1098</a>\u001b[0m     _r\u001b[39m=\u001b[39m\u001b[39m1\u001b[39m):\n\u001b[1;32m   <a href='file:///Users/daniel/opt/anaconda3/envs/carrosell2/lib/python3.8/site-packages/tensorflow/python/keras/engine/training.py?line=1098'>1099</a>\u001b[0m   callbacks\u001b[39m.\u001b[39mon_train_batch_begin(step)\n\u001b[0;32m-> <a href='file:///Users/daniel/opt/anaconda3/envs/carrosell2/lib/python3.8/site-packages/tensorflow/python/keras/engine/training.py?line=1099'>1100</a>\u001b[0m   tmp_logs \u001b[39m=\u001b[39m \u001b[39mself\u001b[39;49m\u001b[39m.\u001b[39;49mtrain_function(iterator)\n\u001b[1;32m   <a href='file:///Users/daniel/opt/anaconda3/envs/carrosell2/lib/python3.8/site-packages/tensorflow/python/keras/engine/training.py?line=1100'>1101</a>\u001b[0m   \u001b[39mif\u001b[39;00m data_handler\u001b[39m.\u001b[39mshould_sync:\n\u001b[1;32m   <a href='file:///Users/daniel/opt/anaconda3/envs/carrosell2/lib/python3.8/site-packages/tensorflow/python/keras/engine/training.py?line=1101'>1102</a>\u001b[0m     context\u001b[39m.\u001b[39masync_wait()\n",
      "File \u001b[0;32m~/opt/anaconda3/envs/carrosell2/lib/python3.8/site-packages/tensorflow/python/eager/def_function.py:828\u001b[0m, in \u001b[0;36mFunction.__call__\u001b[0;34m(self, *args, **kwds)\u001b[0m\n\u001b[1;32m    <a href='file:///Users/daniel/opt/anaconda3/envs/carrosell2/lib/python3.8/site-packages/tensorflow/python/eager/def_function.py?line=825'>826</a>\u001b[0m tracing_count \u001b[39m=\u001b[39m \u001b[39mself\u001b[39m\u001b[39m.\u001b[39mexperimental_get_tracing_count()\n\u001b[1;32m    <a href='file:///Users/daniel/opt/anaconda3/envs/carrosell2/lib/python3.8/site-packages/tensorflow/python/eager/def_function.py?line=826'>827</a>\u001b[0m \u001b[39mwith\u001b[39;00m trace\u001b[39m.\u001b[39mTrace(\u001b[39mself\u001b[39m\u001b[39m.\u001b[39m_name) \u001b[39mas\u001b[39;00m tm:\n\u001b[0;32m--> <a href='file:///Users/daniel/opt/anaconda3/envs/carrosell2/lib/python3.8/site-packages/tensorflow/python/eager/def_function.py?line=827'>828</a>\u001b[0m   result \u001b[39m=\u001b[39m \u001b[39mself\u001b[39;49m\u001b[39m.\u001b[39;49m_call(\u001b[39m*\u001b[39;49margs, \u001b[39m*\u001b[39;49m\u001b[39m*\u001b[39;49mkwds)\n\u001b[1;32m    <a href='file:///Users/daniel/opt/anaconda3/envs/carrosell2/lib/python3.8/site-packages/tensorflow/python/eager/def_function.py?line=828'>829</a>\u001b[0m   compiler \u001b[39m=\u001b[39m \u001b[39m\"\u001b[39m\u001b[39mxla\u001b[39m\u001b[39m\"\u001b[39m \u001b[39mif\u001b[39;00m \u001b[39mself\u001b[39m\u001b[39m.\u001b[39m_experimental_compile \u001b[39melse\u001b[39;00m \u001b[39m\"\u001b[39m\u001b[39mnonXla\u001b[39m\u001b[39m\"\u001b[39m\n\u001b[1;32m    <a href='file:///Users/daniel/opt/anaconda3/envs/carrosell2/lib/python3.8/site-packages/tensorflow/python/eager/def_function.py?line=829'>830</a>\u001b[0m   new_tracing_count \u001b[39m=\u001b[39m \u001b[39mself\u001b[39m\u001b[39m.\u001b[39mexperimental_get_tracing_count()\n",
      "File \u001b[0;32m~/opt/anaconda3/envs/carrosell2/lib/python3.8/site-packages/tensorflow/python/eager/def_function.py:871\u001b[0m, in \u001b[0;36mFunction._call\u001b[0;34m(self, *args, **kwds)\u001b[0m\n\u001b[1;32m    <a href='file:///Users/daniel/opt/anaconda3/envs/carrosell2/lib/python3.8/site-packages/tensorflow/python/eager/def_function.py?line=867'>868</a>\u001b[0m \u001b[39mtry\u001b[39;00m:\n\u001b[1;32m    <a href='file:///Users/daniel/opt/anaconda3/envs/carrosell2/lib/python3.8/site-packages/tensorflow/python/eager/def_function.py?line=868'>869</a>\u001b[0m   \u001b[39m# This is the first call of __call__, so we have to initialize.\u001b[39;00m\n\u001b[1;32m    <a href='file:///Users/daniel/opt/anaconda3/envs/carrosell2/lib/python3.8/site-packages/tensorflow/python/eager/def_function.py?line=869'>870</a>\u001b[0m   initializers \u001b[39m=\u001b[39m []\n\u001b[0;32m--> <a href='file:///Users/daniel/opt/anaconda3/envs/carrosell2/lib/python3.8/site-packages/tensorflow/python/eager/def_function.py?line=870'>871</a>\u001b[0m   \u001b[39mself\u001b[39;49m\u001b[39m.\u001b[39;49m_initialize(args, kwds, add_initializers_to\u001b[39m=\u001b[39;49minitializers)\n\u001b[1;32m    <a href='file:///Users/daniel/opt/anaconda3/envs/carrosell2/lib/python3.8/site-packages/tensorflow/python/eager/def_function.py?line=871'>872</a>\u001b[0m \u001b[39mfinally\u001b[39;00m:\n\u001b[1;32m    <a href='file:///Users/daniel/opt/anaconda3/envs/carrosell2/lib/python3.8/site-packages/tensorflow/python/eager/def_function.py?line=872'>873</a>\u001b[0m   \u001b[39m# At this point we know that the initialization is complete (or less\u001b[39;00m\n\u001b[1;32m    <a href='file:///Users/daniel/opt/anaconda3/envs/carrosell2/lib/python3.8/site-packages/tensorflow/python/eager/def_function.py?line=873'>874</a>\u001b[0m   \u001b[39m# interestingly an exception was raised) so we no longer need a lock.\u001b[39;00m\n\u001b[1;32m    <a href='file:///Users/daniel/opt/anaconda3/envs/carrosell2/lib/python3.8/site-packages/tensorflow/python/eager/def_function.py?line=874'>875</a>\u001b[0m   \u001b[39mself\u001b[39m\u001b[39m.\u001b[39m_lock\u001b[39m.\u001b[39mrelease()\n",
      "File \u001b[0;32m~/opt/anaconda3/envs/carrosell2/lib/python3.8/site-packages/tensorflow/python/eager/def_function.py:725\u001b[0m, in \u001b[0;36mFunction._initialize\u001b[0;34m(self, args, kwds, add_initializers_to)\u001b[0m\n\u001b[1;32m    <a href='file:///Users/daniel/opt/anaconda3/envs/carrosell2/lib/python3.8/site-packages/tensorflow/python/eager/def_function.py?line=721'>722</a>\u001b[0m \u001b[39mself\u001b[39m\u001b[39m.\u001b[39m_lifted_initializer_graph \u001b[39m=\u001b[39m lifted_initializer_graph\n\u001b[1;32m    <a href='file:///Users/daniel/opt/anaconda3/envs/carrosell2/lib/python3.8/site-packages/tensorflow/python/eager/def_function.py?line=722'>723</a>\u001b[0m \u001b[39mself\u001b[39m\u001b[39m.\u001b[39m_graph_deleter \u001b[39m=\u001b[39m FunctionDeleter(\u001b[39mself\u001b[39m\u001b[39m.\u001b[39m_lifted_initializer_graph)\n\u001b[1;32m    <a href='file:///Users/daniel/opt/anaconda3/envs/carrosell2/lib/python3.8/site-packages/tensorflow/python/eager/def_function.py?line=723'>724</a>\u001b[0m \u001b[39mself\u001b[39m\u001b[39m.\u001b[39m_concrete_stateful_fn \u001b[39m=\u001b[39m (\n\u001b[0;32m--> <a href='file:///Users/daniel/opt/anaconda3/envs/carrosell2/lib/python3.8/site-packages/tensorflow/python/eager/def_function.py?line=724'>725</a>\u001b[0m     \u001b[39mself\u001b[39;49m\u001b[39m.\u001b[39;49m_stateful_fn\u001b[39m.\u001b[39;49m_get_concrete_function_internal_garbage_collected(  \u001b[39m# pylint: disable=protected-access\u001b[39;49;00m\n\u001b[1;32m    <a href='file:///Users/daniel/opt/anaconda3/envs/carrosell2/lib/python3.8/site-packages/tensorflow/python/eager/def_function.py?line=725'>726</a>\u001b[0m         \u001b[39m*\u001b[39;49margs, \u001b[39m*\u001b[39;49m\u001b[39m*\u001b[39;49mkwds))\n\u001b[1;32m    <a href='file:///Users/daniel/opt/anaconda3/envs/carrosell2/lib/python3.8/site-packages/tensorflow/python/eager/def_function.py?line=727'>728</a>\u001b[0m \u001b[39mdef\u001b[39;00m \u001b[39minvalid_creator_scope\u001b[39m(\u001b[39m*\u001b[39munused_args, \u001b[39m*\u001b[39m\u001b[39m*\u001b[39munused_kwds):\n\u001b[1;32m    <a href='file:///Users/daniel/opt/anaconda3/envs/carrosell2/lib/python3.8/site-packages/tensorflow/python/eager/def_function.py?line=728'>729</a>\u001b[0m   \u001b[39m\"\"\"Disables variable creation.\"\"\"\u001b[39;00m\n",
      "File \u001b[0;32m~/opt/anaconda3/envs/carrosell2/lib/python3.8/site-packages/tensorflow/python/eager/function.py:2969\u001b[0m, in \u001b[0;36mFunction._get_concrete_function_internal_garbage_collected\u001b[0;34m(self, *args, **kwargs)\u001b[0m\n\u001b[1;32m   <a href='file:///Users/daniel/opt/anaconda3/envs/carrosell2/lib/python3.8/site-packages/tensorflow/python/eager/function.py?line=2966'>2967</a>\u001b[0m   args, kwargs \u001b[39m=\u001b[39m \u001b[39mNone\u001b[39;00m, \u001b[39mNone\u001b[39;00m\n\u001b[1;32m   <a href='file:///Users/daniel/opt/anaconda3/envs/carrosell2/lib/python3.8/site-packages/tensorflow/python/eager/function.py?line=2967'>2968</a>\u001b[0m \u001b[39mwith\u001b[39;00m \u001b[39mself\u001b[39m\u001b[39m.\u001b[39m_lock:\n\u001b[0;32m-> <a href='file:///Users/daniel/opt/anaconda3/envs/carrosell2/lib/python3.8/site-packages/tensorflow/python/eager/function.py?line=2968'>2969</a>\u001b[0m   graph_function, _ \u001b[39m=\u001b[39m \u001b[39mself\u001b[39;49m\u001b[39m.\u001b[39;49m_maybe_define_function(args, kwargs)\n\u001b[1;32m   <a href='file:///Users/daniel/opt/anaconda3/envs/carrosell2/lib/python3.8/site-packages/tensorflow/python/eager/function.py?line=2969'>2970</a>\u001b[0m \u001b[39mreturn\u001b[39;00m graph_function\n",
      "File \u001b[0;32m~/opt/anaconda3/envs/carrosell2/lib/python3.8/site-packages/tensorflow/python/eager/function.py:3361\u001b[0m, in \u001b[0;36mFunction._maybe_define_function\u001b[0;34m(self, args, kwargs)\u001b[0m\n\u001b[1;32m   <a href='file:///Users/daniel/opt/anaconda3/envs/carrosell2/lib/python3.8/site-packages/tensorflow/python/eager/function.py?line=3356'>3357</a>\u001b[0m   \u001b[39mreturn\u001b[39;00m \u001b[39mself\u001b[39m\u001b[39m.\u001b[39m_define_function_with_shape_relaxation(\n\u001b[1;32m   <a href='file:///Users/daniel/opt/anaconda3/envs/carrosell2/lib/python3.8/site-packages/tensorflow/python/eager/function.py?line=3357'>3358</a>\u001b[0m       args, kwargs, flat_args, filtered_flat_args, cache_key_context)\n\u001b[1;32m   <a href='file:///Users/daniel/opt/anaconda3/envs/carrosell2/lib/python3.8/site-packages/tensorflow/python/eager/function.py?line=3359'>3360</a>\u001b[0m \u001b[39mself\u001b[39m\u001b[39m.\u001b[39m_function_cache\u001b[39m.\u001b[39mmissed\u001b[39m.\u001b[39madd(call_context_key)\n\u001b[0;32m-> <a href='file:///Users/daniel/opt/anaconda3/envs/carrosell2/lib/python3.8/site-packages/tensorflow/python/eager/function.py?line=3360'>3361</a>\u001b[0m graph_function \u001b[39m=\u001b[39m \u001b[39mself\u001b[39;49m\u001b[39m.\u001b[39;49m_create_graph_function(args, kwargs)\n\u001b[1;32m   <a href='file:///Users/daniel/opt/anaconda3/envs/carrosell2/lib/python3.8/site-packages/tensorflow/python/eager/function.py?line=3361'>3362</a>\u001b[0m \u001b[39mself\u001b[39m\u001b[39m.\u001b[39m_function_cache\u001b[39m.\u001b[39mprimary[cache_key] \u001b[39m=\u001b[39m graph_function\n\u001b[1;32m   <a href='file:///Users/daniel/opt/anaconda3/envs/carrosell2/lib/python3.8/site-packages/tensorflow/python/eager/function.py?line=3363'>3364</a>\u001b[0m \u001b[39mreturn\u001b[39;00m graph_function, filtered_flat_args\n",
      "File \u001b[0;32m~/opt/anaconda3/envs/carrosell2/lib/python3.8/site-packages/tensorflow/python/eager/function.py:3196\u001b[0m, in \u001b[0;36mFunction._create_graph_function\u001b[0;34m(self, args, kwargs, override_flat_arg_shapes)\u001b[0m\n\u001b[1;32m   <a href='file:///Users/daniel/opt/anaconda3/envs/carrosell2/lib/python3.8/site-packages/tensorflow/python/eager/function.py?line=3190'>3191</a>\u001b[0m missing_arg_names \u001b[39m=\u001b[39m [\n\u001b[1;32m   <a href='file:///Users/daniel/opt/anaconda3/envs/carrosell2/lib/python3.8/site-packages/tensorflow/python/eager/function.py?line=3191'>3192</a>\u001b[0m     \u001b[39m\"\u001b[39m\u001b[39m%s\u001b[39;00m\u001b[39m_\u001b[39m\u001b[39m%d\u001b[39;00m\u001b[39m\"\u001b[39m \u001b[39m%\u001b[39m (arg, i) \u001b[39mfor\u001b[39;00m i, arg \u001b[39min\u001b[39;00m \u001b[39menumerate\u001b[39m(missing_arg_names)\n\u001b[1;32m   <a href='file:///Users/daniel/opt/anaconda3/envs/carrosell2/lib/python3.8/site-packages/tensorflow/python/eager/function.py?line=3192'>3193</a>\u001b[0m ]\n\u001b[1;32m   <a href='file:///Users/daniel/opt/anaconda3/envs/carrosell2/lib/python3.8/site-packages/tensorflow/python/eager/function.py?line=3193'>3194</a>\u001b[0m arg_names \u001b[39m=\u001b[39m base_arg_names \u001b[39m+\u001b[39m missing_arg_names\n\u001b[1;32m   <a href='file:///Users/daniel/opt/anaconda3/envs/carrosell2/lib/python3.8/site-packages/tensorflow/python/eager/function.py?line=3194'>3195</a>\u001b[0m graph_function \u001b[39m=\u001b[39m ConcreteFunction(\n\u001b[0;32m-> <a href='file:///Users/daniel/opt/anaconda3/envs/carrosell2/lib/python3.8/site-packages/tensorflow/python/eager/function.py?line=3195'>3196</a>\u001b[0m     func_graph_module\u001b[39m.\u001b[39;49mfunc_graph_from_py_func(\n\u001b[1;32m   <a href='file:///Users/daniel/opt/anaconda3/envs/carrosell2/lib/python3.8/site-packages/tensorflow/python/eager/function.py?line=3196'>3197</a>\u001b[0m         \u001b[39mself\u001b[39;49m\u001b[39m.\u001b[39;49m_name,\n\u001b[1;32m   <a href='file:///Users/daniel/opt/anaconda3/envs/carrosell2/lib/python3.8/site-packages/tensorflow/python/eager/function.py?line=3197'>3198</a>\u001b[0m         \u001b[39mself\u001b[39;49m\u001b[39m.\u001b[39;49m_python_function,\n\u001b[1;32m   <a href='file:///Users/daniel/opt/anaconda3/envs/carrosell2/lib/python3.8/site-packages/tensorflow/python/eager/function.py?line=3198'>3199</a>\u001b[0m         args,\n\u001b[1;32m   <a href='file:///Users/daniel/opt/anaconda3/envs/carrosell2/lib/python3.8/site-packages/tensorflow/python/eager/function.py?line=3199'>3200</a>\u001b[0m         kwargs,\n\u001b[1;32m   <a href='file:///Users/daniel/opt/anaconda3/envs/carrosell2/lib/python3.8/site-packages/tensorflow/python/eager/function.py?line=3200'>3201</a>\u001b[0m         \u001b[39mself\u001b[39;49m\u001b[39m.\u001b[39;49minput_signature,\n\u001b[1;32m   <a href='file:///Users/daniel/opt/anaconda3/envs/carrosell2/lib/python3.8/site-packages/tensorflow/python/eager/function.py?line=3201'>3202</a>\u001b[0m         autograph\u001b[39m=\u001b[39;49m\u001b[39mself\u001b[39;49m\u001b[39m.\u001b[39;49m_autograph,\n\u001b[1;32m   <a href='file:///Users/daniel/opt/anaconda3/envs/carrosell2/lib/python3.8/site-packages/tensorflow/python/eager/function.py?line=3202'>3203</a>\u001b[0m         autograph_options\u001b[39m=\u001b[39;49m\u001b[39mself\u001b[39;49m\u001b[39m.\u001b[39;49m_autograph_options,\n\u001b[1;32m   <a href='file:///Users/daniel/opt/anaconda3/envs/carrosell2/lib/python3.8/site-packages/tensorflow/python/eager/function.py?line=3203'>3204</a>\u001b[0m         arg_names\u001b[39m=\u001b[39;49marg_names,\n\u001b[1;32m   <a href='file:///Users/daniel/opt/anaconda3/envs/carrosell2/lib/python3.8/site-packages/tensorflow/python/eager/function.py?line=3204'>3205</a>\u001b[0m         override_flat_arg_shapes\u001b[39m=\u001b[39;49moverride_flat_arg_shapes,\n\u001b[1;32m   <a href='file:///Users/daniel/opt/anaconda3/envs/carrosell2/lib/python3.8/site-packages/tensorflow/python/eager/function.py?line=3205'>3206</a>\u001b[0m         capture_by_value\u001b[39m=\u001b[39;49m\u001b[39mself\u001b[39;49m\u001b[39m.\u001b[39;49m_capture_by_value),\n\u001b[1;32m   <a href='file:///Users/daniel/opt/anaconda3/envs/carrosell2/lib/python3.8/site-packages/tensorflow/python/eager/function.py?line=3206'>3207</a>\u001b[0m     \u001b[39mself\u001b[39m\u001b[39m.\u001b[39m_function_attributes,\n\u001b[1;32m   <a href='file:///Users/daniel/opt/anaconda3/envs/carrosell2/lib/python3.8/site-packages/tensorflow/python/eager/function.py?line=3207'>3208</a>\u001b[0m     function_spec\u001b[39m=\u001b[39m\u001b[39mself\u001b[39m\u001b[39m.\u001b[39mfunction_spec,\n\u001b[1;32m   <a href='file:///Users/daniel/opt/anaconda3/envs/carrosell2/lib/python3.8/site-packages/tensorflow/python/eager/function.py?line=3208'>3209</a>\u001b[0m     \u001b[39m# Tell the ConcreteFunction to clean up its graph once it goes out of\u001b[39;00m\n\u001b[1;32m   <a href='file:///Users/daniel/opt/anaconda3/envs/carrosell2/lib/python3.8/site-packages/tensorflow/python/eager/function.py?line=3209'>3210</a>\u001b[0m     \u001b[39m# scope. This is not the default behavior since it gets used in some\u001b[39;00m\n\u001b[1;32m   <a href='file:///Users/daniel/opt/anaconda3/envs/carrosell2/lib/python3.8/site-packages/tensorflow/python/eager/function.py?line=3210'>3211</a>\u001b[0m     \u001b[39m# places (like Keras) where the FuncGraph lives longer than the\u001b[39;00m\n\u001b[1;32m   <a href='file:///Users/daniel/opt/anaconda3/envs/carrosell2/lib/python3.8/site-packages/tensorflow/python/eager/function.py?line=3211'>3212</a>\u001b[0m     \u001b[39m# ConcreteFunction.\u001b[39;00m\n\u001b[1;32m   <a href='file:///Users/daniel/opt/anaconda3/envs/carrosell2/lib/python3.8/site-packages/tensorflow/python/eager/function.py?line=3212'>3213</a>\u001b[0m     shared_func_graph\u001b[39m=\u001b[39m\u001b[39mFalse\u001b[39;00m)\n\u001b[1;32m   <a href='file:///Users/daniel/opt/anaconda3/envs/carrosell2/lib/python3.8/site-packages/tensorflow/python/eager/function.py?line=3213'>3214</a>\u001b[0m \u001b[39mreturn\u001b[39;00m graph_function\n",
      "File \u001b[0;32m~/opt/anaconda3/envs/carrosell2/lib/python3.8/site-packages/tensorflow/python/framework/func_graph.py:990\u001b[0m, in \u001b[0;36mfunc_graph_from_py_func\u001b[0;34m(name, python_func, args, kwargs, signature, func_graph, autograph, autograph_options, add_control_dependencies, arg_names, op_return_value, collections, capture_by_value, override_flat_arg_shapes)\u001b[0m\n\u001b[1;32m    <a href='file:///Users/daniel/opt/anaconda3/envs/carrosell2/lib/python3.8/site-packages/tensorflow/python/framework/func_graph.py?line=986'>987</a>\u001b[0m \u001b[39melse\u001b[39;00m:\n\u001b[1;32m    <a href='file:///Users/daniel/opt/anaconda3/envs/carrosell2/lib/python3.8/site-packages/tensorflow/python/framework/func_graph.py?line=987'>988</a>\u001b[0m   _, original_func \u001b[39m=\u001b[39m tf_decorator\u001b[39m.\u001b[39munwrap(python_func)\n\u001b[0;32m--> <a href='file:///Users/daniel/opt/anaconda3/envs/carrosell2/lib/python3.8/site-packages/tensorflow/python/framework/func_graph.py?line=989'>990</a>\u001b[0m func_outputs \u001b[39m=\u001b[39m python_func(\u001b[39m*\u001b[39;49mfunc_args, \u001b[39m*\u001b[39;49m\u001b[39m*\u001b[39;49mfunc_kwargs)\n\u001b[1;32m    <a href='file:///Users/daniel/opt/anaconda3/envs/carrosell2/lib/python3.8/site-packages/tensorflow/python/framework/func_graph.py?line=991'>992</a>\u001b[0m \u001b[39m# invariant: `func_outputs` contains only Tensors, CompositeTensors,\u001b[39;00m\n\u001b[1;32m    <a href='file:///Users/daniel/opt/anaconda3/envs/carrosell2/lib/python3.8/site-packages/tensorflow/python/framework/func_graph.py?line=992'>993</a>\u001b[0m \u001b[39m# TensorArrays and `None`s.\u001b[39;00m\n\u001b[1;32m    <a href='file:///Users/daniel/opt/anaconda3/envs/carrosell2/lib/python3.8/site-packages/tensorflow/python/framework/func_graph.py?line=993'>994</a>\u001b[0m func_outputs \u001b[39m=\u001b[39m nest\u001b[39m.\u001b[39mmap_structure(convert, func_outputs,\n\u001b[1;32m    <a href='file:///Users/daniel/opt/anaconda3/envs/carrosell2/lib/python3.8/site-packages/tensorflow/python/framework/func_graph.py?line=994'>995</a>\u001b[0m                                   expand_composites\u001b[39m=\u001b[39m\u001b[39mTrue\u001b[39;00m)\n",
      "File \u001b[0;32m~/opt/anaconda3/envs/carrosell2/lib/python3.8/site-packages/tensorflow/python/eager/def_function.py:634\u001b[0m, in \u001b[0;36mFunction._defun_with_scope.<locals>.wrapped_fn\u001b[0;34m(*args, **kwds)\u001b[0m\n\u001b[1;32m    <a href='file:///Users/daniel/opt/anaconda3/envs/carrosell2/lib/python3.8/site-packages/tensorflow/python/eager/def_function.py?line=631'>632</a>\u001b[0m     xla_context\u001b[39m.\u001b[39mExit()\n\u001b[1;32m    <a href='file:///Users/daniel/opt/anaconda3/envs/carrosell2/lib/python3.8/site-packages/tensorflow/python/eager/def_function.py?line=632'>633</a>\u001b[0m \u001b[39melse\u001b[39;00m:\n\u001b[0;32m--> <a href='file:///Users/daniel/opt/anaconda3/envs/carrosell2/lib/python3.8/site-packages/tensorflow/python/eager/def_function.py?line=633'>634</a>\u001b[0m   out \u001b[39m=\u001b[39m weak_wrapped_fn()\u001b[39m.\u001b[39;49m__wrapped__(\u001b[39m*\u001b[39;49margs, \u001b[39m*\u001b[39;49m\u001b[39m*\u001b[39;49mkwds)\n\u001b[1;32m    <a href='file:///Users/daniel/opt/anaconda3/envs/carrosell2/lib/python3.8/site-packages/tensorflow/python/eager/def_function.py?line=634'>635</a>\u001b[0m \u001b[39mreturn\u001b[39;00m out\n",
      "File \u001b[0;32m~/opt/anaconda3/envs/carrosell2/lib/python3.8/site-packages/tensorflow/python/framework/func_graph.py:977\u001b[0m, in \u001b[0;36mfunc_graph_from_py_func.<locals>.wrapper\u001b[0;34m(*args, **kwargs)\u001b[0m\n\u001b[1;32m    <a href='file:///Users/daniel/opt/anaconda3/envs/carrosell2/lib/python3.8/site-packages/tensorflow/python/framework/func_graph.py?line=974'>975</a>\u001b[0m \u001b[39mexcept\u001b[39;00m \u001b[39mException\u001b[39;00m \u001b[39mas\u001b[39;00m e:  \u001b[39m# pylint:disable=broad-except\u001b[39;00m\n\u001b[1;32m    <a href='file:///Users/daniel/opt/anaconda3/envs/carrosell2/lib/python3.8/site-packages/tensorflow/python/framework/func_graph.py?line=975'>976</a>\u001b[0m   \u001b[39mif\u001b[39;00m \u001b[39mhasattr\u001b[39m(e, \u001b[39m\"\u001b[39m\u001b[39mag_error_metadata\u001b[39m\u001b[39m\"\u001b[39m):\n\u001b[0;32m--> <a href='file:///Users/daniel/opt/anaconda3/envs/carrosell2/lib/python3.8/site-packages/tensorflow/python/framework/func_graph.py?line=976'>977</a>\u001b[0m     \u001b[39mraise\u001b[39;00m e\u001b[39m.\u001b[39mag_error_metadata\u001b[39m.\u001b[39mto_exception(e)\n\u001b[1;32m    <a href='file:///Users/daniel/opt/anaconda3/envs/carrosell2/lib/python3.8/site-packages/tensorflow/python/framework/func_graph.py?line=977'>978</a>\u001b[0m   \u001b[39melse\u001b[39;00m:\n\u001b[1;32m    <a href='file:///Users/daniel/opt/anaconda3/envs/carrosell2/lib/python3.8/site-packages/tensorflow/python/framework/func_graph.py?line=978'>979</a>\u001b[0m     \u001b[39mraise\u001b[39;00m\n",
      "\u001b[0;31mValueError\u001b[0m: in user code:\n\n    /Users/daniel/opt/anaconda3/envs/carrosell2/lib/python3.8/site-packages/tensorflow/python/keras/engine/training.py:805 train_function  *\n        return step_function(self, iterator)\n    /Users/daniel/opt/anaconda3/envs/carrosell2/lib/python3.8/site-packages/tensorflow/python/keras/engine/training.py:795 step_function  **\n        outputs = model.distribute_strategy.run(run_step, args=(data,))\n    /Users/daniel/opt/anaconda3/envs/carrosell2/lib/python3.8/site-packages/tensorflow/python/distribute/distribute_lib.py:1259 run\n        return self._extended.call_for_each_replica(fn, args=args, kwargs=kwargs)\n    /Users/daniel/opt/anaconda3/envs/carrosell2/lib/python3.8/site-packages/tensorflow/python/distribute/distribute_lib.py:2730 call_for_each_replica\n        return self._call_for_each_replica(fn, args, kwargs)\n    /Users/daniel/opt/anaconda3/envs/carrosell2/lib/python3.8/site-packages/tensorflow/python/distribute/distribute_lib.py:3417 _call_for_each_replica\n        return fn(*args, **kwargs)\n    /Users/daniel/opt/anaconda3/envs/carrosell2/lib/python3.8/site-packages/tensorflow/python/keras/engine/training.py:788 run_step  **\n        outputs = model.train_step(data)\n    /Users/daniel/opt/anaconda3/envs/carrosell2/lib/python3.8/site-packages/tensorflow/python/keras/engine/training.py:754 train_step\n        y_pred = self(x, training=True)\n    /Users/daniel/opt/anaconda3/envs/carrosell2/lib/python3.8/site-packages/tensorflow/python/keras/engine/base_layer.py:998 __call__\n        input_spec.assert_input_compatibility(self.input_spec, inputs, self.name)\n    /Users/daniel/opt/anaconda3/envs/carrosell2/lib/python3.8/site-packages/tensorflow/python/keras/engine/input_spec.py:219 assert_input_compatibility\n        raise ValueError('Input ' + str(input_index) + ' of layer ' +\n\n    ValueError: Input 0 of layer sequential_12 is incompatible with the layer: expected ndim=3, found ndim=2. Full shape received: (None, 12)\n"
     ]
    }
   ],
   "source": [
    "results = run_experiment(df)\n",
    "results"
   ]
  },
  {
   "cell_type": "code",
   "execution_count": 7,
   "metadata": {},
   "outputs": [],
   "source": [
    "# Without price as a factor"
   ]
  },
  {
   "cell_type": "code",
   "execution_count": null,
   "metadata": {},
   "outputs": [],
   "source": []
  },
  {
   "cell_type": "markdown",
   "metadata": {},
   "source": [
    "# Attempt 2"
   ]
  },
  {
   "cell_type": "code",
   "execution_count": 216,
   "metadata": {},
   "outputs": [],
   "source": [
    "def lstm_data_transform(x_data, y_data, num_steps=3):\n",
    "    \"\"\" Changes data to the format for LSTM training for sliding window approach \"\"\"\n",
    "    # Prepare the list for the transformed data\n",
    "    X, y = list(), list()\n",
    "    # Loop of the entire data set\n",
    "    # for i in range(x_data.shape[0]):\n",
    "\n",
    "    for i in range(x_data.shape[0]):\n",
    "        # compute a new (sliding window) index\n",
    "        end_ix = i + num_steps\n",
    "        # if index is larger than the size of the dataset, we stop\n",
    "        if end_ix >= x_data.shape[0]:\n",
    "            break\n",
    "        # Get a sequence of data for x\n",
    "        seq_X = x_data[i:end_ix]\n",
    "        # Get only the last element of the sequency for y\n",
    "        seq_y = y_data[end_ix - 1]\n",
    "        # Append the list with sequencies\n",
    "        X.append(seq_X)\n",
    "        y.append(seq_y)\n",
    "    # Make final arrays\n",
    "    x_array = np.array(X)\n",
    "    y_array = np.array(y)\n",
    "    return x_array, y_array"
   ]
  },
  {
   "cell_type": "code",
   "execution_count": 250,
   "metadata": {},
   "outputs": [
    {
     "data": {
      "text/html": [
       "<div>\n",
       "<style scoped>\n",
       "    .dataframe tbody tr th:only-of-type {\n",
       "        vertical-align: middle;\n",
       "    }\n",
       "\n",
       "    .dataframe tbody tr th {\n",
       "        vertical-align: top;\n",
       "    }\n",
       "\n",
       "    .dataframe thead th {\n",
       "        text-align: right;\n",
       "    }\n",
       "</style>\n",
       "<table border=\"1\" class=\"dataframe\">\n",
       "  <thead>\n",
       "    <tr style=\"text-align: right;\">\n",
       "      <th></th>\n",
       "      <th>Date</th>\n",
       "      <th>Price</th>\n",
       "      <th>Open</th>\n",
       "      <th>High</th>\n",
       "      <th>Low</th>\n",
       "      <th>Change %</th>\n",
       "      <th>diff_1</th>\n",
       "      <th>label</th>\n",
       "      <th>sma</th>\n",
       "      <th>ema</th>\n",
       "      <th>...</th>\n",
       "      <th>macd</th>\n",
       "      <th>macd_s</th>\n",
       "      <th>macd_h</th>\n",
       "      <th>roc</th>\n",
       "      <th>rsi</th>\n",
       "      <th>Bollinger_up</th>\n",
       "      <th>Bollinger_down</th>\n",
       "      <th>cci</th>\n",
       "      <th>label_3days</th>\n",
       "      <th>label_5days</th>\n",
       "    </tr>\n",
       "  </thead>\n",
       "  <tbody>\n",
       "    <tr>\n",
       "      <th>0</th>\n",
       "      <td>2013-02-15</td>\n",
       "      <td>1.3363</td>\n",
       "      <td>1.3363</td>\n",
       "      <td>1.3394</td>\n",
       "      <td>1.3306</td>\n",
       "      <td>0.01%</td>\n",
       "      <td>0.0002</td>\n",
       "      <td>0.0</td>\n",
       "      <td>1.344735</td>\n",
       "      <td>1.336730</td>\n",
       "      <td>...</td>\n",
       "      <td>0.002701</td>\n",
       "      <td>0.005461</td>\n",
       "      <td>-0.002760</td>\n",
       "      <td>-0.000150</td>\n",
       "      <td>39.939646</td>\n",
       "      <td>1.364281</td>\n",
       "      <td>1.325189</td>\n",
       "      <td>-62.849696</td>\n",
       "      <td>1.0</td>\n",
       "      <td>0.0</td>\n",
       "    </tr>\n",
       "    <tr>\n",
       "      <th>1</th>\n",
       "      <td>2013-02-18</td>\n",
       "      <td>1.3352</td>\n",
       "      <td>1.3357</td>\n",
       "      <td>1.3377</td>\n",
       "      <td>1.3321</td>\n",
       "      <td>-0.08%</td>\n",
       "      <td>-0.0011</td>\n",
       "      <td>0.0</td>\n",
       "      <td>1.344925</td>\n",
       "      <td>1.335553</td>\n",
       "      <td>...</td>\n",
       "      <td>0.001906</td>\n",
       "      <td>0.004750</td>\n",
       "      <td>-0.002844</td>\n",
       "      <td>-0.004102</td>\n",
       "      <td>38.588551</td>\n",
       "      <td>1.363994</td>\n",
       "      <td>1.325856</td>\n",
       "      <td>-68.561252</td>\n",
       "      <td>1.0</td>\n",
       "      <td>1.0</td>\n",
       "    </tr>\n",
       "    <tr>\n",
       "      <th>2</th>\n",
       "      <td>2013-02-19</td>\n",
       "      <td>1.3388</td>\n",
       "      <td>1.3352</td>\n",
       "      <td>1.3397</td>\n",
       "      <td>1.3329</td>\n",
       "      <td>0.27%</td>\n",
       "      <td>0.0036</td>\n",
       "      <td>2.0</td>\n",
       "      <td>1.345260</td>\n",
       "      <td>1.338051</td>\n",
       "      <td>...</td>\n",
       "      <td>0.001549</td>\n",
       "      <td>0.004109</td>\n",
       "      <td>-0.002561</td>\n",
       "      <td>-0.004906</td>\n",
       "      <td>45.544851</td>\n",
       "      <td>1.363601</td>\n",
       "      <td>1.326919</td>\n",
       "      <td>-57.039491</td>\n",
       "      <td>0.0</td>\n",
       "      <td>0.0</td>\n",
       "    </tr>\n",
       "    <tr>\n",
       "      <th>3</th>\n",
       "      <td>2013-02-20</td>\n",
       "      <td>1.3281</td>\n",
       "      <td>1.3387</td>\n",
       "      <td>1.3434</td>\n",
       "      <td>1.3270</td>\n",
       "      <td>-0.80%</td>\n",
       "      <td>-0.0107</td>\n",
       "      <td>1.0</td>\n",
       "      <td>1.345075</td>\n",
       "      <td>1.330396</td>\n",
       "      <td>...</td>\n",
       "      <td>0.000398</td>\n",
       "      <td>0.003367</td>\n",
       "      <td>-0.002969</td>\n",
       "      <td>-0.012785</td>\n",
       "      <td>32.802173</td>\n",
       "      <td>1.364052</td>\n",
       "      <td>1.326098</td>\n",
       "      <td>-90.131403</td>\n",
       "      <td>1.0</td>\n",
       "      <td>2.0</td>\n",
       "    </tr>\n",
       "    <tr>\n",
       "      <th>4</th>\n",
       "      <td>2013-02-21</td>\n",
       "      <td>1.3189</td>\n",
       "      <td>1.3283</td>\n",
       "      <td>1.3291</td>\n",
       "      <td>1.3161</td>\n",
       "      <td>-0.69%</td>\n",
       "      <td>-0.0092</td>\n",
       "      <td>1.0</td>\n",
       "      <td>1.344140</td>\n",
       "      <td>1.321553</td>\n",
       "      <td>...</td>\n",
       "      <td>-0.001242</td>\n",
       "      <td>0.002445</td>\n",
       "      <td>-0.003688</td>\n",
       "      <td>-0.012873</td>\n",
       "      <td>25.675429</td>\n",
       "      <td>1.366251</td>\n",
       "      <td>1.322029</td>\n",
       "      <td>-149.263447</td>\n",
       "      <td>0.0</td>\n",
       "      <td>1.0</td>\n",
       "    </tr>\n",
       "  </tbody>\n",
       "</table>\n",
       "<p>5 rows × 21 columns</p>\n",
       "</div>"
      ],
      "text/plain": [
       "        Date   Price    Open    High     Low Change %  diff_1  label  \\\n",
       "0 2013-02-15  1.3363  1.3363  1.3394  1.3306    0.01%  0.0002    0.0   \n",
       "1 2013-02-18  1.3352  1.3357  1.3377  1.3321   -0.08% -0.0011    0.0   \n",
       "2 2013-02-19  1.3388  1.3352  1.3397  1.3329    0.27%  0.0036    2.0   \n",
       "3 2013-02-20  1.3281  1.3387  1.3434  1.3270   -0.80% -0.0107    1.0   \n",
       "4 2013-02-21  1.3189  1.3283  1.3291  1.3161   -0.69% -0.0092    1.0   \n",
       "\n",
       "        sma       ema  ...      macd    macd_s    macd_h       roc        rsi  \\\n",
       "0  1.344735  1.336730  ...  0.002701  0.005461 -0.002760 -0.000150  39.939646   \n",
       "1  1.344925  1.335553  ...  0.001906  0.004750 -0.002844 -0.004102  38.588551   \n",
       "2  1.345260  1.338051  ...  0.001549  0.004109 -0.002561 -0.004906  45.544851   \n",
       "3  1.345075  1.330396  ...  0.000398  0.003367 -0.002969 -0.012785  32.802173   \n",
       "4  1.344140  1.321553  ... -0.001242  0.002445 -0.003688 -0.012873  25.675429   \n",
       "\n",
       "   Bollinger_up  Bollinger_down         cci  label_3days  label_5days  \n",
       "0      1.364281        1.325189  -62.849696          1.0          0.0  \n",
       "1      1.363994        1.325856  -68.561252          1.0          1.0  \n",
       "2      1.363601        1.326919  -57.039491          0.0          0.0  \n",
       "3      1.364052        1.326098  -90.131403          1.0          2.0  \n",
       "4      1.366251        1.322029 -149.263447          0.0          1.0  \n",
       "\n",
       "[5 rows x 21 columns]"
      ]
     },
     "execution_count": 250,
     "metadata": {},
     "output_type": "execute_result"
    }
   ],
   "source": [
    "df.head()"
   ]
  },
  {
   "cell_type": "code",
   "execution_count": 252,
   "metadata": {},
   "outputs": [
    {
     "data": {
      "text/plain": [
       "Index(['Date', 'Price', 'Open', 'High', 'Low', 'Change %', 'diff_1', 'label',\n",
       "       'sma', 'ema', 'cma', 'macd', 'macd_s', 'macd_h', 'roc', 'rsi',\n",
       "       'Bollinger_up', 'Bollinger_down', 'cci', 'label_3days', 'label_5days'],\n",
       "      dtype='object')"
      ]
     },
     "execution_count": 252,
     "metadata": {},
     "output_type": "execute_result"
    }
   ],
   "source": [
    "df.columns"
   ]
  },
  {
   "cell_type": "code",
   "execution_count": 217,
   "metadata": {},
   "outputs": [
    {
     "data": {
      "text/html": [
       "<div>\n",
       "<style scoped>\n",
       "    .dataframe tbody tr th:only-of-type {\n",
       "        vertical-align: middle;\n",
       "    }\n",
       "\n",
       "    .dataframe tbody tr th {\n",
       "        vertical-align: top;\n",
       "    }\n",
       "\n",
       "    .dataframe thead th {\n",
       "        text-align: right;\n",
       "    }\n",
       "</style>\n",
       "<table border=\"1\" class=\"dataframe\">\n",
       "  <thead>\n",
       "    <tr style=\"text-align: right;\">\n",
       "      <th></th>\n",
       "      <th>sma</th>\n",
       "      <th>ema</th>\n",
       "      <th>cma</th>\n",
       "      <th>macd</th>\n",
       "      <th>macd_s</th>\n",
       "      <th>macd_h</th>\n",
       "      <th>roc</th>\n",
       "      <th>rsi</th>\n",
       "      <th>Bollinger_up</th>\n",
       "      <th>Bollinger_down</th>\n",
       "      <th>cci</th>\n",
       "    </tr>\n",
       "  </thead>\n",
       "  <tbody>\n",
       "    <tr>\n",
       "      <th>0</th>\n",
       "      <td>1.344735</td>\n",
       "      <td>1.336730</td>\n",
       "      <td>1.335315</td>\n",
       "      <td>0.002701</td>\n",
       "      <td>0.005461</td>\n",
       "      <td>-0.002760</td>\n",
       "      <td>-0.000150</td>\n",
       "      <td>39.939646</td>\n",
       "      <td>1.364281</td>\n",
       "      <td>1.325189</td>\n",
       "      <td>-62.849696</td>\n",
       "    </tr>\n",
       "    <tr>\n",
       "      <th>1</th>\n",
       "      <td>1.344925</td>\n",
       "      <td>1.335553</td>\n",
       "      <td>1.335311</td>\n",
       "      <td>0.001906</td>\n",
       "      <td>0.004750</td>\n",
       "      <td>-0.002844</td>\n",
       "      <td>-0.004102</td>\n",
       "      <td>38.588551</td>\n",
       "      <td>1.363994</td>\n",
       "      <td>1.325856</td>\n",
       "      <td>-68.561252</td>\n",
       "    </tr>\n",
       "    <tr>\n",
       "      <th>2</th>\n",
       "      <td>1.345260</td>\n",
       "      <td>1.338051</td>\n",
       "      <td>1.335408</td>\n",
       "      <td>0.001549</td>\n",
       "      <td>0.004109</td>\n",
       "      <td>-0.002561</td>\n",
       "      <td>-0.004906</td>\n",
       "      <td>45.544851</td>\n",
       "      <td>1.363601</td>\n",
       "      <td>1.326919</td>\n",
       "      <td>-57.039491</td>\n",
       "    </tr>\n",
       "    <tr>\n",
       "      <th>3</th>\n",
       "      <td>1.345075</td>\n",
       "      <td>1.330396</td>\n",
       "      <td>1.335211</td>\n",
       "      <td>0.000398</td>\n",
       "      <td>0.003367</td>\n",
       "      <td>-0.002969</td>\n",
       "      <td>-0.012785</td>\n",
       "      <td>32.802173</td>\n",
       "      <td>1.364052</td>\n",
       "      <td>1.326098</td>\n",
       "      <td>-90.131403</td>\n",
       "    </tr>\n",
       "    <tr>\n",
       "      <th>4</th>\n",
       "      <td>1.344140</td>\n",
       "      <td>1.321553</td>\n",
       "      <td>1.334782</td>\n",
       "      <td>-0.001242</td>\n",
       "      <td>0.002445</td>\n",
       "      <td>-0.003688</td>\n",
       "      <td>-0.012873</td>\n",
       "      <td>25.675429</td>\n",
       "      <td>1.366251</td>\n",
       "      <td>1.322029</td>\n",
       "      <td>-149.263447</td>\n",
       "    </tr>\n",
       "  </tbody>\n",
       "</table>\n",
       "</div>"
      ],
      "text/plain": [
       "        sma       ema       cma      macd    macd_s    macd_h       roc  \\\n",
       "0  1.344735  1.336730  1.335315  0.002701  0.005461 -0.002760 -0.000150   \n",
       "1  1.344925  1.335553  1.335311  0.001906  0.004750 -0.002844 -0.004102   \n",
       "2  1.345260  1.338051  1.335408  0.001549  0.004109 -0.002561 -0.004906   \n",
       "3  1.345075  1.330396  1.335211  0.000398  0.003367 -0.002969 -0.012785   \n",
       "4  1.344140  1.321553  1.334782 -0.001242  0.002445 -0.003688 -0.012873   \n",
       "\n",
       "         rsi  Bollinger_up  Bollinger_down         cci  \n",
       "0  39.939646      1.364281        1.325189  -62.849696  \n",
       "1  38.588551      1.363994        1.325856  -68.561252  \n",
       "2  45.544851      1.363601        1.326919  -57.039491  \n",
       "3  32.802173      1.364052        1.326098  -90.131403  \n",
       "4  25.675429      1.366251        1.322029 -149.263447  "
      ]
     },
     "execution_count": 217,
     "metadata": {},
     "output_type": "execute_result"
    }
   ],
   "source": [
    "df = pd.read_csv(\"../../data/processed/signalEUR_USD_Labelled_v1_processed.csv\", index_col=0)\n",
    "df[\"Date\"] = pd.to_datetime(df[\"Date\"])\n",
    "\n",
    "# Labels 3 days ahead\n",
    "df[\"label_3days\"] = df[\"label\"].shift(-3)\n",
    "\n",
    "# Labels 5 days ahead\n",
    "df[\"label_5days\"] = df[\"label\"].shift(-5)\n",
    "# Drop NA\n",
    "df = df.dropna(axis = 0)\n",
    "df = df.reset_index(drop=True)\n",
    "df.head()\n",
    "features = df.drop(labels =  [\"Open\", \"High\", \"Low\",\"Change %\", \"diff_1\"], axis=1)\n",
    "features.head()\n",
    "X = features.drop(labels= [\"Date\"] + [\"label\", \"label_3days\", \"label_5days\"] + [\"Price\"], axis = 1)\n",
    "X.head()"
   ]
  },
  {
   "cell_type": "code",
   "execution_count": 218,
   "metadata": {},
   "outputs": [
    {
     "data": {
      "text/plain": [
       "array([[ 1.84392654,  1.76562961,  1.70005358, ...,  1.8683638 ,\n",
       "         1.80152324, -0.65041763],\n",
       "       [ 1.84605032,  1.75246368,  1.69999683, ...,  1.8651378 ,\n",
       "         1.80889088, -0.71655935],\n",
       "       [ 1.8497949 ,  1.78040628,  1.70167462, ...,  1.86074147,\n",
       "         1.82061006, -0.5831335 ],\n",
       "       ...,\n",
       "       [-0.56483883, -0.53162927, -0.96953338, ..., -0.69084061,\n",
       "        -0.43521197,  0.62254833],\n",
       "       [-0.55802035, -0.51948747, -0.96989049, ..., -0.69725765,\n",
       "        -0.41543563,  0.97031967],\n",
       "       [-0.55802035, -0.5261519 , -0.97025541, ..., -0.69725765,\n",
       "        -0.41543563,  0.92950638]])"
      ]
     },
     "execution_count": 218,
     "metadata": {},
     "output_type": "execute_result"
    }
   ],
   "source": [
    "scaler = StandardScaler()\n",
    "X = scaler.fit_transform(X)\n",
    "X"
   ]
  },
  {
   "cell_type": "code",
   "execution_count": 219,
   "metadata": {},
   "outputs": [],
   "source": [
    "y = tf.keras.utils.to_categorical(features[\"label\"])"
   ]
  },
  {
   "cell_type": "code",
   "execution_count": 220,
   "metadata": {},
   "outputs": [
    {
     "name": "stdout",
     "output_type": "stream",
     "text": [
      "(2311, 11)\n",
      "(2311, 3)\n"
     ]
    }
   ],
   "source": [
    "print(X.shape)\n",
    "print(y.shape)"
   ]
  },
  {
   "cell_type": "code",
   "execution_count": 221,
   "metadata": {},
   "outputs": [
    {
     "name": "stdout",
     "output_type": "stream",
     "text": [
      "(2306, 5, 11)\n",
      "(2306, 3)\n"
     ]
    }
   ],
   "source": [
    "X_ds, y_ds = lstm_data_transform(X, y, num_steps=5)\n",
    "\n",
    "print(X_ds.shape)\n",
    "print(y_ds.shape)"
   ]
  },
  {
   "cell_type": "code",
   "execution_count": 222,
   "metadata": {},
   "outputs": [
    {
     "name": "stdout",
     "output_type": "stream",
     "text": [
      "(1844, 5, 11)\n",
      "(1844, 3)\n",
      "(462, 5, 11)\n",
      "(462, 3)\n"
     ]
    }
   ],
   "source": [
    "# X_train, X_test, y_train, y_test = train_test_split(X_ds, y_ds, test_size=0.2, random_state=420)\n",
    "# print(X_train.shape, X_test.shape)\n",
    "# print(y_train.shape, y_test.shape)\n",
    "\n",
    "\n",
    "# Train Test Split\n",
    "TEST_SPLIT = 0.8\n",
    "\n",
    "X_train = X_ds[: int(len(X_ds) * TEST_SPLIT)]\n",
    "X_test = X_ds[int(len(X_ds) * TEST_SPLIT) : ]\n",
    "\n",
    "y_train = y_ds[:int(len(X_ds) * TEST_SPLIT)]\n",
    "y_test = y_ds[int(len(X_ds) * TEST_SPLIT):]\n",
    "\n",
    "print(X_train.shape)\n",
    "print(y_train.shape)\n",
    "\n",
    "print(X_test.shape)\n",
    "print(y_test.shape)\n"
   ]
  },
  {
   "cell_type": "code",
   "execution_count": 223,
   "metadata": {},
   "outputs": [
    {
     "name": "stdout",
     "output_type": "stream",
     "text": [
      "Model: \"sequential_22\"\n",
      "_________________________________________________________________\n",
      "Layer (type)                 Output Shape              Param #   \n",
      "=================================================================\n",
      "lstm_27 (LSTM)               (None, 5, 100)            44800     \n",
      "_________________________________________________________________\n",
      "lstm_28 (LSTM)               (None, 100)               80400     \n",
      "_________________________________________________________________\n",
      "dense_28 (Dense)             (None, 64)                6464      \n",
      "_________________________________________________________________\n",
      "dense_29 (Dense)             (None, 3)                 195       \n",
      "=================================================================\n",
      "Total params: 131,859\n",
      "Trainable params: 131,859\n",
      "Non-trainable params: 0\n",
      "_________________________________________________________________\n"
     ]
    }
   ],
   "source": [
    "model = Sequential()\n",
    "\n",
    "# model.add(LSTM(units=50, input_shape=(X_train.shape[1], X_train.shape[2])))\n",
    "\n",
    "model.add(LSTM(units=100, input_shape=(X_train.shape[1], 11), return_sequences=True))\n",
    "model.add(LSTM(units=100))\n",
    "model.add(Dense(64, activation=\"relu\"))\n",
    "model.add(Dense(3))\n",
    "model.compile(loss=CategoricalCrossentropy(from_logits=True), optimizer=\"adam\", metrics=[\"accuracy\"])\n",
    "model.summary()"
   ]
  },
  {
   "cell_type": "code",
   "execution_count": 224,
   "metadata": {},
   "outputs": [],
   "source": [
    "callbacks = []\n",
    "\n",
    "callbacks.append(tf.keras.callbacks.EarlyStopping(monitor='loss',\n",
    "                                            patience=5,\n",
    "                                            restore_best_weights=True))\n"
   ]
  },
  {
   "cell_type": "code",
   "execution_count": 225,
   "metadata": {},
   "outputs": [
    {
     "name": "stdout",
     "output_type": "stream",
     "text": [
      "Epoch 1/20\n",
      "58/58 [==============================] - 3s 14ms/step - loss: 1.0982 - accuracy: 0.3371 - val_loss: 1.0999 - val_accuracy: 0.3420\n",
      "Epoch 2/20\n",
      "58/58 [==============================] - 0s 7ms/step - loss: 1.0756 - accuracy: 0.4169 - val_loss: 1.1062 - val_accuracy: 0.3398\n",
      "Epoch 3/20\n",
      "58/58 [==============================] - 0s 8ms/step - loss: 1.0726 - accuracy: 0.4195 - val_loss: 1.1058 - val_accuracy: 0.3485\n",
      "Epoch 4/20\n",
      "58/58 [==============================] - 0s 8ms/step - loss: 1.0568 - accuracy: 0.4318 - val_loss: 1.0754 - val_accuracy: 0.3983\n",
      "Epoch 5/20\n",
      "58/58 [==============================] - 0s 8ms/step - loss: 1.0052 - accuracy: 0.4835 - val_loss: 0.7676 - val_accuracy: 0.6320\n",
      "Epoch 6/20\n",
      "58/58 [==============================] - 0s 8ms/step - loss: 0.6790 - accuracy: 0.6954 - val_loss: 0.3895 - val_accuracy: 0.8355\n",
      "Epoch 7/20\n",
      "58/58 [==============================] - 0s 8ms/step - loss: 0.3356 - accuracy: 0.8718 - val_loss: 0.3649 - val_accuracy: 0.8355\n",
      "Epoch 8/20\n",
      "58/58 [==============================] - 0s 8ms/step - loss: 0.2525 - accuracy: 0.8964 - val_loss: 0.2429 - val_accuracy: 0.9026\n",
      "Epoch 9/20\n",
      "58/58 [==============================] - 0s 8ms/step - loss: 0.2030 - accuracy: 0.9189 - val_loss: 0.2582 - val_accuracy: 0.8745\n",
      "Epoch 10/20\n",
      "58/58 [==============================] - 0s 8ms/step - loss: 0.1938 - accuracy: 0.9221 - val_loss: 0.2853 - val_accuracy: 0.8723\n",
      "Epoch 11/20\n",
      "58/58 [==============================] - 0s 8ms/step - loss: 0.1964 - accuracy: 0.9169 - val_loss: 0.2350 - val_accuracy: 0.8983\n",
      "Epoch 12/20\n",
      "58/58 [==============================] - 0s 8ms/step - loss: 0.1402 - accuracy: 0.9482 - val_loss: 0.2372 - val_accuracy: 0.8983\n",
      "Epoch 13/20\n",
      "58/58 [==============================] - 0s 8ms/step - loss: 0.1598 - accuracy: 0.9330 - val_loss: 0.3319 - val_accuracy: 0.8615\n",
      "Epoch 14/20\n",
      "58/58 [==============================] - 0s 8ms/step - loss: 0.1423 - accuracy: 0.9404 - val_loss: 0.2121 - val_accuracy: 0.9199\n",
      "Epoch 15/20\n",
      "58/58 [==============================] - 0s 8ms/step - loss: 0.1425 - accuracy: 0.9441 - val_loss: 0.2479 - val_accuracy: 0.8939\n",
      "Epoch 16/20\n",
      "58/58 [==============================] - 0s 7ms/step - loss: 0.1283 - accuracy: 0.9502 - val_loss: 0.2422 - val_accuracy: 0.8983\n",
      "Epoch 17/20\n",
      "58/58 [==============================] - 0s 7ms/step - loss: 0.1064 - accuracy: 0.9589 - val_loss: 0.2108 - val_accuracy: 0.9134\n",
      "Epoch 18/20\n",
      "58/58 [==============================] - 0s 8ms/step - loss: 0.1334 - accuracy: 0.9466 - val_loss: 0.3163 - val_accuracy: 0.8810\n",
      "Epoch 19/20\n",
      "58/58 [==============================] - 1s 9ms/step - loss: 0.1161 - accuracy: 0.9550 - val_loss: 0.3168 - val_accuracy: 0.8745\n",
      "Epoch 20/20\n",
      "58/58 [==============================] - 0s 8ms/step - loss: 0.1043 - accuracy: 0.9610 - val_loss: 0.2294 - val_accuracy: 0.9091\n"
     ]
    }
   ],
   "source": [
    "epochs = 20\n",
    "\n",
    "history = model.fit(X_train, y_train, validation_data=(X_test, y_test), epochs=epochs, batch_size=32,\n",
    "    callbacks= callbacks\n",
    ")"
   ]
  },
  {
   "cell_type": "code",
   "execution_count": 226,
   "metadata": {},
   "outputs": [
    {
     "data": {
      "image/png": "[encoded data removed]",
      "text/plain": [
       "<Figure size 432x288 with 1 Axes>"
      ]
     },
     "metadata": {
      "needs_background": "light"
     },
     "output_type": "display_data"
    }
   ],
   "source": [
    "# Loss History\n",
    "plt.plot(history.history['loss'])\n",
    "plt.plot(history.history['val_loss'])\n",
    "plt.title('Model Loss')\n",
    "plt.ylabel('Loss')\n",
    "plt.xlabel('Epoch')\n",
    "plt.legend(['Train', 'Test'], loc='upper left')\n",
    "plt.show()"
   ]
  },
  {
   "cell_type": "code",
   "execution_count": 227,
   "metadata": {},
   "outputs": [
    {
     "data": {
      "image/png": "[encoded data removed]",
      "text/plain": [
       "<Figure size 432x288 with 1 Axes>"
      ]
     },
     "metadata": {
      "needs_background": "light"
     },
     "output_type": "display_data"
    }
   ],
   "source": [
    "# Loss History\n",
    "plt.plot(history.history['accuracy'])\n",
    "plt.plot(history.history['val_accuracy'])\n",
    "plt.title('Model Accuracy')\n",
    "plt.ylabel('Loss')\n",
    "plt.xlabel('Epoch')\n",
    "plt.legend(['Train', 'Test'], loc='upper left')\n",
    "plt.show()"
   ]
  },
  {
   "cell_type": "code",
   "execution_count": 228,
   "metadata": {},
   "outputs": [
    {
     "name": "stdout",
     "output_type": "stream",
     "text": [
      "15/15 [==============================] - 0s 3ms/step - loss: 0.2294 - accuracy: 0.9091\n"
     ]
    },
    {
     "data": {
      "text/plain": [
       "[0.22936001420021057, 0.9090909361839294]"
      ]
     },
     "execution_count": 228,
     "metadata": {},
     "output_type": "execute_result"
    }
   ],
   "source": [
    "model.evaluate(x=X_test, y=y_test)"
   ]
  },
  {
   "cell_type": "markdown",
   "metadata": {},
   "source": [
    "## Saving the Model"
   ]
  },
  {
   "cell_type": "code",
   "execution_count": 230,
   "metadata": {},
   "outputs": [
    {
     "name": "stderr",
     "output_type": "stream",
     "text": [
      "2022-03-29 22:14:31.943222: W tensorflow/python/util/util.cc:348] Sets are not currently considered sequences, but this may change in the future, so consider avoiding using them.\n",
      "WARNING:absl:Found untraced functions such as lstm_cell_27_layer_call_and_return_conditional_losses, lstm_cell_27_layer_call_fn, lstm_cell_28_layer_call_and_return_conditional_losses, lstm_cell_28_layer_call_fn, lstm_cell_27_layer_call_fn while saving (showing 5 of 10). These functions will not be directly callable after loading.\n",
      "WARNING:absl:Found untraced functions such as lstm_cell_27_layer_call_and_return_conditional_losses, lstm_cell_27_layer_call_fn, lstm_cell_28_layer_call_and_return_conditional_losses, lstm_cell_28_layer_call_fn, lstm_cell_27_layer_call_fn while saving (showing 5 of 10). These functions will not be directly callable after loading.\n"
     ]
    },
    {
     "name": "stdout",
     "output_type": "stream",
     "text": [
      "INFO:tensorflow:Assets written to: ../../results/models/Signal_LSTM_v1/assets\n"
     ]
    },
    {
     "name": "stderr",
     "output_type": "stream",
     "text": [
      "INFO:tensorflow:Assets written to: ../../results/models/Signal_LSTM_v1/assets\n"
     ]
    },
    {
     "data": {
      "text/plain": [
       "['../../results/models/Signal_LSTM_v1/scaler.save']"
      ]
     },
     "execution_count": 230,
     "metadata": {},
     "output_type": "execute_result"
    }
   ],
   "source": [
    "MODEL_PATH = \"../../results/models/Signal_LSTM_v1\"\n",
    "\n",
    "model.save(MODEL_PATH)\n",
    "dump(scaler, os.path.join(MODEL_PATH, \"scaler.save\"))"
   ]
  },
  {
   "cell_type": "markdown",
   "metadata": {},
   "source": [
    "##  Loading the Model"
   ]
  },
  {
   "cell_type": "code",
   "execution_count": 244,
   "metadata": {},
   "outputs": [],
   "source": [
    "from sklearn.metrics import accuracy_score"
   ]
  },
  {
   "cell_type": "code",
   "execution_count": 231,
   "metadata": {},
   "outputs": [],
   "source": [
    "PATH_TO_LOAD = \"../../results/models/Signal_LSTM_v1\""
   ]
  },
  {
   "cell_type": "code",
   "execution_count": null,
   "metadata": {},
   "outputs": [],
   "source": [
    "df = pd.read_csv(\"../../data/processed/signalEUR_USD_Labelled_v1_processed.csv\", index_col=0)\n",
    "df[\"Date\"] = pd.to_datetime(df[\"Date\"])\n",
    "test_df = df.iloc[-462 - 5:]"
   ]
  },
  {
   "cell_type": "code",
   "execution_count": 234,
   "metadata": {},
   "outputs": [],
   "source": [
    "loaded_scaler = load(os.path.join(PATH_TO_LOAD, \"scaler.save\"))\n",
    "loaded_model = tf.keras.models.load_model(PATH_TO_LOAD)"
   ]
  },
  {
   "cell_type": "code",
   "execution_count": 237,
   "metadata": {},
   "outputs": [],
   "source": [
    "pred = loaded_model.predict(X_test)"
   ]
  },
  {
   "cell_type": "code",
   "execution_count": 247,
   "metadata": {},
   "outputs": [],
   "source": [
    "temp_actual = np.argmax(y_test, axis=1)\n",
    "temp_pred = np.argmax(pred, axis=1)"
   ]
  },
  {
   "cell_type": "code",
   "execution_count": 248,
   "metadata": {},
   "outputs": [
    {
     "data": {
      "text/plain": [
       "0.9090909090909091"
      ]
     },
     "execution_count": 248,
     "metadata": {},
     "output_type": "execute_result"
    }
   ],
   "source": [
    "accuracy_score(temp_actual, temp_pred)"
   ]
  },
  {
   "cell_type": "code",
   "execution_count": 256,
   "metadata": {},
   "outputs": [],
   "source": [
    "temp_x = features.drop(labels= [\"Date\"] + [\"label\", \"label_3days\", \"label_5days\"] + [\"Price\"], axis = 1)"
   ]
  },
  {
   "cell_type": "code",
   "execution_count": 258,
   "metadata": {},
   "outputs": [
    {
     "data": {
      "text/plain": [
       "Index(['sma', 'ema', 'cma', 'macd', 'macd_s', 'macd_h', 'roc', 'rsi',\n",
       "       'Bollinger_up', 'Bollinger_down', 'cci'],\n",
       "      dtype='object')"
      ]
     },
     "execution_count": 258,
     "metadata": {},
     "output_type": "execute_result"
    }
   ],
   "source": [
    "temp_x.columns"
   ]
  },
  {
   "cell_type": "code",
   "execution_count": 260,
   "metadata": {},
   "outputs": [],
   "source": [
    "temp_x_transformed = loaded_scaler.transform(temp_x)"
   ]
  },
  {
   "cell_type": "code",
   "execution_count": 263,
   "metadata": {},
   "outputs": [
    {
     "data": {
      "text/plain": [
       "True"
      ]
     },
     "execution_count": 263,
     "metadata": {},
     "output_type": "execute_result"
    }
   ],
   "source": [
    "np.array_equal(temp_x_transformed, X)"
   ]
  },
  {
   "cell_type": "code",
   "execution_count": 265,
   "metadata": {},
   "outputs": [
    {
     "data": {
      "text/html": [
       "<div>\n",
       "<style scoped>\n",
       "    .dataframe tbody tr th:only-of-type {\n",
       "        vertical-align: middle;\n",
       "    }\n",
       "\n",
       "    .dataframe tbody tr th {\n",
       "        vertical-align: top;\n",
       "    }\n",
       "\n",
       "    .dataframe thead th {\n",
       "        text-align: right;\n",
       "    }\n",
       "</style>\n",
       "<table border=\"1\" class=\"dataframe\">\n",
       "  <thead>\n",
       "    <tr style=\"text-align: right;\">\n",
       "      <th></th>\n",
       "      <th>Date</th>\n",
       "      <th>Price</th>\n",
       "      <th>Open</th>\n",
       "      <th>High</th>\n",
       "      <th>Low</th>\n",
       "      <th>Change %</th>\n",
       "      <th>diff_1</th>\n",
       "      <th>label</th>\n",
       "      <th>sma</th>\n",
       "      <th>ema</th>\n",
       "      <th>...</th>\n",
       "      <th>macd</th>\n",
       "      <th>macd_s</th>\n",
       "      <th>macd_h</th>\n",
       "      <th>roc</th>\n",
       "      <th>rsi</th>\n",
       "      <th>Bollinger_up</th>\n",
       "      <th>Bollinger_down</th>\n",
       "      <th>cci</th>\n",
       "      <th>label_3days</th>\n",
       "      <th>label_5days</th>\n",
       "    </tr>\n",
       "  </thead>\n",
       "  <tbody>\n",
       "    <tr>\n",
       "      <th>2306</th>\n",
       "      <td>2021-12-20</td>\n",
       "      <td>1.1275</td>\n",
       "      <td>1.1242</td>\n",
       "      <td>1.1305</td>\n",
       "      <td>1.1234</td>\n",
       "      <td>0.32%</td>\n",
       "      <td>0.0036</td>\n",
       "      <td>2.0</td>\n",
       "      <td>1.128420</td>\n",
       "      <td>1.127084</td>\n",
       "      <td>...</td>\n",
       "      <td>-0.003948</td>\n",
       "      <td>-0.004795</td>\n",
       "      <td>0.000847</td>\n",
       "      <td>-0.000709</td>\n",
       "      <td>46.839553</td>\n",
       "      <td>1.136446</td>\n",
       "      <td>1.120394</td>\n",
       "      <td>-27.330869</td>\n",
       "      <td>0.0</td>\n",
       "      <td>0.0</td>\n",
       "    </tr>\n",
       "    <tr>\n",
       "      <th>2307</th>\n",
       "      <td>2021-12-21</td>\n",
       "      <td>1.1283</td>\n",
       "      <td>1.1277</td>\n",
       "      <td>1.1303</td>\n",
       "      <td>1.1260</td>\n",
       "      <td>0.07%</td>\n",
       "      <td>0.0008</td>\n",
       "      <td>0.0</td>\n",
       "      <td>1.128605</td>\n",
       "      <td>1.128019</td>\n",
       "      <td>...</td>\n",
       "      <td>-0.003696</td>\n",
       "      <td>-0.004575</td>\n",
       "      <td>0.000879</td>\n",
       "      <td>0.002310</td>\n",
       "      <td>48.373952</td>\n",
       "      <td>1.136429</td>\n",
       "      <td>1.120781</td>\n",
       "      <td>-9.274996</td>\n",
       "      <td>0.0</td>\n",
       "      <td>0.0</td>\n",
       "    </tr>\n",
       "    <tr>\n",
       "      <th>2308</th>\n",
       "      <td>2021-12-22</td>\n",
       "      <td>1.1324</td>\n",
       "      <td>1.1279</td>\n",
       "      <td>1.1343</td>\n",
       "      <td>1.1264</td>\n",
       "      <td>0.36%</td>\n",
       "      <td>0.0041</td>\n",
       "      <td>2.0</td>\n",
       "      <td>1.129240</td>\n",
       "      <td>1.131389</td>\n",
       "      <td>...</td>\n",
       "      <td>-0.003130</td>\n",
       "      <td>-0.004286</td>\n",
       "      <td>0.001156</td>\n",
       "      <td>0.003456</td>\n",
       "      <td>55.900932</td>\n",
       "      <td>1.136011</td>\n",
       "      <td>1.122469</td>\n",
       "      <td>47.075103</td>\n",
       "      <td>0.0</td>\n",
       "      <td>2.0</td>\n",
       "    </tr>\n",
       "    <tr>\n",
       "      <th>2309</th>\n",
       "      <td>2021-12-23</td>\n",
       "      <td>1.1328</td>\n",
       "      <td>1.1325</td>\n",
       "      <td>1.1343</td>\n",
       "      <td>1.1289</td>\n",
       "      <td>0.04%</td>\n",
       "      <td>0.0004</td>\n",
       "      <td>0.0</td>\n",
       "      <td>1.129850</td>\n",
       "      <td>1.132474</td>\n",
       "      <td>...</td>\n",
       "      <td>-0.002618</td>\n",
       "      <td>-0.003952</td>\n",
       "      <td>0.001334</td>\n",
       "      <td>0.000000</td>\n",
       "      <td>56.613022</td>\n",
       "      <td>1.135439</td>\n",
       "      <td>1.124261</td>\n",
       "      <td>77.106303</td>\n",
       "      <td>0.0</td>\n",
       "      <td>1.0</td>\n",
       "    </tr>\n",
       "    <tr>\n",
       "      <th>2310</th>\n",
       "      <td>2021-12-24</td>\n",
       "      <td>1.1317</td>\n",
       "      <td>1.1330</td>\n",
       "      <td>1.1344</td>\n",
       "      <td>1.1303</td>\n",
       "      <td>-0.10%</td>\n",
       "      <td>-0.0011</td>\n",
       "      <td>0.0</td>\n",
       "      <td>1.129850</td>\n",
       "      <td>1.131879</td>\n",
       "      <td>...</td>\n",
       "      <td>-0.002276</td>\n",
       "      <td>-0.003617</td>\n",
       "      <td>0.001341</td>\n",
       "      <td>0.006940</td>\n",
       "      <td>53.853702</td>\n",
       "      <td>1.135439</td>\n",
       "      <td>1.124261</td>\n",
       "      <td>73.581941</td>\n",
       "      <td>2.0</td>\n",
       "      <td>2.0</td>\n",
       "    </tr>\n",
       "  </tbody>\n",
       "</table>\n",
       "<p>5 rows × 21 columns</p>\n",
       "</div>"
      ],
      "text/plain": [
       "           Date   Price    Open    High     Low Change %  diff_1  label  \\\n",
       "2306 2021-12-20  1.1275  1.1242  1.1305  1.1234    0.32%  0.0036    2.0   \n",
       "2307 2021-12-21  1.1283  1.1277  1.1303  1.1260    0.07%  0.0008    0.0   \n",
       "2308 2021-12-22  1.1324  1.1279  1.1343  1.1264    0.36%  0.0041    2.0   \n",
       "2309 2021-12-23  1.1328  1.1325  1.1343  1.1289    0.04%  0.0004    0.0   \n",
       "2310 2021-12-24  1.1317  1.1330  1.1344  1.1303   -0.10% -0.0011    0.0   \n",
       "\n",
       "           sma       ema  ...      macd    macd_s    macd_h       roc  \\\n",
       "2306  1.128420  1.127084  ... -0.003948 -0.004795  0.000847 -0.000709   \n",
       "2307  1.128605  1.128019  ... -0.003696 -0.004575  0.000879  0.002310   \n",
       "2308  1.129240  1.131389  ... -0.003130 -0.004286  0.001156  0.003456   \n",
       "2309  1.129850  1.132474  ... -0.002618 -0.003952  0.001334  0.000000   \n",
       "2310  1.129850  1.131879  ... -0.002276 -0.003617  0.001341  0.006940   \n",
       "\n",
       "            rsi  Bollinger_up  Bollinger_down        cci  label_3days  \\\n",
       "2306  46.839553      1.136446        1.120394 -27.330869          0.0   \n",
       "2307  48.373952      1.136429        1.120781  -9.274996          0.0   \n",
       "2308  55.900932      1.136011        1.122469  47.075103          0.0   \n",
       "2309  56.613022      1.135439        1.124261  77.106303          0.0   \n",
       "2310  53.853702      1.135439        1.124261  73.581941          2.0   \n",
       "\n",
       "      label_5days  \n",
       "2306          0.0  \n",
       "2307          0.0  \n",
       "2308          2.0  \n",
       "2309          1.0  \n",
       "2310          2.0  \n",
       "\n",
       "[5 rows x 21 columns]"
      ]
     },
     "execution_count": 265,
     "metadata": {},
     "output_type": "execute_result"
    }
   ],
   "source": [
    "df.tail()"
   ]
  },
  {
   "cell_type": "code",
   "execution_count": null,
   "metadata": {},
   "outputs": [],
   "source": []
  },
  {
   "cell_type": "markdown",
   "metadata": {},
   "source": [
    "# Testing Code"
   ]
  },
  {
   "cell_type": "code",
   "execution_count": 298,
   "metadata": {},
   "outputs": [],
   "source": [
    "sys.path.append(\"../../src/\")\n",
    "# from Signal_LSTM import predict\n",
    "import Signal_LSTM"
   ]
  },
  {
   "cell_type": "code",
   "execution_count": 299,
   "metadata": {},
   "outputs": [],
   "source": [
    "PATH_TO_LOAD = \"../../results/models/Signal_LSTM_v1\""
   ]
  },
  {
   "cell_type": "code",
   "execution_count": 300,
   "metadata": {},
   "outputs": [
    {
     "data": {
      "text/plain": [
       "<module 'Signal_LSTM' from '../../src/Signal_LSTM.py'>"
      ]
     },
     "execution_count": 300,
     "metadata": {},
     "output_type": "execute_result"
    }
   ],
   "source": [
    "sys.modules[\"Signal_LSTM\"]"
   ]
  },
  {
   "cell_type": "code",
   "execution_count": 468,
   "metadata": {},
   "outputs": [
    {
     "data": {
      "text/plain": [
       "<module 'Signal_LSTM' from '../../src/Signal_LSTM.py'>"
      ]
     },
     "execution_count": 468,
     "metadata": {},
     "output_type": "execute_result"
    }
   ],
   "source": [
    "import importlib\n",
    "importlib.reload(Signal_LSTM)"
   ]
  },
  {
   "cell_type": "code",
   "execution_count": 341,
   "metadata": {},
   "outputs": [],
   "source": [
    "df = pd.read_csv(\"../../data/processed/signalEUR_USD_Labelled_v1_processed.csv\", index_col=0)\n",
    "df[\"Date\"] = pd.to_datetime(df[\"Date\"])"
   ]
  },
  {
   "cell_type": "code",
   "execution_count": 469,
   "metadata": {},
   "outputs": [],
   "source": [
    "test_df = df.iloc[-462 - 5:]"
   ]
  },
  {
   "cell_type": "code",
   "execution_count": 473,
   "metadata": {},
   "outputs": [
    {
     "data": {
      "text/html": [
       "<div>\n",
       "<style scoped>\n",
       "    .dataframe tbody tr th:only-of-type {\n",
       "        vertical-align: middle;\n",
       "    }\n",
       "\n",
       "    .dataframe tbody tr th {\n",
       "        vertical-align: top;\n",
       "    }\n",
       "\n",
       "    .dataframe thead th {\n",
       "        text-align: right;\n",
       "    }\n",
       "</style>\n",
       "<table border=\"1\" class=\"dataframe\">\n",
       "  <thead>\n",
       "    <tr style=\"text-align: right;\">\n",
       "      <th></th>\n",
       "      <th>Date</th>\n",
       "      <th>Price</th>\n",
       "      <th>Open</th>\n",
       "      <th>High</th>\n",
       "      <th>Low</th>\n",
       "      <th>Change %</th>\n",
       "      <th>diff_1</th>\n",
       "      <th>label</th>\n",
       "      <th>sma</th>\n",
       "      <th>ema</th>\n",
       "      <th>cma</th>\n",
       "      <th>macd</th>\n",
       "      <th>macd_s</th>\n",
       "      <th>macd_h</th>\n",
       "      <th>roc</th>\n",
       "      <th>rsi</th>\n",
       "      <th>Bollinger_up</th>\n",
       "      <th>Bollinger_down</th>\n",
       "      <th>cci</th>\n",
       "      <th>Pred</th>\n",
       "    </tr>\n",
       "  </thead>\n",
       "  <tbody>\n",
       "    <tr>\n",
       "      <th>1882</th>\n",
       "      <td>2020-03-19</td>\n",
       "      <td>1.0690</td>\n",
       "      <td>1.0915</td>\n",
       "      <td>1.0982</td>\n",
       "      <td>1.0654</td>\n",
       "      <td>-2.04%</td>\n",
       "      <td>-0.0223</td>\n",
       "      <td>1.0</td>\n",
       "      <td>1.107490</td>\n",
       "      <td>1.074800</td>\n",
       "      <td>1.183894</td>\n",
       "      <td>-0.000745</td>\n",
       "      <td>0.003931</td>\n",
       "      <td>-0.004676</td>\n",
       "      <td>-0.044085</td>\n",
       "      <td>23.877925</td>\n",
       "      <td>1.145800</td>\n",
       "      <td>1.069180</td>\n",
       "      <td>-108.697395</td>\n",
       "      <td>NaN</td>\n",
       "    </tr>\n",
       "    <tr>\n",
       "      <th>1883</th>\n",
       "      <td>2020-03-20</td>\n",
       "      <td>1.0694</td>\n",
       "      <td>1.0691</td>\n",
       "      <td>1.0832</td>\n",
       "      <td>1.0637</td>\n",
       "      <td>0.04%</td>\n",
       "      <td>0.0004</td>\n",
       "      <td>0.0</td>\n",
       "      <td>1.106745</td>\n",
       "      <td>1.070646</td>\n",
       "      <td>1.183833</td>\n",
       "      <td>-0.003461</td>\n",
       "      <td>0.002452</td>\n",
       "      <td>-0.005913</td>\n",
       "      <td>-0.037010</td>\n",
       "      <td>24.319823</td>\n",
       "      <td>1.147458</td>\n",
       "      <td>1.066032</td>\n",
       "      <td>-120.426503</td>\n",
       "      <td>NaN</td>\n",
       "    </tr>\n",
       "    <tr>\n",
       "      <th>1884</th>\n",
       "      <td>2020-03-23</td>\n",
       "      <td>1.0721</td>\n",
       "      <td>1.0696</td>\n",
       "      <td>1.0828</td>\n",
       "      <td>1.0637</td>\n",
       "      <td>0.25%</td>\n",
       "      <td>0.0027</td>\n",
       "      <td>2.0</td>\n",
       "      <td>1.106090</td>\n",
       "      <td>1.071765</td>\n",
       "      <td>1.183774</td>\n",
       "      <td>-0.005334</td>\n",
       "      <td>0.000895</td>\n",
       "      <td>-0.006229</td>\n",
       "      <td>-0.041141</td>\n",
       "      <td>27.593536</td>\n",
       "      <td>1.148642</td>\n",
       "      <td>1.063538</td>\n",
       "      <td>-110.923061</td>\n",
       "      <td>NaN</td>\n",
       "    </tr>\n",
       "    <tr>\n",
       "      <th>1885</th>\n",
       "      <td>2020-03-24</td>\n",
       "      <td>1.0787</td>\n",
       "      <td>1.0726</td>\n",
       "      <td>1.0889</td>\n",
       "      <td>1.0722</td>\n",
       "      <td>0.62%</td>\n",
       "      <td>0.0066</td>\n",
       "      <td>2.0</td>\n",
       "      <td>1.105630</td>\n",
       "      <td>1.077100</td>\n",
       "      <td>1.183718</td>\n",
       "      <td>-0.006214</td>\n",
       "      <td>-0.000527</td>\n",
       "      <td>-0.005687</td>\n",
       "      <td>-0.019007</td>\n",
       "      <td>35.467042</td>\n",
       "      <td>1.149197</td>\n",
       "      <td>1.062063</td>\n",
       "      <td>-84.900046</td>\n",
       "      <td>NaN</td>\n",
       "    </tr>\n",
       "    <tr>\n",
       "      <th>1886</th>\n",
       "      <td>2020-03-25</td>\n",
       "      <td>1.0880</td>\n",
       "      <td>1.0789</td>\n",
       "      <td>1.0895</td>\n",
       "      <td>1.0761</td>\n",
       "      <td>0.86%</td>\n",
       "      <td>0.0093</td>\n",
       "      <td>2.0</td>\n",
       "      <td>1.105635</td>\n",
       "      <td>1.085485</td>\n",
       "      <td>1.183667</td>\n",
       "      <td>-0.006091</td>\n",
       "      <td>-0.001640</td>\n",
       "      <td>-0.004451</td>\n",
       "      <td>-0.003024</td>\n",
       "      <td>45.162255</td>\n",
       "      <td>1.149193</td>\n",
       "      <td>1.062077</td>\n",
       "      <td>-68.873073</td>\n",
       "      <td>2.0</td>\n",
       "    </tr>\n",
       "    <tr>\n",
       "      <th>...</th>\n",
       "      <td>...</td>\n",
       "      <td>...</td>\n",
       "      <td>...</td>\n",
       "      <td>...</td>\n",
       "      <td>...</td>\n",
       "      <td>...</td>\n",
       "      <td>...</td>\n",
       "      <td>...</td>\n",
       "      <td>...</td>\n",
       "      <td>...</td>\n",
       "      <td>...</td>\n",
       "      <td>...</td>\n",
       "      <td>...</td>\n",
       "      <td>...</td>\n",
       "      <td>...</td>\n",
       "      <td>...</td>\n",
       "      <td>...</td>\n",
       "      <td>...</td>\n",
       "      <td>...</td>\n",
       "      <td>...</td>\n",
       "    </tr>\n",
       "    <tr>\n",
       "      <th>2344</th>\n",
       "      <td>2021-12-27</td>\n",
       "      <td>1.1325</td>\n",
       "      <td>1.1318</td>\n",
       "      <td>1.1335</td>\n",
       "      <td>1.1302</td>\n",
       "      <td>0.07%</td>\n",
       "      <td>0.0008</td>\n",
       "      <td>0.0</td>\n",
       "      <td>1.130020</td>\n",
       "      <td>1.132357</td>\n",
       "      <td>1.181063</td>\n",
       "      <td>-0.001917</td>\n",
       "      <td>-0.003277</td>\n",
       "      <td>0.001360</td>\n",
       "      <td>0.004435</td>\n",
       "      <td>55.666956</td>\n",
       "      <td>1.135719</td>\n",
       "      <td>1.124321</td>\n",
       "      <td>64.885520</td>\n",
       "      <td>0.0</td>\n",
       "    </tr>\n",
       "    <tr>\n",
       "      <th>2345</th>\n",
       "      <td>2021-12-28</td>\n",
       "      <td>1.1309</td>\n",
       "      <td>1.1329</td>\n",
       "      <td>1.1335</td>\n",
       "      <td>1.1289</td>\n",
       "      <td>-0.14%</td>\n",
       "      <td>-0.0016</td>\n",
       "      <td>0.0</td>\n",
       "      <td>1.129885</td>\n",
       "      <td>1.131236</td>\n",
       "      <td>1.181042</td>\n",
       "      <td>-0.001742</td>\n",
       "      <td>-0.002970</td>\n",
       "      <td>0.001228</td>\n",
       "      <td>0.002304</td>\n",
       "      <td>51.038878</td>\n",
       "      <td>1.135350</td>\n",
       "      <td>1.124420</td>\n",
       "      <td>35.968157</td>\n",
       "      <td>0.0</td>\n",
       "    </tr>\n",
       "    <tr>\n",
       "      <th>2346</th>\n",
       "      <td>2021-12-29</td>\n",
       "      <td>1.1348</td>\n",
       "      <td>1.1310</td>\n",
       "      <td>1.1370</td>\n",
       "      <td>1.1273</td>\n",
       "      <td>0.34%</td>\n",
       "      <td>0.0039</td>\n",
       "      <td>2.0</td>\n",
       "      <td>1.130030</td>\n",
       "      <td>1.133978</td>\n",
       "      <td>1.181022</td>\n",
       "      <td>-0.001275</td>\n",
       "      <td>-0.002631</td>\n",
       "      <td>0.001357</td>\n",
       "      <td>0.002119</td>\n",
       "      <td>60.317695</td>\n",
       "      <td>1.135861</td>\n",
       "      <td>1.124199</td>\n",
       "      <td>96.397770</td>\n",
       "      <td>2.0</td>\n",
       "    </tr>\n",
       "    <tr>\n",
       "      <th>2347</th>\n",
       "      <td>2021-12-30</td>\n",
       "      <td>1.1323</td>\n",
       "      <td>1.1349</td>\n",
       "      <td>1.1360</td>\n",
       "      <td>1.1298</td>\n",
       "      <td>-0.22%</td>\n",
       "      <td>-0.0025</td>\n",
       "      <td>1.0</td>\n",
       "      <td>1.130150</td>\n",
       "      <td>1.132687</td>\n",
       "      <td>1.181001</td>\n",
       "      <td>-0.001093</td>\n",
       "      <td>-0.002323</td>\n",
       "      <td>0.001231</td>\n",
       "      <td>-0.000441</td>\n",
       "      <td>52.902228</td>\n",
       "      <td>1.136068</td>\n",
       "      <td>1.124232</td>\n",
       "      <td>81.244514</td>\n",
       "      <td>1.0</td>\n",
       "    </tr>\n",
       "    <tr>\n",
       "      <th>2348</th>\n",
       "      <td>2021-12-31</td>\n",
       "      <td>1.1368</td>\n",
       "      <td>1.1324</td>\n",
       "      <td>1.1387</td>\n",
       "      <td>1.1302</td>\n",
       "      <td>0.40%</td>\n",
       "      <td>0.0045</td>\n",
       "      <td>2.0</td>\n",
       "      <td>1.130425</td>\n",
       "      <td>1.135851</td>\n",
       "      <td>1.180983</td>\n",
       "      <td>-0.000579</td>\n",
       "      <td>-0.001974</td>\n",
       "      <td>0.001396</td>\n",
       "      <td>0.004506</td>\n",
       "      <td>62.481977</td>\n",
       "      <td>1.137039</td>\n",
       "      <td>1.123811</td>\n",
       "      <td>133.875356</td>\n",
       "      <td>2.0</td>\n",
       "    </tr>\n",
       "  </tbody>\n",
       "</table>\n",
       "<p>467 rows × 20 columns</p>\n",
       "</div>"
      ],
      "text/plain": [
       "           Date   Price    Open    High     Low Change %  diff_1  label  \\\n",
       "1882 2020-03-19  1.0690  1.0915  1.0982  1.0654   -2.04% -0.0223    1.0   \n",
       "1883 2020-03-20  1.0694  1.0691  1.0832  1.0637    0.04%  0.0004    0.0   \n",
       "1884 2020-03-23  1.0721  1.0696  1.0828  1.0637    0.25%  0.0027    2.0   \n",
       "1885 2020-03-24  1.0787  1.0726  1.0889  1.0722    0.62%  0.0066    2.0   \n",
       "1886 2020-03-25  1.0880  1.0789  1.0895  1.0761    0.86%  0.0093    2.0   \n",
       "...         ...     ...     ...     ...     ...      ...     ...    ...   \n",
       "2344 2021-12-27  1.1325  1.1318  1.1335  1.1302    0.07%  0.0008    0.0   \n",
       "2345 2021-12-28  1.1309  1.1329  1.1335  1.1289   -0.14% -0.0016    0.0   \n",
       "2346 2021-12-29  1.1348  1.1310  1.1370  1.1273    0.34%  0.0039    2.0   \n",
       "2347 2021-12-30  1.1323  1.1349  1.1360  1.1298   -0.22% -0.0025    1.0   \n",
       "2348 2021-12-31  1.1368  1.1324  1.1387  1.1302    0.40%  0.0045    2.0   \n",
       "\n",
       "           sma       ema       cma      macd    macd_s    macd_h       roc  \\\n",
       "1882  1.107490  1.074800  1.183894 -0.000745  0.003931 -0.004676 -0.044085   \n",
       "1883  1.106745  1.070646  1.183833 -0.003461  0.002452 -0.005913 -0.037010   \n",
       "1884  1.106090  1.071765  1.183774 -0.005334  0.000895 -0.006229 -0.041141   \n",
       "1885  1.105630  1.077100  1.183718 -0.006214 -0.000527 -0.005687 -0.019007   \n",
       "1886  1.105635  1.085485  1.183667 -0.006091 -0.001640 -0.004451 -0.003024   \n",
       "...        ...       ...       ...       ...       ...       ...       ...   \n",
       "2344  1.130020  1.132357  1.181063 -0.001917 -0.003277  0.001360  0.004435   \n",
       "2345  1.129885  1.131236  1.181042 -0.001742 -0.002970  0.001228  0.002304   \n",
       "2346  1.130030  1.133978  1.181022 -0.001275 -0.002631  0.001357  0.002119   \n",
       "2347  1.130150  1.132687  1.181001 -0.001093 -0.002323  0.001231 -0.000441   \n",
       "2348  1.130425  1.135851  1.180983 -0.000579 -0.001974  0.001396  0.004506   \n",
       "\n",
       "            rsi  Bollinger_up  Bollinger_down         cci  Pred  \n",
       "1882  23.877925      1.145800        1.069180 -108.697395   NaN  \n",
       "1883  24.319823      1.147458        1.066032 -120.426503   NaN  \n",
       "1884  27.593536      1.148642        1.063538 -110.923061   NaN  \n",
       "1885  35.467042      1.149197        1.062063  -84.900046   NaN  \n",
       "1886  45.162255      1.149193        1.062077  -68.873073   2.0  \n",
       "...         ...           ...             ...         ...   ...  \n",
       "2344  55.666956      1.135719        1.124321   64.885520   0.0  \n",
       "2345  51.038878      1.135350        1.124420   35.968157   0.0  \n",
       "2346  60.317695      1.135861        1.124199   96.397770   2.0  \n",
       "2347  52.902228      1.136068        1.124232   81.244514   1.0  \n",
       "2348  62.481977      1.137039        1.123811  133.875356   2.0  \n",
       "\n",
       "[467 rows x 20 columns]"
      ]
     },
     "execution_count": 473,
     "metadata": {},
     "output_type": "execute_result"
    }
   ],
   "source": [
    "result_df = Signal_LSTM.predict(test_df, path = PATH_TO_LOAD)\n",
    "result_df"
   ]
  },
  {
   "cell_type": "code",
   "execution_count": 474,
   "metadata": {},
   "outputs": [],
   "source": [
    "temp = result_df[[\"Pred\", \"label\"]].dropna()\n",
    "pred_in_result_df = temp[\"Pred\"]\n",
    "actual_labels = temp[\"label\"]"
   ]
  },
  {
   "cell_type": "code",
   "execution_count": 475,
   "metadata": {},
   "outputs": [
    {
     "data": {
      "text/plain": [
       "0.9114470842332614"
      ]
     },
     "execution_count": 475,
     "metadata": {},
     "output_type": "execute_result"
    }
   ],
   "source": [
    "accuracy_score(actual_labels, pred_in_result_df)"
   ]
  },
  {
   "cell_type": "code",
   "execution_count": null,
   "metadata": {},
   "outputs": [],
   "source": []
  }
 ],
 "metadata": {
  "kernelspec": {
   "display_name": "Python 3 (ipykernel)",
   "language": "python",
   "name": "python3"
  },
  "language_info": {
   "codemirror_mode": {
    "name": "ipython",
    "version": 3
   },
   "file_extension": ".py",
   "mimetype": "text/x-python",
   "name": "python",
   "nbconvert_exporter": "python",
   "pygments_lexer": "ipython3",
   "version": "3.8.2"
  }
 },
 "nbformat": 4,
 "nbformat_minor": 1
}
