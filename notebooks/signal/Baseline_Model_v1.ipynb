{
 "cells": [
  {
   "cell_type": "code",
   "execution_count": 116,
   "metadata": {},
   "outputs": [],
   "source": [
    "import sys, os\n",
    "\n",
    "import math\n",
    "\n",
    "import numpy as np\n",
    "import pandas as pd\n",
    "import matplotlib.pyplot as plt\n",
    "import seaborn as sns\n",
    "\n",
    "from sklearn.preprocessing import StandardScaler, MinMaxScaler\n",
    "\n",
    "from sklearn.model_selection import train_test_split\n",
    "from sklearn.tree import DecisionTreeClassifier\n",
    "from sklearn.ensemble import RandomForestClassifier, AdaBoostClassifier\n",
    "\n",
    "from sklearn.inspection import permutation_importance"
   ]
  },
  {
   "cell_type": "markdown",
   "metadata": {},
   "source": [
    "## Loading Dataset"
   ]
  },
  {
   "cell_type": "code",
   "execution_count": 2,
   "metadata": {},
   "outputs": [],
   "source": [
    "df = pd.read_csv(\"../../data/processed/signalEUR_USD_Labelled_v1_processed.csv\", index_col=0)"
   ]
  },
  {
   "cell_type": "code",
   "execution_count": 3,
   "metadata": {},
   "outputs": [],
   "source": [
    "df[\"Date\"] = pd.to_datetime(df[\"Date\"])\n",
    "\n",
    "# Labels 3 days ahead\n",
    "df[\"label_3days\"] = df[\"label\"].shift(-3)\n",
    "\n",
    "# Labels 5 days ahead\n",
    "df[\"label_5days\"] = df[\"label\"].shift(-5)"
   ]
  },
  {
   "cell_type": "code",
   "execution_count": 4,
   "metadata": {},
   "outputs": [
    {
     "data": {
      "text/html": [
       "<div>\n",
       "<style scoped>\n",
       "    .dataframe tbody tr th:only-of-type {\n",
       "        vertical-align: middle;\n",
       "    }\n",
       "\n",
       "    .dataframe tbody tr th {\n",
       "        vertical-align: top;\n",
       "    }\n",
       "\n",
       "    .dataframe thead th {\n",
       "        text-align: right;\n",
       "    }\n",
       "</style>\n",
       "<table border=\"1\" class=\"dataframe\">\n",
       "  <thead>\n",
       "    <tr style=\"text-align: right;\">\n",
       "      <th></th>\n",
       "      <th>Date</th>\n",
       "      <th>Price</th>\n",
       "      <th>Open</th>\n",
       "      <th>High</th>\n",
       "      <th>Low</th>\n",
       "      <th>Change %</th>\n",
       "      <th>diff_1</th>\n",
       "      <th>label</th>\n",
       "      <th>sma</th>\n",
       "      <th>ema</th>\n",
       "      <th>...</th>\n",
       "      <th>macd</th>\n",
       "      <th>macd_s</th>\n",
       "      <th>macd_h</th>\n",
       "      <th>roc</th>\n",
       "      <th>rsi</th>\n",
       "      <th>Bollinger_up</th>\n",
       "      <th>Bollinger_down</th>\n",
       "      <th>cci</th>\n",
       "      <th>label_3days</th>\n",
       "      <th>label_5days</th>\n",
       "    </tr>\n",
       "  </thead>\n",
       "  <tbody>\n",
       "    <tr>\n",
       "      <th>0</th>\n",
       "      <td>2013-02-15</td>\n",
       "      <td>1.3363</td>\n",
       "      <td>1.3363</td>\n",
       "      <td>1.3394</td>\n",
       "      <td>1.3306</td>\n",
       "      <td>0.01%</td>\n",
       "      <td>0.0002</td>\n",
       "      <td>0.0</td>\n",
       "      <td>1.344735</td>\n",
       "      <td>1.336730</td>\n",
       "      <td>...</td>\n",
       "      <td>0.002701</td>\n",
       "      <td>0.005461</td>\n",
       "      <td>-0.002760</td>\n",
       "      <td>-0.000150</td>\n",
       "      <td>39.939646</td>\n",
       "      <td>1.364281</td>\n",
       "      <td>1.325189</td>\n",
       "      <td>-62.849696</td>\n",
       "      <td>1.0</td>\n",
       "      <td>0.0</td>\n",
       "    </tr>\n",
       "    <tr>\n",
       "      <th>1</th>\n",
       "      <td>2013-02-18</td>\n",
       "      <td>1.3352</td>\n",
       "      <td>1.3357</td>\n",
       "      <td>1.3377</td>\n",
       "      <td>1.3321</td>\n",
       "      <td>-0.08%</td>\n",
       "      <td>-0.0011</td>\n",
       "      <td>0.0</td>\n",
       "      <td>1.344925</td>\n",
       "      <td>1.335553</td>\n",
       "      <td>...</td>\n",
       "      <td>0.001906</td>\n",
       "      <td>0.004750</td>\n",
       "      <td>-0.002844</td>\n",
       "      <td>-0.004102</td>\n",
       "      <td>38.588551</td>\n",
       "      <td>1.363994</td>\n",
       "      <td>1.325856</td>\n",
       "      <td>-68.561252</td>\n",
       "      <td>1.0</td>\n",
       "      <td>1.0</td>\n",
       "    </tr>\n",
       "    <tr>\n",
       "      <th>2</th>\n",
       "      <td>2013-02-19</td>\n",
       "      <td>1.3388</td>\n",
       "      <td>1.3352</td>\n",
       "      <td>1.3397</td>\n",
       "      <td>1.3329</td>\n",
       "      <td>0.27%</td>\n",
       "      <td>0.0036</td>\n",
       "      <td>2.0</td>\n",
       "      <td>1.345260</td>\n",
       "      <td>1.338051</td>\n",
       "      <td>...</td>\n",
       "      <td>0.001549</td>\n",
       "      <td>0.004109</td>\n",
       "      <td>-0.002561</td>\n",
       "      <td>-0.004906</td>\n",
       "      <td>45.544851</td>\n",
       "      <td>1.363601</td>\n",
       "      <td>1.326919</td>\n",
       "      <td>-57.039491</td>\n",
       "      <td>0.0</td>\n",
       "      <td>0.0</td>\n",
       "    </tr>\n",
       "    <tr>\n",
       "      <th>3</th>\n",
       "      <td>2013-02-20</td>\n",
       "      <td>1.3281</td>\n",
       "      <td>1.3387</td>\n",
       "      <td>1.3434</td>\n",
       "      <td>1.3270</td>\n",
       "      <td>-0.80%</td>\n",
       "      <td>-0.0107</td>\n",
       "      <td>1.0</td>\n",
       "      <td>1.345075</td>\n",
       "      <td>1.330396</td>\n",
       "      <td>...</td>\n",
       "      <td>0.000398</td>\n",
       "      <td>0.003367</td>\n",
       "      <td>-0.002969</td>\n",
       "      <td>-0.012785</td>\n",
       "      <td>32.802173</td>\n",
       "      <td>1.364052</td>\n",
       "      <td>1.326098</td>\n",
       "      <td>-90.131403</td>\n",
       "      <td>1.0</td>\n",
       "      <td>2.0</td>\n",
       "    </tr>\n",
       "    <tr>\n",
       "      <th>4</th>\n",
       "      <td>2013-02-21</td>\n",
       "      <td>1.3189</td>\n",
       "      <td>1.3283</td>\n",
       "      <td>1.3291</td>\n",
       "      <td>1.3161</td>\n",
       "      <td>-0.69%</td>\n",
       "      <td>-0.0092</td>\n",
       "      <td>1.0</td>\n",
       "      <td>1.344140</td>\n",
       "      <td>1.321553</td>\n",
       "      <td>...</td>\n",
       "      <td>-0.001242</td>\n",
       "      <td>0.002445</td>\n",
       "      <td>-0.003688</td>\n",
       "      <td>-0.012873</td>\n",
       "      <td>25.675429</td>\n",
       "      <td>1.366251</td>\n",
       "      <td>1.322029</td>\n",
       "      <td>-149.263447</td>\n",
       "      <td>0.0</td>\n",
       "      <td>1.0</td>\n",
       "    </tr>\n",
       "  </tbody>\n",
       "</table>\n",
       "<p>5 rows × 21 columns</p>\n",
       "</div>"
      ],
      "text/plain": [
       "        Date   Price    Open    High     Low Change %  diff_1  label  \\\n",
       "0 2013-02-15  1.3363  1.3363  1.3394  1.3306    0.01%  0.0002    0.0   \n",
       "1 2013-02-18  1.3352  1.3357  1.3377  1.3321   -0.08% -0.0011    0.0   \n",
       "2 2013-02-19  1.3388  1.3352  1.3397  1.3329    0.27%  0.0036    2.0   \n",
       "3 2013-02-20  1.3281  1.3387  1.3434  1.3270   -0.80% -0.0107    1.0   \n",
       "4 2013-02-21  1.3189  1.3283  1.3291  1.3161   -0.69% -0.0092    1.0   \n",
       "\n",
       "        sma       ema  ...      macd    macd_s    macd_h       roc        rsi  \\\n",
       "0  1.344735  1.336730  ...  0.002701  0.005461 -0.002760 -0.000150  39.939646   \n",
       "1  1.344925  1.335553  ...  0.001906  0.004750 -0.002844 -0.004102  38.588551   \n",
       "2  1.345260  1.338051  ...  0.001549  0.004109 -0.002561 -0.004906  45.544851   \n",
       "3  1.345075  1.330396  ...  0.000398  0.003367 -0.002969 -0.012785  32.802173   \n",
       "4  1.344140  1.321553  ... -0.001242  0.002445 -0.003688 -0.012873  25.675429   \n",
       "\n",
       "   Bollinger_up  Bollinger_down         cci  label_3days  label_5days  \n",
       "0      1.364281        1.325189  -62.849696          1.0          0.0  \n",
       "1      1.363994        1.325856  -68.561252          1.0          1.0  \n",
       "2      1.363601        1.326919  -57.039491          0.0          0.0  \n",
       "3      1.364052        1.326098  -90.131403          1.0          2.0  \n",
       "4      1.366251        1.322029 -149.263447          0.0          1.0  \n",
       "\n",
       "[5 rows x 21 columns]"
      ]
     },
     "execution_count": 4,
     "metadata": {},
     "output_type": "execute_result"
    }
   ],
   "source": [
    "# Drop NA\n",
    "df = df.dropna(axis = 0)\n",
    "df = df.reset_index(drop=True)\n",
    "df.head()"
   ]
  },
  {
   "cell_type": "code",
   "execution_count": 17,
   "metadata": {},
   "outputs": [
    {
     "data": {
      "text/plain": [
       "<AxesSubplot:xlabel='Price', ylabel='Count'>"
      ]
     },
     "execution_count": 17,
     "metadata": {},
     "output_type": "execute_result"
    },
    {
     "data": {
      "image/png": "[encoded data removed]",
      "text/plain": [
       "<Figure size 432x288 with 1 Axes>"
      ]
     },
     "metadata": {
      "needs_background": "light"
     },
     "output_type": "display_data"
    }
   ],
   "source": [
    "sns.histplot(df[\"Price\"], kde=True)"
   ]
  },
  {
   "cell_type": "markdown",
   "metadata": {},
   "source": [
    "## Window"
   ]
  },
  {
   "cell_type": "code",
   "execution_count": 57,
   "metadata": {},
   "outputs": [
    {
     "data": {
      "text/plain": [
       "(2311, 15)"
      ]
     },
     "execution_count": 57,
     "metadata": {},
     "output_type": "execute_result"
    }
   ],
   "source": [
    "time = [\"Date\"]\n",
    "\n",
    "columns = [ \"sma\", \"ema\", \"cma\", \"macd\",\t\"macd_s\",\n",
    "\"macd_h\", \"roc\", \"rsi\",\t\"Bollinger_up\", \"Bollinger_down\", \"cci\"]\n",
    "\n",
    "labels = [\"label\", \"label_3days\", \"label_5days\"]\n",
    "\n",
    "features1 = df[time + columns + labels]\n",
    "\n",
    "features1.shape"
   ]
  },
  {
   "cell_type": "code",
   "execution_count": 58,
   "metadata": {},
   "outputs": [
    {
     "data": {
      "text/html": [
       "<div>\n",
       "<style scoped>\n",
       "    .dataframe tbody tr th:only-of-type {\n",
       "        vertical-align: middle;\n",
       "    }\n",
       "\n",
       "    .dataframe tbody tr th {\n",
       "        vertical-align: top;\n",
       "    }\n",
       "\n",
       "    .dataframe thead th {\n",
       "        text-align: right;\n",
       "    }\n",
       "</style>\n",
       "<table border=\"1\" class=\"dataframe\">\n",
       "  <thead>\n",
       "    <tr style=\"text-align: right;\">\n",
       "      <th></th>\n",
       "      <th>Date</th>\n",
       "      <th>sma</th>\n",
       "      <th>ema</th>\n",
       "      <th>cma</th>\n",
       "      <th>macd</th>\n",
       "      <th>macd_s</th>\n",
       "      <th>macd_h</th>\n",
       "      <th>roc</th>\n",
       "      <th>rsi</th>\n",
       "      <th>Bollinger_up</th>\n",
       "      <th>Bollinger_down</th>\n",
       "      <th>cci</th>\n",
       "      <th>label</th>\n",
       "      <th>label_3days</th>\n",
       "      <th>label_5days</th>\n",
       "    </tr>\n",
       "  </thead>\n",
       "  <tbody>\n",
       "    <tr>\n",
       "      <th>0</th>\n",
       "      <td>2013-02-15</td>\n",
       "      <td>1.344735</td>\n",
       "      <td>1.336730</td>\n",
       "      <td>1.335315</td>\n",
       "      <td>0.002701</td>\n",
       "      <td>0.005461</td>\n",
       "      <td>-0.002760</td>\n",
       "      <td>-0.000150</td>\n",
       "      <td>39.939646</td>\n",
       "      <td>1.364281</td>\n",
       "      <td>1.325189</td>\n",
       "      <td>-62.849696</td>\n",
       "      <td>0.0</td>\n",
       "      <td>1.0</td>\n",
       "      <td>0.0</td>\n",
       "    </tr>\n",
       "    <tr>\n",
       "      <th>1</th>\n",
       "      <td>2013-02-18</td>\n",
       "      <td>1.344925</td>\n",
       "      <td>1.335553</td>\n",
       "      <td>1.335311</td>\n",
       "      <td>0.001906</td>\n",
       "      <td>0.004750</td>\n",
       "      <td>-0.002844</td>\n",
       "      <td>-0.004102</td>\n",
       "      <td>38.588551</td>\n",
       "      <td>1.363994</td>\n",
       "      <td>1.325856</td>\n",
       "      <td>-68.561252</td>\n",
       "      <td>0.0</td>\n",
       "      <td>1.0</td>\n",
       "      <td>1.0</td>\n",
       "    </tr>\n",
       "    <tr>\n",
       "      <th>2</th>\n",
       "      <td>2013-02-19</td>\n",
       "      <td>1.345260</td>\n",
       "      <td>1.338051</td>\n",
       "      <td>1.335408</td>\n",
       "      <td>0.001549</td>\n",
       "      <td>0.004109</td>\n",
       "      <td>-0.002561</td>\n",
       "      <td>-0.004906</td>\n",
       "      <td>45.544851</td>\n",
       "      <td>1.363601</td>\n",
       "      <td>1.326919</td>\n",
       "      <td>-57.039491</td>\n",
       "      <td>2.0</td>\n",
       "      <td>0.0</td>\n",
       "      <td>0.0</td>\n",
       "    </tr>\n",
       "    <tr>\n",
       "      <th>3</th>\n",
       "      <td>2013-02-20</td>\n",
       "      <td>1.345075</td>\n",
       "      <td>1.330396</td>\n",
       "      <td>1.335211</td>\n",
       "      <td>0.000398</td>\n",
       "      <td>0.003367</td>\n",
       "      <td>-0.002969</td>\n",
       "      <td>-0.012785</td>\n",
       "      <td>32.802173</td>\n",
       "      <td>1.364052</td>\n",
       "      <td>1.326098</td>\n",
       "      <td>-90.131403</td>\n",
       "      <td>1.0</td>\n",
       "      <td>1.0</td>\n",
       "      <td>2.0</td>\n",
       "    </tr>\n",
       "    <tr>\n",
       "      <th>4</th>\n",
       "      <td>2013-02-21</td>\n",
       "      <td>1.344140</td>\n",
       "      <td>1.321553</td>\n",
       "      <td>1.334782</td>\n",
       "      <td>-0.001242</td>\n",
       "      <td>0.002445</td>\n",
       "      <td>-0.003688</td>\n",
       "      <td>-0.012873</td>\n",
       "      <td>25.675429</td>\n",
       "      <td>1.366251</td>\n",
       "      <td>1.322029</td>\n",
       "      <td>-149.263447</td>\n",
       "      <td>1.0</td>\n",
       "      <td>0.0</td>\n",
       "      <td>1.0</td>\n",
       "    </tr>\n",
       "  </tbody>\n",
       "</table>\n",
       "</div>"
      ],
      "text/plain": [
       "        Date       sma       ema       cma      macd    macd_s    macd_h  \\\n",
       "0 2013-02-15  1.344735  1.336730  1.335315  0.002701  0.005461 -0.002760   \n",
       "1 2013-02-18  1.344925  1.335553  1.335311  0.001906  0.004750 -0.002844   \n",
       "2 2013-02-19  1.345260  1.338051  1.335408  0.001549  0.004109 -0.002561   \n",
       "3 2013-02-20  1.345075  1.330396  1.335211  0.000398  0.003367 -0.002969   \n",
       "4 2013-02-21  1.344140  1.321553  1.334782 -0.001242  0.002445 -0.003688   \n",
       "\n",
       "        roc        rsi  Bollinger_up  Bollinger_down         cci  label  \\\n",
       "0 -0.000150  39.939646      1.364281        1.325189  -62.849696    0.0   \n",
       "1 -0.004102  38.588551      1.363994        1.325856  -68.561252    0.0   \n",
       "2 -0.004906  45.544851      1.363601        1.326919  -57.039491    2.0   \n",
       "3 -0.012785  32.802173      1.364052        1.326098  -90.131403    1.0   \n",
       "4 -0.012873  25.675429      1.366251        1.322029 -149.263447    1.0   \n",
       "\n",
       "   label_3days  label_5days  \n",
       "0          1.0          0.0  \n",
       "1          1.0          1.0  \n",
       "2          0.0          0.0  \n",
       "3          1.0          2.0  \n",
       "4          0.0          1.0  "
      ]
     },
     "execution_count": 58,
     "metadata": {},
     "output_type": "execute_result"
    }
   ],
   "source": [
    "features1.head()"
   ]
  },
  {
   "cell_type": "code",
   "execution_count": 59,
   "metadata": {},
   "outputs": [
    {
     "data": {
      "text/plain": [
       "array([ 1.17977209e+00,  1.17890886e+00,  1.23712365e+00, -6.15670090e-04,\n",
       "       -5.98763832e-04, -1.69062585e-05, -3.13856743e-04,  4.87670189e+01,\n",
       "        1.19763127e+00,  1.16191291e+00, -6.68399397e+00])"
      ]
     },
     "execution_count": 59,
     "metadata": {},
     "output_type": "execute_result"
    }
   ],
   "source": [
    "# Standard Scaler\n",
    "standard_scaler = StandardScaler()\n",
    "standard_scaler.fit(features1.drop(time + labels, axis=1))\n",
    "standard_scaler.mean_"
   ]
  },
  {
   "cell_type": "code",
   "execution_count": 60,
   "metadata": {},
   "outputs": [],
   "source": [
    "features2 = pd.DataFrame(standard_scaler.transform(features1.drop(time + labels, axis=1)), columns=columns)\n",
    "features2 = pd.concat([features1[time], features2, features1[labels]], axis = 1)"
   ]
  },
  {
   "cell_type": "code",
   "execution_count": 61,
   "metadata": {},
   "outputs": [
    {
     "data": {
      "text/html": [
       "<div>\n",
       "<style scoped>\n",
       "    .dataframe tbody tr th:only-of-type {\n",
       "        vertical-align: middle;\n",
       "    }\n",
       "\n",
       "    .dataframe tbody tr th {\n",
       "        vertical-align: top;\n",
       "    }\n",
       "\n",
       "    .dataframe thead th {\n",
       "        text-align: right;\n",
       "    }\n",
       "</style>\n",
       "<table border=\"1\" class=\"dataframe\">\n",
       "  <thead>\n",
       "    <tr style=\"text-align: right;\">\n",
       "      <th></th>\n",
       "      <th>Date</th>\n",
       "      <th>sma</th>\n",
       "      <th>ema</th>\n",
       "      <th>cma</th>\n",
       "      <th>macd</th>\n",
       "      <th>macd_s</th>\n",
       "      <th>macd_h</th>\n",
       "      <th>roc</th>\n",
       "      <th>rsi</th>\n",
       "      <th>Bollinger_up</th>\n",
       "      <th>Bollinger_down</th>\n",
       "      <th>cci</th>\n",
       "      <th>label</th>\n",
       "      <th>label_3days</th>\n",
       "      <th>label_5days</th>\n",
       "    </tr>\n",
       "  </thead>\n",
       "  <tbody>\n",
       "    <tr>\n",
       "      <th>0</th>\n",
       "      <td>2013-02-15</td>\n",
       "      <td>1.843927</td>\n",
       "      <td>1.765630</td>\n",
       "      <td>1.700054</td>\n",
       "      <td>0.569493</td>\n",
       "      <td>1.104145</td>\n",
       "      <td>-1.562118</td>\n",
       "      <td>0.015643</td>\n",
       "      <td>-0.558306</td>\n",
       "      <td>1.868364</td>\n",
       "      <td>1.801523</td>\n",
       "      <td>-0.650418</td>\n",
       "      <td>0.0</td>\n",
       "      <td>1.0</td>\n",
       "      <td>0.0</td>\n",
       "    </tr>\n",
       "    <tr>\n",
       "      <th>1</th>\n",
       "      <td>2013-02-18</td>\n",
       "      <td>1.846050</td>\n",
       "      <td>1.752464</td>\n",
       "      <td>1.699997</td>\n",
       "      <td>0.433038</td>\n",
       "      <td>0.974598</td>\n",
       "      <td>-1.609756</td>\n",
       "      <td>-0.360889</td>\n",
       "      <td>-0.643759</td>\n",
       "      <td>1.865138</td>\n",
       "      <td>1.808891</td>\n",
       "      <td>-0.716559</td>\n",
       "      <td>0.0</td>\n",
       "      <td>1.0</td>\n",
       "      <td>1.0</td>\n",
       "    </tr>\n",
       "    <tr>\n",
       "      <th>2</th>\n",
       "      <td>2013-02-19</td>\n",
       "      <td>1.849795</td>\n",
       "      <td>1.780406</td>\n",
       "      <td>1.701675</td>\n",
       "      <td>0.371716</td>\n",
       "      <td>0.857946</td>\n",
       "      <td>-1.448553</td>\n",
       "      <td>-0.437408</td>\n",
       "      <td>-0.203793</td>\n",
       "      <td>1.860741</td>\n",
       "      <td>1.820610</td>\n",
       "      <td>-0.583134</td>\n",
       "      <td>2.0</td>\n",
       "      <td>0.0</td>\n",
       "      <td>0.0</td>\n",
       "    </tr>\n",
       "    <tr>\n",
       "      <th>3</th>\n",
       "      <td>2013-02-20</td>\n",
       "      <td>1.847727</td>\n",
       "      <td>1.694772</td>\n",
       "      <td>1.698255</td>\n",
       "      <td>0.174057</td>\n",
       "      <td>0.722679</td>\n",
       "      <td>-1.681263</td>\n",
       "      <td>-1.188020</td>\n",
       "      <td>-1.009730</td>\n",
       "      <td>1.865790</td>\n",
       "      <td>1.811559</td>\n",
       "      <td>-0.966349</td>\n",
       "      <td>1.0</td>\n",
       "      <td>1.0</td>\n",
       "      <td>2.0</td>\n",
       "    </tr>\n",
       "    <tr>\n",
       "      <th>4</th>\n",
       "      <td>2013-02-21</td>\n",
       "      <td>1.837276</td>\n",
       "      <td>1.595837</td>\n",
       "      <td>1.690823</td>\n",
       "      <td>-0.107617</td>\n",
       "      <td>0.554689</td>\n",
       "      <td>-2.090305</td>\n",
       "      <td>-1.196406</td>\n",
       "      <td>-1.460476</td>\n",
       "      <td>1.890450</td>\n",
       "      <td>1.766657</td>\n",
       "      <td>-1.651118</td>\n",
       "      <td>1.0</td>\n",
       "      <td>0.0</td>\n",
       "      <td>1.0</td>\n",
       "    </tr>\n",
       "  </tbody>\n",
       "</table>\n",
       "</div>"
      ],
      "text/plain": [
       "        Date       sma       ema       cma      macd    macd_s    macd_h  \\\n",
       "0 2013-02-15  1.843927  1.765630  1.700054  0.569493  1.104145 -1.562118   \n",
       "1 2013-02-18  1.846050  1.752464  1.699997  0.433038  0.974598 -1.609756   \n",
       "2 2013-02-19  1.849795  1.780406  1.701675  0.371716  0.857946 -1.448553   \n",
       "3 2013-02-20  1.847727  1.694772  1.698255  0.174057  0.722679 -1.681263   \n",
       "4 2013-02-21  1.837276  1.595837  1.690823 -0.107617  0.554689 -2.090305   \n",
       "\n",
       "        roc       rsi  Bollinger_up  Bollinger_down       cci  label  \\\n",
       "0  0.015643 -0.558306      1.868364        1.801523 -0.650418    0.0   \n",
       "1 -0.360889 -0.643759      1.865138        1.808891 -0.716559    0.0   \n",
       "2 -0.437408 -0.203793      1.860741        1.820610 -0.583134    2.0   \n",
       "3 -1.188020 -1.009730      1.865790        1.811559 -0.966349    1.0   \n",
       "4 -1.196406 -1.460476      1.890450        1.766657 -1.651118    1.0   \n",
       "\n",
       "   label_3days  label_5days  \n",
       "0          1.0          0.0  \n",
       "1          1.0          1.0  \n",
       "2          0.0          0.0  \n",
       "3          1.0          2.0  \n",
       "4          0.0          1.0  "
      ]
     },
     "execution_count": 61,
     "metadata": {},
     "output_type": "execute_result"
    }
   ],
   "source": [
    "features2.head()"
   ]
  },
  {
   "cell_type": "code",
   "execution_count": 62,
   "metadata": {},
   "outputs": [
    {
     "name": "stdout",
     "output_type": "stream",
     "text": [
      "[-3.10524053 -2.9381228  -7.24653089  0.612275    0.61385758  0.49304603\n",
      "  0.49677715 -0.07559624 -3.13797349 -2.94571986  0.48667009]\n",
      "[1.38459500e+00 1.39303239e+00 1.34320512e+00 1.48608089e-02\n",
      " 1.34700393e-02 6.40467385e-03 4.86418193e-02 9.08132109e+01\n",
      " 1.39754232e+00 1.37748678e+00 2.26818881e+02]\n"
     ]
    }
   ],
   "source": [
    "# Min Max Scaler\n",
    "minmax_scaler = MinMaxScaler()\n",
    "minmax_scaler.fit(features1.drop(time + labels, axis=1))\n",
    "print(minmax_scaler.min_) \n",
    "print(minmax_scaler.data_max_)"
   ]
  },
  {
   "cell_type": "code",
   "execution_count": 65,
   "metadata": {},
   "outputs": [],
   "source": [
    "features3 = pd.DataFrame(minmax_scaler.transform(features1.drop(time + labels, axis=1)), columns=columns)\n",
    "features3 = pd.concat([features1[time], features3, features1[labels]], axis=1)"
   ]
  },
  {
   "cell_type": "code",
   "execution_count": 66,
   "metadata": {},
   "outputs": [
    {
     "data": {
      "text/html": [
       "<div>\n",
       "<style scoped>\n",
       "    .dataframe tbody tr th:only-of-type {\n",
       "        vertical-align: middle;\n",
       "    }\n",
       "\n",
       "    .dataframe tbody tr th {\n",
       "        vertical-align: top;\n",
       "    }\n",
       "\n",
       "    .dataframe thead th {\n",
       "        text-align: right;\n",
       "    }\n",
       "</style>\n",
       "<table border=\"1\" class=\"dataframe\">\n",
       "  <thead>\n",
       "    <tr style=\"text-align: right;\">\n",
       "      <th></th>\n",
       "      <th>Date</th>\n",
       "      <th>sma</th>\n",
       "      <th>ema</th>\n",
       "      <th>cma</th>\n",
       "      <th>macd</th>\n",
       "      <th>macd_s</th>\n",
       "      <th>macd_h</th>\n",
       "      <th>roc</th>\n",
       "      <th>rsi</th>\n",
       "      <th>Bollinger_up</th>\n",
       "      <th>Bollinger_down</th>\n",
       "      <th>cci</th>\n",
       "      <th>label</th>\n",
       "      <th>label_3days</th>\n",
       "      <th>label_5days</th>\n",
       "    </tr>\n",
       "  </thead>\n",
       "  <tbody>\n",
       "    <tr>\n",
       "      <th>0</th>\n",
       "      <td>2013-02-15</td>\n",
       "      <td>0.881818</td>\n",
       "      <td>0.840832</td>\n",
       "      <td>0.951557</td>\n",
       "      <td>0.682733</td>\n",
       "      <td>0.770395</td>\n",
       "      <td>0.274576</td>\n",
       "      <td>0.495229</td>\n",
       "      <td>0.397451</td>\n",
       "      <td>0.901518</td>\n",
       "      <td>0.850196</td>\n",
       "      <td>0.344430</td>\n",
       "      <td>0.0</td>\n",
       "      <td>1.0</td>\n",
       "      <td>0.0</td>\n",
       "    </tr>\n",
       "    <tr>\n",
       "      <th>1</th>\n",
       "      <td>2013-02-18</td>\n",
       "      <td>0.882381</td>\n",
       "      <td>0.837505</td>\n",
       "      <td>0.951537</td>\n",
       "      <td>0.662001</td>\n",
       "      <td>0.750015</td>\n",
       "      <td>0.267955</td>\n",
       "      <td>0.454337</td>\n",
       "      <td>0.381449</td>\n",
       "      <td>0.900666</td>\n",
       "      <td>0.852108</td>\n",
       "      <td>0.331504</td>\n",
       "      <td>0.0</td>\n",
       "      <td>1.0</td>\n",
       "      <td>1.0</td>\n",
       "    </tr>\n",
       "    <tr>\n",
       "      <th>2</th>\n",
       "      <td>2013-02-19</td>\n",
       "      <td>0.883374</td>\n",
       "      <td>0.844566</td>\n",
       "      <td>0.952132</td>\n",
       "      <td>0.652685</td>\n",
       "      <td>0.731663</td>\n",
       "      <td>0.290361</td>\n",
       "      <td>0.446026</td>\n",
       "      <td>0.463839</td>\n",
       "      <td>0.899504</td>\n",
       "      <td>0.855151</td>\n",
       "      <td>0.357580</td>\n",
       "      <td>2.0</td>\n",
       "      <td>0.0</td>\n",
       "      <td>0.0</td>\n",
       "    </tr>\n",
       "    <tr>\n",
       "      <th>3</th>\n",
       "      <td>2013-02-20</td>\n",
       "      <td>0.882826</td>\n",
       "      <td>0.822927</td>\n",
       "      <td>0.950919</td>\n",
       "      <td>0.622656</td>\n",
       "      <td>0.710383</td>\n",
       "      <td>0.258015</td>\n",
       "      <td>0.364508</td>\n",
       "      <td>0.312914</td>\n",
       "      <td>0.900838</td>\n",
       "      <td>0.852801</td>\n",
       "      <td>0.282687</td>\n",
       "      <td>1.0</td>\n",
       "      <td>1.0</td>\n",
       "      <td>2.0</td>\n",
       "    </tr>\n",
       "    <tr>\n",
       "      <th>4</th>\n",
       "      <td>2013-02-21</td>\n",
       "      <td>0.880053</td>\n",
       "      <td>0.797927</td>\n",
       "      <td>0.948284</td>\n",
       "      <td>0.579862</td>\n",
       "      <td>0.683956</td>\n",
       "      <td>0.201159</td>\n",
       "      <td>0.363597</td>\n",
       "      <td>0.228505</td>\n",
       "      <td>0.907350</td>\n",
       "      <td>0.841144</td>\n",
       "      <td>0.148861</td>\n",
       "      <td>1.0</td>\n",
       "      <td>0.0</td>\n",
       "      <td>1.0</td>\n",
       "    </tr>\n",
       "  </tbody>\n",
       "</table>\n",
       "</div>"
      ],
      "text/plain": [
       "        Date       sma       ema       cma      macd    macd_s    macd_h  \\\n",
       "0 2013-02-15  0.881818  0.840832  0.951557  0.682733  0.770395  0.274576   \n",
       "1 2013-02-18  0.882381  0.837505  0.951537  0.662001  0.750015  0.267955   \n",
       "2 2013-02-19  0.883374  0.844566  0.952132  0.652685  0.731663  0.290361   \n",
       "3 2013-02-20  0.882826  0.822927  0.950919  0.622656  0.710383  0.258015   \n",
       "4 2013-02-21  0.880053  0.797927  0.948284  0.579862  0.683956  0.201159   \n",
       "\n",
       "        roc       rsi  Bollinger_up  Bollinger_down       cci  label  \\\n",
       "0  0.495229  0.397451      0.901518        0.850196  0.344430    0.0   \n",
       "1  0.454337  0.381449      0.900666        0.852108  0.331504    0.0   \n",
       "2  0.446026  0.463839      0.899504        0.855151  0.357580    2.0   \n",
       "3  0.364508  0.312914      0.900838        0.852801  0.282687    1.0   \n",
       "4  0.363597  0.228505      0.907350        0.841144  0.148861    1.0   \n",
       "\n",
       "   label_3days  label_5days  \n",
       "0          1.0          0.0  \n",
       "1          1.0          1.0  \n",
       "2          0.0          0.0  \n",
       "3          1.0          2.0  \n",
       "4          0.0          1.0  "
      ]
     },
     "execution_count": 66,
     "metadata": {},
     "output_type": "execute_result"
    }
   ],
   "source": [
    "features3.head()"
   ]
  },
  {
   "cell_type": "code",
   "execution_count": 155,
   "metadata": {},
   "outputs": [],
   "source": [
    "# # Exporting scaled features\n",
    "# features2.to_csv(\"../../data/processed/signalEUR_USD_Labelled_v1_standardscaled.csv\")\n",
    "\n",
    "# # Exporting min max features\n",
    "# features3.to_csv(\"../../data/processed/signalEUR_USD_Labelled_v1_minmaxscaled.csv\")"
   ]
  },
  {
   "cell_type": "code",
   "execution_count": null,
   "metadata": {},
   "outputs": [],
   "source": []
  },
  {
   "cell_type": "code",
   "execution_count": null,
   "metadata": {},
   "outputs": [],
   "source": []
  },
  {
   "cell_type": "markdown",
   "metadata": {},
   "source": [
    "## Train test split"
   ]
  },
  {
   "cell_type": "code",
   "execution_count": 156,
   "metadata": {},
   "outputs": [],
   "source": [
    "features = features3"
   ]
  },
  {
   "cell_type": "code",
   "execution_count": 157,
   "metadata": {},
   "outputs": [
    {
     "name": "stdout",
     "output_type": "stream",
     "text": [
      "(2311, 11)\n",
      "(2311, 1)\n"
     ]
    }
   ],
   "source": [
    "X = features.drop(labels = time + labels, axis=1 )\n",
    "y = features[[\"label\"]]\n",
    "\n",
    "print(X.shape)\n",
    "print(y.shape)"
   ]
  },
  {
   "cell_type": "code",
   "execution_count": 158,
   "metadata": {},
   "outputs": [
    {
     "name": "stdout",
     "output_type": "stream",
     "text": [
      "(1848, 11) (463, 11)\n",
      "(1848, 1) (463, 1)\n"
     ]
    }
   ],
   "source": [
    "X_train, X_test, y_train, y_test = train_test_split(X, y, test_size=0.2, random_state=42)\n",
    "print(X_train.shape, X_test.shape)\n",
    "print(y_train.shape, y_test.shape)"
   ]
  },
  {
   "cell_type": "markdown",
   "metadata": {},
   "source": [
    "## Training Decision Tree"
   ]
  },
  {
   "cell_type": "code",
   "execution_count": 159,
   "metadata": {},
   "outputs": [
    {
     "data": {
      "text/plain": [
       "{'ccp_alpha': 0.0,\n",
       " 'class_weight': None,\n",
       " 'criterion': 'gini',\n",
       " 'max_depth': None,\n",
       " 'max_features': None,\n",
       " 'max_leaf_nodes': None,\n",
       " 'min_impurity_decrease': 0.0,\n",
       " 'min_samples_leaf': 1,\n",
       " 'min_samples_split': 2,\n",
       " 'min_weight_fraction_leaf': 0.0,\n",
       " 'random_state': 42,\n",
       " 'splitter': 'best'}"
      ]
     },
     "execution_count": 159,
     "metadata": {},
     "output_type": "execute_result"
    }
   ],
   "source": [
    "tree_model1 = DecisionTreeClassifier(random_state=42)\n",
    "\n",
    "tree_model1.get_params()"
   ]
  },
  {
   "cell_type": "code",
   "execution_count": 160,
   "metadata": {},
   "outputs": [
    {
     "data": {
      "text/plain": [
       "DecisionTreeClassifier(random_state=42)"
      ]
     },
     "execution_count": 160,
     "metadata": {},
     "output_type": "execute_result"
    }
   ],
   "source": [
    "tree_model1.fit(X_train, y_train)"
   ]
  },
  {
   "cell_type": "code",
   "execution_count": 161,
   "metadata": {},
   "outputs": [
    {
     "name": "stdout",
     "output_type": "stream",
     "text": [
      "Accuracy: 0.50540\n"
     ]
    }
   ],
   "source": [
    "tree_model1_accuracy = tree_model1.score(X_test, y_test)\n",
    "\n",
    "print(f\"Accuracy: {tree_model1_accuracy:.5f}\")"
   ]
  },
  {
   "cell_type": "code",
   "execution_count": 162,
   "metadata": {},
   "outputs": [
    {
     "data": {
      "text/plain": [
       "array([0.02254464, 0.02857028, 0.08558593, 0.08126624, 0.05196517,\n",
       "       0.11678272, 0.12457069, 0.24232853, 0.03841071, 0.03400347,\n",
       "       0.17397162])"
      ]
     },
     "execution_count": 162,
     "metadata": {},
     "output_type": "execute_result"
    }
   ],
   "source": [
    "tree_model1.feature_importances_"
   ]
  },
  {
   "cell_type": "code",
   "execution_count": 163,
   "metadata": {},
   "outputs": [],
   "source": [
    "feature_impotance = permutation_importance(tree_model1, X_train, y_train)"
   ]
  },
  {
   "cell_type": "code",
   "execution_count": 164,
   "metadata": {},
   "outputs": [
    {
     "data": {
      "text/html": [
       "<div>\n",
       "<style scoped>\n",
       "    .dataframe tbody tr th:only-of-type {\n",
       "        vertical-align: middle;\n",
       "    }\n",
       "\n",
       "    .dataframe tbody tr th {\n",
       "        vertical-align: top;\n",
       "    }\n",
       "\n",
       "    .dataframe thead th {\n",
       "        text-align: right;\n",
       "    }\n",
       "</style>\n",
       "<table border=\"1\" class=\"dataframe\">\n",
       "  <thead>\n",
       "    <tr style=\"text-align: right;\">\n",
       "      <th></th>\n",
       "      <th>Feature</th>\n",
       "      <th>Importances_mean</th>\n",
       "      <th>Importances_std</th>\n",
       "    </tr>\n",
       "  </thead>\n",
       "  <tbody>\n",
       "    <tr>\n",
       "      <th>0</th>\n",
       "      <td>rsi</td>\n",
       "      <td>0.641450</td>\n",
       "      <td>0.006260</td>\n",
       "    </tr>\n",
       "    <tr>\n",
       "      <th>1</th>\n",
       "      <td>cci</td>\n",
       "      <td>0.447078</td>\n",
       "      <td>0.005961</td>\n",
       "    </tr>\n",
       "    <tr>\n",
       "      <th>2</th>\n",
       "      <td>roc</td>\n",
       "      <td>0.244481</td>\n",
       "      <td>0.014121</td>\n",
       "    </tr>\n",
       "    <tr>\n",
       "      <th>3</th>\n",
       "      <td>macd_h</td>\n",
       "      <td>0.219589</td>\n",
       "      <td>0.003308</td>\n",
       "    </tr>\n",
       "    <tr>\n",
       "      <th>4</th>\n",
       "      <td>macd</td>\n",
       "      <td>0.192857</td>\n",
       "      <td>0.003221</td>\n",
       "    </tr>\n",
       "    <tr>\n",
       "      <th>5</th>\n",
       "      <td>cma</td>\n",
       "      <td>0.129545</td>\n",
       "      <td>0.006562</td>\n",
       "    </tr>\n",
       "    <tr>\n",
       "      <th>6</th>\n",
       "      <td>macd_s</td>\n",
       "      <td>0.065368</td>\n",
       "      <td>0.002725</td>\n",
       "    </tr>\n",
       "    <tr>\n",
       "      <th>7</th>\n",
       "      <td>Bollinger_down</td>\n",
       "      <td>0.063312</td>\n",
       "      <td>0.002346</td>\n",
       "    </tr>\n",
       "    <tr>\n",
       "      <th>8</th>\n",
       "      <td>Bollinger_up</td>\n",
       "      <td>0.055628</td>\n",
       "      <td>0.002306</td>\n",
       "    </tr>\n",
       "    <tr>\n",
       "      <th>9</th>\n",
       "      <td>ema</td>\n",
       "      <td>0.041126</td>\n",
       "      <td>0.001492</td>\n",
       "    </tr>\n",
       "    <tr>\n",
       "      <th>10</th>\n",
       "      <td>sma</td>\n",
       "      <td>0.030736</td>\n",
       "      <td>0.002593</td>\n",
       "    </tr>\n",
       "  </tbody>\n",
       "</table>\n",
       "</div>"
      ],
      "text/plain": [
       "           Feature  Importances_mean  Importances_std\n",
       "0              rsi          0.641450         0.006260\n",
       "1              cci          0.447078         0.005961\n",
       "2              roc          0.244481         0.014121\n",
       "3           macd_h          0.219589         0.003308\n",
       "4             macd          0.192857         0.003221\n",
       "5              cma          0.129545         0.006562\n",
       "6           macd_s          0.065368         0.002725\n",
       "7   Bollinger_down          0.063312         0.002346\n",
       "8     Bollinger_up          0.055628         0.002306\n",
       "9              ema          0.041126         0.001492\n",
       "10             sma          0.030736         0.002593"
      ]
     },
     "execution_count": 164,
     "metadata": {},
     "output_type": "execute_result"
    }
   ],
   "source": [
    "feature_impt_results = pd.DataFrame({\"Feature\": X_train.columns, \"Importances_mean\": feature_impotance[\"importances_mean\"],\n",
    "\"Importances_std\": feature_impotance[\"importances_std\"]})\n",
    "\n",
    "# Sort in descending order\n",
    "feature_impt_results = feature_impt_results.sort_values(by=\"Importances_mean\", ascending=False, ignore_index=True)\n",
    "\n",
    "feature_impt_results"
   ]
  },
  {
   "cell_type": "code",
   "execution_count": 165,
   "metadata": {},
   "outputs": [
    {
     "data": {
      "image/png": "[encoded data removed]",
      "text/plain": [
       "<Figure size 864x432 with 1 Axes>"
      ]
     },
     "metadata": {
      "needs_background": "light"
     },
     "output_type": "display_data"
    }
   ],
   "source": [
    "fig, ax = plt.subplots(figsize = (12, 6))\n",
    "ax = sns.barplot(x=\"Importances_mean\", y =\"Feature\", data=feature_impt_results, palette=\"RdBu_r\")\n",
    "\n",
    "# for i in ax.containers:\n",
    "#     ax.bar_label(i)\n",
    "\n",
    "for p in ax.patches:\n",
    "    _x = p.get_x() + p.get_width() + float(0.01)\n",
    "    _y = p.get_y() + p.get_height() - (p.get_height()*0.5)\n",
    "    value = '{:.2f}'.format(p.get_width())\n",
    "    ax.text(_x, _y, value, ha=\"left\")\n",
    "\n",
    "plt.show()"
   ]
  },
  {
   "cell_type": "code",
   "execution_count": null,
   "metadata": {},
   "outputs": [],
   "source": []
  },
  {
   "cell_type": "markdown",
   "metadata": {},
   "source": [
    "## Training Random Forest"
   ]
  },
  {
   "cell_type": "code",
   "execution_count": 166,
   "metadata": {},
   "outputs": [
    {
     "data": {
      "text/plain": [
       "{'bootstrap': True,\n",
       " 'ccp_alpha': 0.0,\n",
       " 'class_weight': None,\n",
       " 'criterion': 'gini',\n",
       " 'max_depth': None,\n",
       " 'max_features': 'auto',\n",
       " 'max_leaf_nodes': None,\n",
       " 'max_samples': None,\n",
       " 'min_impurity_decrease': 0.0,\n",
       " 'min_samples_leaf': 1,\n",
       " 'min_samples_split': 2,\n",
       " 'min_weight_fraction_leaf': 0.0,\n",
       " 'n_estimators': 100,\n",
       " 'n_jobs': None,\n",
       " 'oob_score': False,\n",
       " 'random_state': 42,\n",
       " 'verbose': 0,\n",
       " 'warm_start': False}"
      ]
     },
     "execution_count": 166,
     "metadata": {},
     "output_type": "execute_result"
    }
   ],
   "source": [
    "random_forest_model= RandomForestClassifier(random_state=42)\n",
    "\n",
    "random_forest_model.get_params()"
   ]
  },
  {
   "cell_type": "code",
   "execution_count": 167,
   "metadata": {},
   "outputs": [
    {
     "name": "stderr",
     "output_type": "stream",
     "text": [
      "/Users/daniel/opt/anaconda3/envs/openbank1/lib/python3.7/site-packages/ipykernel_launcher.py:1: DataConversionWarning: A column-vector y was passed when a 1d array was expected. Please change the shape of y to (n_samples,), for example using ravel().\n",
      "  \"\"\"Entry point for launching an IPython kernel.\n"
     ]
    },
    {
     "data": {
      "text/plain": [
       "RandomForestClassifier(random_state=42)"
      ]
     },
     "execution_count": 167,
     "metadata": {},
     "output_type": "execute_result"
    }
   ],
   "source": [
    "random_forest_model.fit(X_train, y_train)"
   ]
  },
  {
   "cell_type": "code",
   "execution_count": 168,
   "metadata": {},
   "outputs": [
    {
     "name": "stdout",
     "output_type": "stream",
     "text": [
      "Accuracy: 0.55940\n"
     ]
    }
   ],
   "source": [
    "random_forest_model_accuracy = random_forest_model.score(X_test, y_test)\n",
    "\n",
    "print(f\"Accuracy: {random_forest_model_accuracy:.5f}\")"
   ]
  },
  {
   "cell_type": "code",
   "execution_count": 169,
   "metadata": {},
   "outputs": [
    {
     "data": {
      "text/plain": [
       "array([0.05660855, 0.06089526, 0.0755308 , 0.08689046, 0.07601642,\n",
       "       0.10172269, 0.11002155, 0.18251744, 0.06348193, 0.06349847,\n",
       "       0.12281644])"
      ]
     },
     "execution_count": 169,
     "metadata": {},
     "output_type": "execute_result"
    }
   ],
   "source": [
    "random_forest_model.feature_importances_"
   ]
  },
  {
   "cell_type": "code",
   "execution_count": 170,
   "metadata": {},
   "outputs": [],
   "source": [
    "feature_impotance = permutation_importance(random_forest_model, X_train, y_train)"
   ]
  },
  {
   "cell_type": "code",
   "execution_count": 171,
   "metadata": {},
   "outputs": [
    {
     "data": {
      "text/html": [
       "<div>\n",
       "<style scoped>\n",
       "    .dataframe tbody tr th:only-of-type {\n",
       "        vertical-align: middle;\n",
       "    }\n",
       "\n",
       "    .dataframe tbody tr th {\n",
       "        vertical-align: top;\n",
       "    }\n",
       "\n",
       "    .dataframe thead th {\n",
       "        text-align: right;\n",
       "    }\n",
       "</style>\n",
       "<table border=\"1\" class=\"dataframe\">\n",
       "  <thead>\n",
       "    <tr style=\"text-align: right;\">\n",
       "      <th></th>\n",
       "      <th>Feature</th>\n",
       "      <th>Importances_mean</th>\n",
       "      <th>Importances_std</th>\n",
       "    </tr>\n",
       "  </thead>\n",
       "  <tbody>\n",
       "    <tr>\n",
       "      <th>0</th>\n",
       "      <td>rsi</td>\n",
       "      <td>0.558442</td>\n",
       "      <td>0.009410</td>\n",
       "    </tr>\n",
       "    <tr>\n",
       "      <th>1</th>\n",
       "      <td>cci</td>\n",
       "      <td>0.205736</td>\n",
       "      <td>0.006649</td>\n",
       "    </tr>\n",
       "    <tr>\n",
       "      <th>2</th>\n",
       "      <td>macd_h</td>\n",
       "      <td>0.144048</td>\n",
       "      <td>0.005184</td>\n",
       "    </tr>\n",
       "    <tr>\n",
       "      <th>3</th>\n",
       "      <td>roc</td>\n",
       "      <td>0.076623</td>\n",
       "      <td>0.004255</td>\n",
       "    </tr>\n",
       "    <tr>\n",
       "      <th>4</th>\n",
       "      <td>macd</td>\n",
       "      <td>0.052381</td>\n",
       "      <td>0.002065</td>\n",
       "    </tr>\n",
       "    <tr>\n",
       "      <th>5</th>\n",
       "      <td>cma</td>\n",
       "      <td>0.011688</td>\n",
       "      <td>0.002620</td>\n",
       "    </tr>\n",
       "    <tr>\n",
       "      <th>6</th>\n",
       "      <td>macd_s</td>\n",
       "      <td>0.005411</td>\n",
       "      <td>0.000342</td>\n",
       "    </tr>\n",
       "    <tr>\n",
       "      <th>7</th>\n",
       "      <td>Bollinger_up</td>\n",
       "      <td>0.002381</td>\n",
       "      <td>0.001004</td>\n",
       "    </tr>\n",
       "    <tr>\n",
       "      <th>8</th>\n",
       "      <td>Bollinger_down</td>\n",
       "      <td>0.002273</td>\n",
       "      <td>0.000631</td>\n",
       "    </tr>\n",
       "    <tr>\n",
       "      <th>9</th>\n",
       "      <td>ema</td>\n",
       "      <td>0.000325</td>\n",
       "      <td>0.000433</td>\n",
       "    </tr>\n",
       "    <tr>\n",
       "      <th>10</th>\n",
       "      <td>sma</td>\n",
       "      <td>0.000216</td>\n",
       "      <td>0.000433</td>\n",
       "    </tr>\n",
       "  </tbody>\n",
       "</table>\n",
       "</div>"
      ],
      "text/plain": [
       "           Feature  Importances_mean  Importances_std\n",
       "0              rsi          0.558442         0.009410\n",
       "1              cci          0.205736         0.006649\n",
       "2           macd_h          0.144048         0.005184\n",
       "3              roc          0.076623         0.004255\n",
       "4             macd          0.052381         0.002065\n",
       "5              cma          0.011688         0.002620\n",
       "6           macd_s          0.005411         0.000342\n",
       "7     Bollinger_up          0.002381         0.001004\n",
       "8   Bollinger_down          0.002273         0.000631\n",
       "9              ema          0.000325         0.000433\n",
       "10             sma          0.000216         0.000433"
      ]
     },
     "execution_count": 171,
     "metadata": {},
     "output_type": "execute_result"
    }
   ],
   "source": [
    "feature_impt_results = pd.DataFrame({\"Feature\": X_train.columns, \"Importances_mean\": feature_impotance[\"importances_mean\"],\n",
    "\"Importances_std\": feature_impotance[\"importances_std\"]})\n",
    "\n",
    "# Sort in descending order\n",
    "feature_impt_results = feature_impt_results.sort_values(by=\"Importances_mean\", ascending=False, ignore_index=True)\n",
    "\n",
    "feature_impt_results"
   ]
  },
  {
   "cell_type": "code",
   "execution_count": 172,
   "metadata": {},
   "outputs": [
    {
     "data": {
      "image/png": "[encoded data removed]",
      "text/plain": [
       "<Figure size 864x432 with 1 Axes>"
      ]
     },
     "metadata": {
      "needs_background": "light"
     },
     "output_type": "display_data"
    }
   ],
   "source": [
    "fig, ax = plt.subplots(figsize = (12, 6))\n",
    "ax = sns.barplot(x=\"Importances_mean\", y =\"Feature\", data=feature_impt_results, palette=\"RdBu_r\")\n",
    "\n",
    "# for i in ax.containers:\n",
    "#     ax.bar_label(i)\n",
    "\n",
    "for p in ax.patches:\n",
    "    _x = p.get_x() + p.get_width() + float(0.01)\n",
    "    _y = p.get_y() + p.get_height() - (p.get_height()*0.5)\n",
    "    value = '{:.2f}'.format(p.get_width())\n",
    "    ax.text(_x, _y, value, ha=\"left\")\n",
    "\n",
    "plt.show()"
   ]
  },
  {
   "cell_type": "code",
   "execution_count": null,
   "metadata": {},
   "outputs": [],
   "source": []
  },
  {
   "cell_type": "code",
   "execution_count": null,
   "metadata": {},
   "outputs": [],
   "source": []
  },
  {
   "cell_type": "markdown",
   "metadata": {},
   "source": [
    "## Training AdaBoost Classifier"
   ]
  },
  {
   "cell_type": "code",
   "execution_count": 173,
   "metadata": {},
   "outputs": [
    {
     "data": {
      "text/plain": [
       "{'algorithm': 'SAMME.R',\n",
       " 'base_estimator': None,\n",
       " 'learning_rate': 1.0,\n",
       " 'n_estimators': 50,\n",
       " 'random_state': 42}"
      ]
     },
     "execution_count": 173,
     "metadata": {},
     "output_type": "execute_result"
    }
   ],
   "source": [
    "adaboost_model = AdaBoostClassifier(random_state=42)\n",
    "\n",
    "adaboost_model.get_params()"
   ]
  },
  {
   "cell_type": "code",
   "execution_count": 174,
   "metadata": {},
   "outputs": [
    {
     "name": "stderr",
     "output_type": "stream",
     "text": [
      "/Users/daniel/opt/anaconda3/envs/openbank1/lib/python3.7/site-packages/sklearn/utils/validation.py:993: DataConversionWarning: A column-vector y was passed when a 1d array was expected. Please change the shape of y to (n_samples, ), for example using ravel().\n",
      "  y = column_or_1d(y, warn=True)\n"
     ]
    },
    {
     "data": {
      "text/plain": [
       "AdaBoostClassifier(random_state=42)"
      ]
     },
     "execution_count": 174,
     "metadata": {},
     "output_type": "execute_result"
    }
   ],
   "source": [
    "adaboost_model.fit(X_train, y_train)"
   ]
  },
  {
   "cell_type": "code",
   "execution_count": 175,
   "metadata": {},
   "outputs": [
    {
     "name": "stdout",
     "output_type": "stream",
     "text": [
      "Accuracy: 0.57019\n"
     ]
    }
   ],
   "source": [
    "adaboost_model_accuracy = adaboost_model.score(X_test, y_test)\n",
    "\n",
    "print(f\"Accuracy: {adaboost_model_accuracy:.5f}\")"
   ]
  },
  {
   "cell_type": "code",
   "execution_count": 176,
   "metadata": {},
   "outputs": [
    {
     "data": {
      "text/plain": [
       "array([0.  , 0.02, 0.04, 0.18, 0.02, 0.14, 0.06, 0.44, 0.  , 0.  , 0.1 ])"
      ]
     },
     "execution_count": 176,
     "metadata": {},
     "output_type": "execute_result"
    }
   ],
   "source": [
    "adaboost_model.feature_importances_"
   ]
  },
  {
   "cell_type": "code",
   "execution_count": 177,
   "metadata": {},
   "outputs": [],
   "source": [
    "feature_impotance = permutation_importance(adaboost_model, X_train, y_train)"
   ]
  },
  {
   "cell_type": "code",
   "execution_count": 178,
   "metadata": {},
   "outputs": [
    {
     "data": {
      "text/html": [
       "<div>\n",
       "<style scoped>\n",
       "    .dataframe tbody tr th:only-of-type {\n",
       "        vertical-align: middle;\n",
       "    }\n",
       "\n",
       "    .dataframe tbody tr th {\n",
       "        vertical-align: top;\n",
       "    }\n",
       "\n",
       "    .dataframe thead th {\n",
       "        text-align: right;\n",
       "    }\n",
       "</style>\n",
       "<table border=\"1\" class=\"dataframe\">\n",
       "  <thead>\n",
       "    <tr style=\"text-align: right;\">\n",
       "      <th></th>\n",
       "      <th>Feature</th>\n",
       "      <th>Importances_mean</th>\n",
       "      <th>Importances_std</th>\n",
       "    </tr>\n",
       "  </thead>\n",
       "  <tbody>\n",
       "    <tr>\n",
       "      <th>0</th>\n",
       "      <td>rsi</td>\n",
       "      <td>0.306169</td>\n",
       "      <td>0.007462</td>\n",
       "    </tr>\n",
       "    <tr>\n",
       "      <th>1</th>\n",
       "      <td>macd</td>\n",
       "      <td>0.113853</td>\n",
       "      <td>0.013089</td>\n",
       "    </tr>\n",
       "    <tr>\n",
       "      <th>2</th>\n",
       "      <td>macd_h</td>\n",
       "      <td>0.104221</td>\n",
       "      <td>0.005993</td>\n",
       "    </tr>\n",
       "    <tr>\n",
       "      <th>3</th>\n",
       "      <td>cci</td>\n",
       "      <td>0.057143</td>\n",
       "      <td>0.008981</td>\n",
       "    </tr>\n",
       "    <tr>\n",
       "      <th>4</th>\n",
       "      <td>roc</td>\n",
       "      <td>0.025649</td>\n",
       "      <td>0.000943</td>\n",
       "    </tr>\n",
       "    <tr>\n",
       "      <th>5</th>\n",
       "      <td>cma</td>\n",
       "      <td>0.018074</td>\n",
       "      <td>0.001830</td>\n",
       "    </tr>\n",
       "    <tr>\n",
       "      <th>6</th>\n",
       "      <td>ema</td>\n",
       "      <td>0.012013</td>\n",
       "      <td>0.001468</td>\n",
       "    </tr>\n",
       "    <tr>\n",
       "      <th>7</th>\n",
       "      <td>macd_s</td>\n",
       "      <td>0.009416</td>\n",
       "      <td>0.001114</td>\n",
       "    </tr>\n",
       "    <tr>\n",
       "      <th>8</th>\n",
       "      <td>sma</td>\n",
       "      <td>0.000000</td>\n",
       "      <td>0.000000</td>\n",
       "    </tr>\n",
       "    <tr>\n",
       "      <th>9</th>\n",
       "      <td>Bollinger_up</td>\n",
       "      <td>0.000000</td>\n",
       "      <td>0.000000</td>\n",
       "    </tr>\n",
       "    <tr>\n",
       "      <th>10</th>\n",
       "      <td>Bollinger_down</td>\n",
       "      <td>0.000000</td>\n",
       "      <td>0.000000</td>\n",
       "    </tr>\n",
       "  </tbody>\n",
       "</table>\n",
       "</div>"
      ],
      "text/plain": [
       "           Feature  Importances_mean  Importances_std\n",
       "0              rsi          0.306169         0.007462\n",
       "1             macd          0.113853         0.013089\n",
       "2           macd_h          0.104221         0.005993\n",
       "3              cci          0.057143         0.008981\n",
       "4              roc          0.025649         0.000943\n",
       "5              cma          0.018074         0.001830\n",
       "6              ema          0.012013         0.001468\n",
       "7           macd_s          0.009416         0.001114\n",
       "8              sma          0.000000         0.000000\n",
       "9     Bollinger_up          0.000000         0.000000\n",
       "10  Bollinger_down          0.000000         0.000000"
      ]
     },
     "execution_count": 178,
     "metadata": {},
     "output_type": "execute_result"
    }
   ],
   "source": [
    "feature_impt_results = pd.DataFrame({\"Feature\": X_train.columns, \"Importances_mean\": feature_impotance[\"importances_mean\"],\n",
    "\"Importances_std\": feature_impotance[\"importances_std\"]})\n",
    "\n",
    "# Sort in descending order\n",
    "feature_impt_results = feature_impt_results.sort_values(by=\"Importances_mean\", ascending=False, ignore_index=True)\n",
    "\n",
    "feature_impt_results"
   ]
  },
  {
   "cell_type": "code",
   "execution_count": 179,
   "metadata": {},
   "outputs": [
    {
     "data": {
      "image/png": "[encoded data removed]",
      "text/plain": [
       "<Figure size 864x432 with 1 Axes>"
      ]
     },
     "metadata": {
      "needs_background": "light"
     },
     "output_type": "display_data"
    }
   ],
   "source": [
    "fig, ax = plt.subplots(figsize = (12, 6))\n",
    "ax = sns.barplot(x=\"Importances_mean\", y =\"Feature\", data=feature_impt_results, palette=\"RdBu_r\")\n",
    "\n",
    "# for i in ax.containers:\n",
    "#     ax.bar_label(i)\n",
    "\n",
    "for p in ax.patches:\n",
    "    _x = p.get_x() + p.get_width() + float(0.01)\n",
    "    _y = p.get_y() + p.get_height() - (p.get_height()*0.5)\n",
    "    value = '{:.2f}'.format(p.get_width())\n",
    "    ax.text(_x, _y, value, ha=\"left\")\n",
    "\n",
    "plt.show()"
   ]
  },
  {
   "cell_type": "code",
   "execution_count": null,
   "metadata": {},
   "outputs": [],
   "source": []
  }
 ],
 "metadata": {
  "interpreter": {
   "hash": "af1f73e81c2fe6c1677d537b06d702af95d09e7205ed4fcd91ede9c976baf75e"
  },
  "kernelspec": {
   "display_name": "Python 3.7.11 ('openbank1')",
   "language": "python",
   "name": "python3"
  },
  "language_info": {
   "codemirror_mode": {
    "name": "ipython",
    "version": 3
   },
   "file_extension": ".py",
   "mimetype": "text/x-python",
   "name": "python",
   "nbconvert_exporter": "python",
   "pygments_lexer": "ipython3",
   "version": "3.7.11"
  },
  "orig_nbformat": 4
 },
 "nbformat": 4,
 "nbformat_minor": 2
}
