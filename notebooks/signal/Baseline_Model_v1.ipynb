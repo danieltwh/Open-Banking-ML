{
 "cells": [
  {
   "cell_type": "code",
   "execution_count": 81,
   "metadata": {},
   "outputs": [],
   "source": [
    "import sys, os\n",
    "\n",
    "import math\n",
    "\n",
    "import numpy as np\n",
    "import pandas as pd\n",
    "import matplotlib.pyplot as plt\n",
    "import seaborn as sns\n",
    "\n",
    "from sklearn.model_selection import train_test_split\n",
    "from sklearn.tree import DecisionTreeClassifier\n",
    "\n",
    "from sklearn.inspection import permutation_importance"
   ]
  },
  {
   "cell_type": "markdown",
   "metadata": {},
   "source": [
    "## Loading Dataset"
   ]
  },
  {
   "cell_type": "code",
   "execution_count": 27,
   "metadata": {},
   "outputs": [],
   "source": [
    "df = pd.read_csv(\"../../data/processed/signalEUR_USD_Labelled_v1_processed.csv\", index_col=0)"
   ]
  },
  {
   "cell_type": "code",
   "execution_count": 28,
   "metadata": {},
   "outputs": [],
   "source": [
    "df[\"Date\"] = pd.to_datetime(df[\"Date\"])\n",
    "\n",
    "# Labels 3 days ahead\n",
    "df[\"label_3days\"] = df[\"label\"].shift(-3)\n",
    "\n",
    "# Labels 5 days ahead\n",
    "df[\"label_5days\"] = df[\"label\"].shift(-5)"
   ]
  },
  {
   "cell_type": "code",
   "execution_count": 29,
   "metadata": {},
   "outputs": [
    {
     "data": {
      "text/html": [
       "<div>\n",
       "<style scoped>\n",
       "    .dataframe tbody tr th:only-of-type {\n",
       "        vertical-align: middle;\n",
       "    }\n",
       "\n",
       "    .dataframe tbody tr th {\n",
       "        vertical-align: top;\n",
       "    }\n",
       "\n",
       "    .dataframe thead th {\n",
       "        text-align: right;\n",
       "    }\n",
       "</style>\n",
       "<table border=\"1\" class=\"dataframe\">\n",
       "  <thead>\n",
       "    <tr style=\"text-align: right;\">\n",
       "      <th></th>\n",
       "      <th>Date</th>\n",
       "      <th>Price</th>\n",
       "      <th>Open</th>\n",
       "      <th>High</th>\n",
       "      <th>Low</th>\n",
       "      <th>Change %</th>\n",
       "      <th>diff_1</th>\n",
       "      <th>label</th>\n",
       "      <th>sma</th>\n",
       "      <th>ema</th>\n",
       "      <th>...</th>\n",
       "      <th>macd</th>\n",
       "      <th>macd_s</th>\n",
       "      <th>macd_h</th>\n",
       "      <th>roc</th>\n",
       "      <th>rsi</th>\n",
       "      <th>Bollinger_up</th>\n",
       "      <th>Bollinger_down</th>\n",
       "      <th>cci</th>\n",
       "      <th>label_3days</th>\n",
       "      <th>label_5days</th>\n",
       "    </tr>\n",
       "  </thead>\n",
       "  <tbody>\n",
       "    <tr>\n",
       "      <th>0</th>\n",
       "      <td>2013-02-15</td>\n",
       "      <td>1.3363</td>\n",
       "      <td>1.3363</td>\n",
       "      <td>1.3394</td>\n",
       "      <td>1.3306</td>\n",
       "      <td>0.01%</td>\n",
       "      <td>0.0002</td>\n",
       "      <td>0.0</td>\n",
       "      <td>1.344735</td>\n",
       "      <td>1.336730</td>\n",
       "      <td>...</td>\n",
       "      <td>0.002701</td>\n",
       "      <td>0.005461</td>\n",
       "      <td>-0.002760</td>\n",
       "      <td>-0.000150</td>\n",
       "      <td>39.939646</td>\n",
       "      <td>1.364281</td>\n",
       "      <td>1.325189</td>\n",
       "      <td>-62.849696</td>\n",
       "      <td>1.0</td>\n",
       "      <td>0.0</td>\n",
       "    </tr>\n",
       "    <tr>\n",
       "      <th>1</th>\n",
       "      <td>2013-02-18</td>\n",
       "      <td>1.3352</td>\n",
       "      <td>1.3357</td>\n",
       "      <td>1.3377</td>\n",
       "      <td>1.3321</td>\n",
       "      <td>-0.08%</td>\n",
       "      <td>-0.0011</td>\n",
       "      <td>0.0</td>\n",
       "      <td>1.344925</td>\n",
       "      <td>1.335553</td>\n",
       "      <td>...</td>\n",
       "      <td>0.001906</td>\n",
       "      <td>0.004750</td>\n",
       "      <td>-0.002844</td>\n",
       "      <td>-0.004102</td>\n",
       "      <td>38.588551</td>\n",
       "      <td>1.363994</td>\n",
       "      <td>1.325856</td>\n",
       "      <td>-68.561252</td>\n",
       "      <td>1.0</td>\n",
       "      <td>1.0</td>\n",
       "    </tr>\n",
       "    <tr>\n",
       "      <th>2</th>\n",
       "      <td>2013-02-19</td>\n",
       "      <td>1.3388</td>\n",
       "      <td>1.3352</td>\n",
       "      <td>1.3397</td>\n",
       "      <td>1.3329</td>\n",
       "      <td>0.27%</td>\n",
       "      <td>0.0036</td>\n",
       "      <td>2.0</td>\n",
       "      <td>1.345260</td>\n",
       "      <td>1.338051</td>\n",
       "      <td>...</td>\n",
       "      <td>0.001549</td>\n",
       "      <td>0.004109</td>\n",
       "      <td>-0.002561</td>\n",
       "      <td>-0.004906</td>\n",
       "      <td>45.544851</td>\n",
       "      <td>1.363601</td>\n",
       "      <td>1.326919</td>\n",
       "      <td>-57.039491</td>\n",
       "      <td>0.0</td>\n",
       "      <td>0.0</td>\n",
       "    </tr>\n",
       "    <tr>\n",
       "      <th>3</th>\n",
       "      <td>2013-02-20</td>\n",
       "      <td>1.3281</td>\n",
       "      <td>1.3387</td>\n",
       "      <td>1.3434</td>\n",
       "      <td>1.3270</td>\n",
       "      <td>-0.80%</td>\n",
       "      <td>-0.0107</td>\n",
       "      <td>1.0</td>\n",
       "      <td>1.345075</td>\n",
       "      <td>1.330396</td>\n",
       "      <td>...</td>\n",
       "      <td>0.000398</td>\n",
       "      <td>0.003367</td>\n",
       "      <td>-0.002969</td>\n",
       "      <td>-0.012785</td>\n",
       "      <td>32.802173</td>\n",
       "      <td>1.364052</td>\n",
       "      <td>1.326098</td>\n",
       "      <td>-90.131403</td>\n",
       "      <td>1.0</td>\n",
       "      <td>2.0</td>\n",
       "    </tr>\n",
       "    <tr>\n",
       "      <th>4</th>\n",
       "      <td>2013-02-21</td>\n",
       "      <td>1.3189</td>\n",
       "      <td>1.3283</td>\n",
       "      <td>1.3291</td>\n",
       "      <td>1.3161</td>\n",
       "      <td>-0.69%</td>\n",
       "      <td>-0.0092</td>\n",
       "      <td>1.0</td>\n",
       "      <td>1.344140</td>\n",
       "      <td>1.321553</td>\n",
       "      <td>...</td>\n",
       "      <td>-0.001242</td>\n",
       "      <td>0.002445</td>\n",
       "      <td>-0.003688</td>\n",
       "      <td>-0.012873</td>\n",
       "      <td>25.675429</td>\n",
       "      <td>1.366251</td>\n",
       "      <td>1.322029</td>\n",
       "      <td>-149.263447</td>\n",
       "      <td>0.0</td>\n",
       "      <td>1.0</td>\n",
       "    </tr>\n",
       "  </tbody>\n",
       "</table>\n",
       "<p>5 rows × 21 columns</p>\n",
       "</div>"
      ],
      "text/plain": [
       "        Date   Price    Open    High     Low Change %  diff_1  label  \\\n",
       "0 2013-02-15  1.3363  1.3363  1.3394  1.3306    0.01%  0.0002    0.0   \n",
       "1 2013-02-18  1.3352  1.3357  1.3377  1.3321   -0.08% -0.0011    0.0   \n",
       "2 2013-02-19  1.3388  1.3352  1.3397  1.3329    0.27%  0.0036    2.0   \n",
       "3 2013-02-20  1.3281  1.3387  1.3434  1.3270   -0.80% -0.0107    1.0   \n",
       "4 2013-02-21  1.3189  1.3283  1.3291  1.3161   -0.69% -0.0092    1.0   \n",
       "\n",
       "        sma       ema  ...      macd    macd_s    macd_h       roc        rsi  \\\n",
       "0  1.344735  1.336730  ...  0.002701  0.005461 -0.002760 -0.000150  39.939646   \n",
       "1  1.344925  1.335553  ...  0.001906  0.004750 -0.002844 -0.004102  38.588551   \n",
       "2  1.345260  1.338051  ...  0.001549  0.004109 -0.002561 -0.004906  45.544851   \n",
       "3  1.345075  1.330396  ...  0.000398  0.003367 -0.002969 -0.012785  32.802173   \n",
       "4  1.344140  1.321553  ... -0.001242  0.002445 -0.003688 -0.012873  25.675429   \n",
       "\n",
       "   Bollinger_up  Bollinger_down         cci  label_3days  label_5days  \n",
       "0      1.364281        1.325189  -62.849696          1.0          0.0  \n",
       "1      1.363994        1.325856  -68.561252          1.0          1.0  \n",
       "2      1.363601        1.326919  -57.039491          0.0          0.0  \n",
       "3      1.364052        1.326098  -90.131403          1.0          2.0  \n",
       "4      1.366251        1.322029 -149.263447          0.0          1.0  \n",
       "\n",
       "[5 rows x 21 columns]"
      ]
     },
     "execution_count": 29,
     "metadata": {},
     "output_type": "execute_result"
    }
   ],
   "source": [
    "# Drop NA\n",
    "df = df.dropna(axis = 0)\n",
    "df = df.reset_index(drop=True)\n",
    "df.head()"
   ]
  },
  {
   "cell_type": "markdown",
   "metadata": {},
   "source": [
    "## Window"
   ]
  },
  {
   "cell_type": "code",
   "execution_count": 42,
   "metadata": {},
   "outputs": [
    {
     "data": {
      "text/plain": [
       "(2311, 16)"
      ]
     },
     "execution_count": 42,
     "metadata": {},
     "output_type": "execute_result"
    }
   ],
   "source": [
    "time = [\"Date\"]\n",
    "\n",
    "columns = [\"Price\",  \"sma\", \"ema\", \"cma\", \"macd\",\t\"macd_s\",\n",
    "\"macd_h\", \"roc\", \"rsi\",\t\"Bollinger_up\", \"Bollinger_down\", \"cci\"]\n",
    "\n",
    "labels = [\"label\", \"label_3days\", \"label_5days\"]\n",
    "\n",
    "features = df[time + columns + labels]\n",
    "\n",
    "features.shape"
   ]
  },
  {
   "cell_type": "code",
   "execution_count": 43,
   "metadata": {},
   "outputs": [
    {
     "data": {
      "text/html": [
       "<div>\n",
       "<style scoped>\n",
       "    .dataframe tbody tr th:only-of-type {\n",
       "        vertical-align: middle;\n",
       "    }\n",
       "\n",
       "    .dataframe tbody tr th {\n",
       "        vertical-align: top;\n",
       "    }\n",
       "\n",
       "    .dataframe thead th {\n",
       "        text-align: right;\n",
       "    }\n",
       "</style>\n",
       "<table border=\"1\" class=\"dataframe\">\n",
       "  <thead>\n",
       "    <tr style=\"text-align: right;\">\n",
       "      <th></th>\n",
       "      <th>Date</th>\n",
       "      <th>Price</th>\n",
       "      <th>sma</th>\n",
       "      <th>ema</th>\n",
       "      <th>cma</th>\n",
       "      <th>macd</th>\n",
       "      <th>macd_s</th>\n",
       "      <th>macd_h</th>\n",
       "      <th>roc</th>\n",
       "      <th>rsi</th>\n",
       "      <th>Bollinger_up</th>\n",
       "      <th>Bollinger_down</th>\n",
       "      <th>cci</th>\n",
       "      <th>label</th>\n",
       "      <th>label_3days</th>\n",
       "      <th>label_5days</th>\n",
       "    </tr>\n",
       "  </thead>\n",
       "  <tbody>\n",
       "    <tr>\n",
       "      <th>0</th>\n",
       "      <td>2013-02-15</td>\n",
       "      <td>1.3363</td>\n",
       "      <td>1.344735</td>\n",
       "      <td>1.336730</td>\n",
       "      <td>1.335315</td>\n",
       "      <td>0.002701</td>\n",
       "      <td>0.005461</td>\n",
       "      <td>-0.002760</td>\n",
       "      <td>-0.000150</td>\n",
       "      <td>39.939646</td>\n",
       "      <td>1.364281</td>\n",
       "      <td>1.325189</td>\n",
       "      <td>-62.849696</td>\n",
       "      <td>0.0</td>\n",
       "      <td>1.0</td>\n",
       "      <td>0.0</td>\n",
       "    </tr>\n",
       "    <tr>\n",
       "      <th>1</th>\n",
       "      <td>2013-02-18</td>\n",
       "      <td>1.3352</td>\n",
       "      <td>1.344925</td>\n",
       "      <td>1.335553</td>\n",
       "      <td>1.335311</td>\n",
       "      <td>0.001906</td>\n",
       "      <td>0.004750</td>\n",
       "      <td>-0.002844</td>\n",
       "      <td>-0.004102</td>\n",
       "      <td>38.588551</td>\n",
       "      <td>1.363994</td>\n",
       "      <td>1.325856</td>\n",
       "      <td>-68.561252</td>\n",
       "      <td>0.0</td>\n",
       "      <td>1.0</td>\n",
       "      <td>1.0</td>\n",
       "    </tr>\n",
       "    <tr>\n",
       "      <th>2</th>\n",
       "      <td>2013-02-19</td>\n",
       "      <td>1.3388</td>\n",
       "      <td>1.345260</td>\n",
       "      <td>1.338051</td>\n",
       "      <td>1.335408</td>\n",
       "      <td>0.001549</td>\n",
       "      <td>0.004109</td>\n",
       "      <td>-0.002561</td>\n",
       "      <td>-0.004906</td>\n",
       "      <td>45.544851</td>\n",
       "      <td>1.363601</td>\n",
       "      <td>1.326919</td>\n",
       "      <td>-57.039491</td>\n",
       "      <td>2.0</td>\n",
       "      <td>0.0</td>\n",
       "      <td>0.0</td>\n",
       "    </tr>\n",
       "    <tr>\n",
       "      <th>3</th>\n",
       "      <td>2013-02-20</td>\n",
       "      <td>1.3281</td>\n",
       "      <td>1.345075</td>\n",
       "      <td>1.330396</td>\n",
       "      <td>1.335211</td>\n",
       "      <td>0.000398</td>\n",
       "      <td>0.003367</td>\n",
       "      <td>-0.002969</td>\n",
       "      <td>-0.012785</td>\n",
       "      <td>32.802173</td>\n",
       "      <td>1.364052</td>\n",
       "      <td>1.326098</td>\n",
       "      <td>-90.131403</td>\n",
       "      <td>1.0</td>\n",
       "      <td>1.0</td>\n",
       "      <td>2.0</td>\n",
       "    </tr>\n",
       "    <tr>\n",
       "      <th>4</th>\n",
       "      <td>2013-02-21</td>\n",
       "      <td>1.3189</td>\n",
       "      <td>1.344140</td>\n",
       "      <td>1.321553</td>\n",
       "      <td>1.334782</td>\n",
       "      <td>-0.001242</td>\n",
       "      <td>0.002445</td>\n",
       "      <td>-0.003688</td>\n",
       "      <td>-0.012873</td>\n",
       "      <td>25.675429</td>\n",
       "      <td>1.366251</td>\n",
       "      <td>1.322029</td>\n",
       "      <td>-149.263447</td>\n",
       "      <td>1.0</td>\n",
       "      <td>0.0</td>\n",
       "      <td>1.0</td>\n",
       "    </tr>\n",
       "  </tbody>\n",
       "</table>\n",
       "</div>"
      ],
      "text/plain": [
       "        Date   Price       sma       ema       cma      macd    macd_s  \\\n",
       "0 2013-02-15  1.3363  1.344735  1.336730  1.335315  0.002701  0.005461   \n",
       "1 2013-02-18  1.3352  1.344925  1.335553  1.335311  0.001906  0.004750   \n",
       "2 2013-02-19  1.3388  1.345260  1.338051  1.335408  0.001549  0.004109   \n",
       "3 2013-02-20  1.3281  1.345075  1.330396  1.335211  0.000398  0.003367   \n",
       "4 2013-02-21  1.3189  1.344140  1.321553  1.334782 -0.001242  0.002445   \n",
       "\n",
       "     macd_h       roc        rsi  Bollinger_up  Bollinger_down         cci  \\\n",
       "0 -0.002760 -0.000150  39.939646      1.364281        1.325189  -62.849696   \n",
       "1 -0.002844 -0.004102  38.588551      1.363994        1.325856  -68.561252   \n",
       "2 -0.002561 -0.004906  45.544851      1.363601        1.326919  -57.039491   \n",
       "3 -0.002969 -0.012785  32.802173      1.364052        1.326098  -90.131403   \n",
       "4 -0.003688 -0.012873  25.675429      1.366251        1.322029 -149.263447   \n",
       "\n",
       "   label  label_3days  label_5days  \n",
       "0    0.0          1.0          0.0  \n",
       "1    0.0          1.0          1.0  \n",
       "2    2.0          0.0          0.0  \n",
       "3    1.0          1.0          2.0  \n",
       "4    1.0          0.0          1.0  "
      ]
     },
     "execution_count": 43,
     "metadata": {},
     "output_type": "execute_result"
    }
   ],
   "source": [
    "features.head()"
   ]
  },
  {
   "cell_type": "markdown",
   "metadata": {},
   "source": [
    "## Train test split"
   ]
  },
  {
   "cell_type": "code",
   "execution_count": 54,
   "metadata": {},
   "outputs": [
    {
     "name": "stdout",
     "output_type": "stream",
     "text": [
      "(2311, 12)\n",
      "(2311, 1)\n"
     ]
    }
   ],
   "source": [
    "X = features.drop(labels = time + labels, axis=1 )\n",
    "y = features[[\"label\"]]\n",
    "\n",
    "print(X.shape)\n",
    "print(y.shape)"
   ]
  },
  {
   "cell_type": "code",
   "execution_count": 59,
   "metadata": {},
   "outputs": [
    {
     "name": "stdout",
     "output_type": "stream",
     "text": [
      "(1848, 12) (463, 12)\n",
      "(1848, 1) (463, 1)\n"
     ]
    }
   ],
   "source": [
    "X_train, X_test, y_train, y_test = train_test_split(X, y, test_size=0.2, random_state=42)\n",
    "print(X_train.shape, X_test.shape)\n",
    "print(y_train.shape, y_test.shape)"
   ]
  },
  {
   "cell_type": "markdown",
   "metadata": {},
   "source": [
    "## Training Decision Tree"
   ]
  },
  {
   "cell_type": "code",
   "execution_count": 65,
   "metadata": {},
   "outputs": [
    {
     "data": {
      "text/plain": [
       "{'ccp_alpha': 0.0,\n",
       " 'class_weight': None,\n",
       " 'criterion': 'gini',\n",
       " 'max_depth': None,\n",
       " 'max_features': None,\n",
       " 'max_leaf_nodes': None,\n",
       " 'min_impurity_decrease': 0.0,\n",
       " 'min_samples_leaf': 1,\n",
       " 'min_samples_split': 2,\n",
       " 'min_weight_fraction_leaf': 0.0,\n",
       " 'random_state': 42,\n",
       " 'splitter': 'best'}"
      ]
     },
     "execution_count": 65,
     "metadata": {},
     "output_type": "execute_result"
    }
   ],
   "source": [
    "tree_model1 = DecisionTreeClassifier(random_state=42)\n",
    "\n",
    "tree_model1.get_params()"
   ]
  },
  {
   "cell_type": "code",
   "execution_count": 66,
   "metadata": {},
   "outputs": [
    {
     "data": {
      "text/plain": [
       "DecisionTreeClassifier(random_state=42)"
      ]
     },
     "execution_count": 66,
     "metadata": {},
     "output_type": "execute_result"
    }
   ],
   "source": [
    "tree_model1.fit(X_train, y_train)"
   ]
  },
  {
   "cell_type": "code",
   "execution_count": 102,
   "metadata": {},
   "outputs": [
    {
     "name": "stdout",
     "output_type": "stream",
     "text": [
      "Accuracy: 0.49892\n"
     ]
    }
   ],
   "source": [
    "tree_model1_accuracy = tree_model1.score(X_test, y_test)\n",
    "\n",
    "print(f\"Accuracy: {tree_model1_accuracy:.5f}\")"
   ]
  },
  {
   "cell_type": "code",
   "execution_count": 63,
   "metadata": {},
   "outputs": [
    {
     "data": {
      "text/plain": [
       "array([0.01748894, 0.01940848, 0.04385903, 0.08316514, 0.08889271,\n",
       "       0.04522756, 0.10581504, 0.12204474, 0.23980838, 0.02851884,\n",
       "       0.03304013, 0.17273102])"
      ]
     },
     "execution_count": 63,
     "metadata": {},
     "output_type": "execute_result"
    }
   ],
   "source": [
    "tree_model1.feature_importances_"
   ]
  },
  {
   "cell_type": "code",
   "execution_count": 69,
   "metadata": {},
   "outputs": [],
   "source": [
    "feature_impotance = permutation_importance(tree_model1, X_train, y_train)"
   ]
  },
  {
   "cell_type": "code",
   "execution_count": 78,
   "metadata": {},
   "outputs": [
    {
     "data": {
      "text/html": [
       "<div>\n",
       "<style scoped>\n",
       "    .dataframe tbody tr th:only-of-type {\n",
       "        vertical-align: middle;\n",
       "    }\n",
       "\n",
       "    .dataframe tbody tr th {\n",
       "        vertical-align: top;\n",
       "    }\n",
       "\n",
       "    .dataframe thead th {\n",
       "        text-align: right;\n",
       "    }\n",
       "</style>\n",
       "<table border=\"1\" class=\"dataframe\">\n",
       "  <thead>\n",
       "    <tr style=\"text-align: right;\">\n",
       "      <th></th>\n",
       "      <th>Feature</th>\n",
       "      <th>Importances_mean</th>\n",
       "      <th>Importances_std</th>\n",
       "    </tr>\n",
       "  </thead>\n",
       "  <tbody>\n",
       "    <tr>\n",
       "      <th>0</th>\n",
       "      <td>rsi</td>\n",
       "      <td>0.641126</td>\n",
       "      <td>0.003563</td>\n",
       "    </tr>\n",
       "    <tr>\n",
       "      <th>1</th>\n",
       "      <td>cci</td>\n",
       "      <td>0.448268</td>\n",
       "      <td>0.007695</td>\n",
       "    </tr>\n",
       "    <tr>\n",
       "      <th>2</th>\n",
       "      <td>roc</td>\n",
       "      <td>0.238636</td>\n",
       "      <td>0.003780</td>\n",
       "    </tr>\n",
       "    <tr>\n",
       "      <th>3</th>\n",
       "      <td>macd_h</td>\n",
       "      <td>0.223485</td>\n",
       "      <td>0.008725</td>\n",
       "    </tr>\n",
       "    <tr>\n",
       "      <th>4</th>\n",
       "      <td>macd</td>\n",
       "      <td>0.193831</td>\n",
       "      <td>0.007993</td>\n",
       "    </tr>\n",
       "    <tr>\n",
       "      <th>5</th>\n",
       "      <td>cma</td>\n",
       "      <td>0.129978</td>\n",
       "      <td>0.002746</td>\n",
       "    </tr>\n",
       "    <tr>\n",
       "      <th>6</th>\n",
       "      <td>macd_s</td>\n",
       "      <td>0.068615</td>\n",
       "      <td>0.004833</td>\n",
       "    </tr>\n",
       "    <tr>\n",
       "      <th>7</th>\n",
       "      <td>Bollinger_down</td>\n",
       "      <td>0.066775</td>\n",
       "      <td>0.002099</td>\n",
       "    </tr>\n",
       "    <tr>\n",
       "      <th>8</th>\n",
       "      <td>ema</td>\n",
       "      <td>0.050866</td>\n",
       "      <td>0.003042</td>\n",
       "    </tr>\n",
       "    <tr>\n",
       "      <th>9</th>\n",
       "      <td>Bollinger_up</td>\n",
       "      <td>0.040584</td>\n",
       "      <td>0.003371</td>\n",
       "    </tr>\n",
       "    <tr>\n",
       "      <th>10</th>\n",
       "      <td>sma</td>\n",
       "      <td>0.029221</td>\n",
       "      <td>0.000968</td>\n",
       "    </tr>\n",
       "    <tr>\n",
       "      <th>11</th>\n",
       "      <td>Price</td>\n",
       "      <td>0.021753</td>\n",
       "      <td>0.000931</td>\n",
       "    </tr>\n",
       "  </tbody>\n",
       "</table>\n",
       "</div>"
      ],
      "text/plain": [
       "           Feature  Importances_mean  Importances_std\n",
       "0              rsi          0.641126         0.003563\n",
       "1              cci          0.448268         0.007695\n",
       "2              roc          0.238636         0.003780\n",
       "3           macd_h          0.223485         0.008725\n",
       "4             macd          0.193831         0.007993\n",
       "5              cma          0.129978         0.002746\n",
       "6           macd_s          0.068615         0.004833\n",
       "7   Bollinger_down          0.066775         0.002099\n",
       "8              ema          0.050866         0.003042\n",
       "9     Bollinger_up          0.040584         0.003371\n",
       "10             sma          0.029221         0.000968\n",
       "11           Price          0.021753         0.000931"
      ]
     },
     "execution_count": 78,
     "metadata": {},
     "output_type": "execute_result"
    }
   ],
   "source": [
    "feature_impt_results = pd.DataFrame({\"Feature\": X_train.columns, \"Importances_mean\": feature_impotance[\"importances_mean\"],\n",
    "\"Importances_std\": feature_impotance[\"importances_std\"]})\n",
    "\n",
    "# Sort in descending order\n",
    "feature_impt_results = feature_impt_results.sort_values(by=\"Importances_mean\", ascending=False, ignore_index=True)\n",
    "\n",
    "feature_impt_results"
   ]
  },
  {
   "cell_type": "code",
   "execution_count": 99,
   "metadata": {},
   "outputs": [
    {
     "data": {
      "image/png": "[encoded data removed]",
      "text/plain": [
       "<Figure size 864x432 with 1 Axes>"
      ]
     },
     "metadata": {
      "needs_background": "light"
     },
     "output_type": "display_data"
    }
   ],
   "source": [
    "fig, ax = plt.subplots(figsize = (12, 6))\n",
    "ax = sns.barplot(x=\"Importances_mean\", y =\"Feature\", data=feature_impt_results, palette=\"RdBu_r\")\n",
    "\n",
    "# for i in ax.containers:\n",
    "#     ax.bar_label(i)\n",
    "\n",
    "for p in ax.patches:\n",
    "    _x = p.get_x() + p.get_width() + float(0.01)\n",
    "    _y = p.get_y() + p.get_height() - (p.get_height()*0.5)\n",
    "    value = '{:.2f}'.format(p.get_width())\n",
    "    ax.text(_x, _y, value, ha=\"left\")\n",
    "\n",
    "plt.show()"
   ]
  },
  {
   "cell_type": "code",
   "execution_count": null,
   "metadata": {},
   "outputs": [],
   "source": []
  }
 ],
 "metadata": {
  "interpreter": {
   "hash": "af1f73e81c2fe6c1677d537b06d702af95d09e7205ed4fcd91ede9c976baf75e"
  },
  "kernelspec": {
   "display_name": "Python 3.7.11 ('openbank1')",
   "language": "python",
   "name": "python3"
  },
  "language_info": {
   "codemirror_mode": {
    "name": "ipython",
    "version": 3
   },
   "file_extension": ".py",
   "mimetype": "text/x-python",
   "name": "python",
   "nbconvert_exporter": "python",
   "pygments_lexer": "ipython3",
   "version": "3.7.11"
  },
  "orig_nbformat": 4
 },
 "nbformat": 4,
 "nbformat_minor": 2
}
