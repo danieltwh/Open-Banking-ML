{
 "cells": [
  {
   "cell_type": "code",
   "execution_count": 130,
   "metadata": {},
   "outputs": [],
   "source": [
    "import sys, os\n",
    "\n",
    "import math\n",
    "\n",
    "import numpy as np\n",
    "import pandas as pd\n",
    "import matplotlib.pyplot as plt\n",
    "import seaborn as sns"
   ]
  },
  {
   "cell_type": "code",
   "execution_count": 131,
   "metadata": {},
   "outputs": [],
   "source": [
    "df = pd.read_csv(\"../../data/raw/signal/EUR_USD Historical Data.csv\")"
   ]
  },
  {
   "cell_type": "code",
   "execution_count": 132,
   "metadata": {},
   "outputs": [],
   "source": [
    "df[\"Date\"] = pd.to_datetime(df[\"Date\"])\n",
    "df = df.sort_values(by=[\"Date\"]).reset_index(drop=True)"
   ]
  },
  {
   "cell_type": "code",
   "execution_count": 133,
   "metadata": {},
   "outputs": [
    {
     "data": {
      "text/html": [
       "<div>\n",
       "<style scoped>\n",
       "    .dataframe tbody tr th:only-of-type {\n",
       "        vertical-align: middle;\n",
       "    }\n",
       "\n",
       "    .dataframe tbody tr th {\n",
       "        vertical-align: top;\n",
       "    }\n",
       "\n",
       "    .dataframe thead th {\n",
       "        text-align: right;\n",
       "    }\n",
       "</style>\n",
       "<table border=\"1\" class=\"dataframe\">\n",
       "  <thead>\n",
       "    <tr style=\"text-align: right;\">\n",
       "      <th></th>\n",
       "      <th>Date</th>\n",
       "      <th>Price</th>\n",
       "      <th>Open</th>\n",
       "      <th>High</th>\n",
       "      <th>Low</th>\n",
       "      <th>Change %</th>\n",
       "    </tr>\n",
       "  </thead>\n",
       "  <tbody>\n",
       "    <tr>\n",
       "      <th>0</th>\n",
       "      <td>2013-01-01</td>\n",
       "      <td>1.3205</td>\n",
       "      <td>1.3194</td>\n",
       "      <td>1.3220</td>\n",
       "      <td>1.3180</td>\n",
       "      <td>0.07%</td>\n",
       "    </tr>\n",
       "    <tr>\n",
       "      <th>1</th>\n",
       "      <td>2013-01-02</td>\n",
       "      <td>1.3186</td>\n",
       "      <td>1.3205</td>\n",
       "      <td>1.3302</td>\n",
       "      <td>1.3157</td>\n",
       "      <td>-0.14%</td>\n",
       "    </tr>\n",
       "    <tr>\n",
       "      <th>2</th>\n",
       "      <td>2013-01-03</td>\n",
       "      <td>1.3048</td>\n",
       "      <td>1.3187</td>\n",
       "      <td>1.3192</td>\n",
       "      <td>1.3046</td>\n",
       "      <td>-1.05%</td>\n",
       "    </tr>\n",
       "    <tr>\n",
       "      <th>3</th>\n",
       "      <td>2013-01-04</td>\n",
       "      <td>1.3069</td>\n",
       "      <td>1.3048</td>\n",
       "      <td>1.3091</td>\n",
       "      <td>1.2999</td>\n",
       "      <td>0.16%</td>\n",
       "    </tr>\n",
       "    <tr>\n",
       "      <th>4</th>\n",
       "      <td>2013-01-07</td>\n",
       "      <td>1.3117</td>\n",
       "      <td>1.3072</td>\n",
       "      <td>1.3121</td>\n",
       "      <td>1.3018</td>\n",
       "      <td>0.37%</td>\n",
       "    </tr>\n",
       "    <tr>\n",
       "      <th>...</th>\n",
       "      <td>...</td>\n",
       "      <td>...</td>\n",
       "      <td>...</td>\n",
       "      <td>...</td>\n",
       "      <td>...</td>\n",
       "      <td>...</td>\n",
       "    </tr>\n",
       "    <tr>\n",
       "      <th>2344</th>\n",
       "      <td>2021-12-27</td>\n",
       "      <td>1.1325</td>\n",
       "      <td>1.1318</td>\n",
       "      <td>1.1335</td>\n",
       "      <td>1.1302</td>\n",
       "      <td>0.07%</td>\n",
       "    </tr>\n",
       "    <tr>\n",
       "      <th>2345</th>\n",
       "      <td>2021-12-28</td>\n",
       "      <td>1.1309</td>\n",
       "      <td>1.1329</td>\n",
       "      <td>1.1335</td>\n",
       "      <td>1.1289</td>\n",
       "      <td>-0.14%</td>\n",
       "    </tr>\n",
       "    <tr>\n",
       "      <th>2346</th>\n",
       "      <td>2021-12-29</td>\n",
       "      <td>1.1348</td>\n",
       "      <td>1.1310</td>\n",
       "      <td>1.1370</td>\n",
       "      <td>1.1273</td>\n",
       "      <td>0.34%</td>\n",
       "    </tr>\n",
       "    <tr>\n",
       "      <th>2347</th>\n",
       "      <td>2021-12-30</td>\n",
       "      <td>1.1323</td>\n",
       "      <td>1.1349</td>\n",
       "      <td>1.1360</td>\n",
       "      <td>1.1298</td>\n",
       "      <td>-0.22%</td>\n",
       "    </tr>\n",
       "    <tr>\n",
       "      <th>2348</th>\n",
       "      <td>2021-12-31</td>\n",
       "      <td>1.1368</td>\n",
       "      <td>1.1324</td>\n",
       "      <td>1.1387</td>\n",
       "      <td>1.1302</td>\n",
       "      <td>0.40%</td>\n",
       "    </tr>\n",
       "  </tbody>\n",
       "</table>\n",
       "<p>2349 rows × 6 columns</p>\n",
       "</div>"
      ],
      "text/plain": [
       "           Date   Price    Open    High     Low Change %\n",
       "0    2013-01-01  1.3205  1.3194  1.3220  1.3180    0.07%\n",
       "1    2013-01-02  1.3186  1.3205  1.3302  1.3157   -0.14%\n",
       "2    2013-01-03  1.3048  1.3187  1.3192  1.3046   -1.05%\n",
       "3    2013-01-04  1.3069  1.3048  1.3091  1.2999    0.16%\n",
       "4    2013-01-07  1.3117  1.3072  1.3121  1.3018    0.37%\n",
       "...         ...     ...     ...     ...     ...      ...\n",
       "2344 2021-12-27  1.1325  1.1318  1.1335  1.1302    0.07%\n",
       "2345 2021-12-28  1.1309  1.1329  1.1335  1.1289   -0.14%\n",
       "2346 2021-12-29  1.1348  1.1310  1.1370  1.1273    0.34%\n",
       "2347 2021-12-30  1.1323  1.1349  1.1360  1.1298   -0.22%\n",
       "2348 2021-12-31  1.1368  1.1324  1.1387  1.1302    0.40%\n",
       "\n",
       "[2349 rows x 6 columns]"
      ]
     },
     "execution_count": 133,
     "metadata": {},
     "output_type": "execute_result"
    }
   ],
   "source": [
    "df"
   ]
  },
  {
   "cell_type": "code",
   "execution_count": 134,
   "metadata": {},
   "outputs": [
    {
     "data": {
      "text/html": [
       "<div>\n",
       "<style scoped>\n",
       "    .dataframe tbody tr th:only-of-type {\n",
       "        vertical-align: middle;\n",
       "    }\n",
       "\n",
       "    .dataframe tbody tr th {\n",
       "        vertical-align: top;\n",
       "    }\n",
       "\n",
       "    .dataframe thead th {\n",
       "        text-align: right;\n",
       "    }\n",
       "</style>\n",
       "<table border=\"1\" class=\"dataframe\">\n",
       "  <thead>\n",
       "    <tr style=\"text-align: right;\">\n",
       "      <th></th>\n",
       "      <th>Price</th>\n",
       "      <th>Open</th>\n",
       "      <th>High</th>\n",
       "      <th>Low</th>\n",
       "    </tr>\n",
       "  </thead>\n",
       "  <tbody>\n",
       "    <tr>\n",
       "      <th>count</th>\n",
       "      <td>2349.000000</td>\n",
       "      <td>2349.000000</td>\n",
       "      <td>2349.000000</td>\n",
       "      <td>2349.000000</td>\n",
       "    </tr>\n",
       "    <tr>\n",
       "      <th>mean</th>\n",
       "      <td>1.180983</td>\n",
       "      <td>1.181058</td>\n",
       "      <td>1.185360</td>\n",
       "      <td>1.176829</td>\n",
       "    </tr>\n",
       "    <tr>\n",
       "      <th>std</th>\n",
       "      <td>0.090639</td>\n",
       "      <td>0.090645</td>\n",
       "      <td>0.090436</td>\n",
       "      <td>0.090694</td>\n",
       "    </tr>\n",
       "    <tr>\n",
       "      <th>min</th>\n",
       "      <td>1.038700</td>\n",
       "      <td>1.038900</td>\n",
       "      <td>1.041900</td>\n",
       "      <td>1.034100</td>\n",
       "    </tr>\n",
       "    <tr>\n",
       "      <th>25%</th>\n",
       "      <td>1.115100</td>\n",
       "      <td>1.115100</td>\n",
       "      <td>1.119400</td>\n",
       "      <td>1.111400</td>\n",
       "    </tr>\n",
       "    <tr>\n",
       "      <th>50%</th>\n",
       "      <td>1.156300</td>\n",
       "      <td>1.155900</td>\n",
       "      <td>1.160800</td>\n",
       "      <td>1.152700</td>\n",
       "    </tr>\n",
       "    <tr>\n",
       "      <th>75%</th>\n",
       "      <td>1.223900</td>\n",
       "      <td>1.224200</td>\n",
       "      <td>1.228400</td>\n",
       "      <td>1.220900</td>\n",
       "    </tr>\n",
       "    <tr>\n",
       "      <th>max</th>\n",
       "      <td>1.393400</td>\n",
       "      <td>1.393300</td>\n",
       "      <td>1.399300</td>\n",
       "      <td>1.391000</td>\n",
       "    </tr>\n",
       "  </tbody>\n",
       "</table>\n",
       "</div>"
      ],
      "text/plain": [
       "             Price         Open         High          Low\n",
       "count  2349.000000  2349.000000  2349.000000  2349.000000\n",
       "mean      1.180983     1.181058     1.185360     1.176829\n",
       "std       0.090639     0.090645     0.090436     0.090694\n",
       "min       1.038700     1.038900     1.041900     1.034100\n",
       "25%       1.115100     1.115100     1.119400     1.111400\n",
       "50%       1.156300     1.155900     1.160800     1.152700\n",
       "75%       1.223900     1.224200     1.228400     1.220900\n",
       "max       1.393400     1.393300     1.399300     1.391000"
      ]
     },
     "execution_count": 134,
     "metadata": {},
     "output_type": "execute_result"
    }
   ],
   "source": [
    "df.describe()"
   ]
  },
  {
   "cell_type": "code",
   "execution_count": 135,
   "metadata": {},
   "outputs": [
    {
     "data": {
      "text/plain": [
       "(2349, 6)"
      ]
     },
     "execution_count": 135,
     "metadata": {},
     "output_type": "execute_result"
    }
   ],
   "source": [
    "df.shape"
   ]
  },
  {
   "cell_type": "markdown",
   "metadata": {},
   "source": [
    "## Obtainig the threshold_upper_bound"
   ]
  },
  {
   "cell_type": "code",
   "execution_count": 136,
   "metadata": {},
   "outputs": [],
   "source": [
    "df[\"diff_1\"] = df[\"Price\"] - df[\"Price\"].shift(1)"
   ]
  },
  {
   "cell_type": "code",
   "execution_count": 137,
   "metadata": {},
   "outputs": [
    {
     "data": {
      "text/plain": [
       "0          NaN\n",
       "1      -0.0019\n",
       "2      -0.0138\n",
       "3       0.0021\n",
       "4       0.0048\n",
       "         ...  \n",
       "2344    0.0008\n",
       "2345   -0.0016\n",
       "2346    0.0039\n",
       "2347   -0.0025\n",
       "2348    0.0045\n",
       "Name: diff_1, Length: 2349, dtype: float64"
      ]
     },
     "execution_count": 137,
     "metadata": {},
     "output_type": "execute_result"
    }
   ],
   "source": [
    "df[\"diff_1\"]"
   ]
  },
  {
   "cell_type": "code",
   "execution_count": 138,
   "metadata": {},
   "outputs": [],
   "source": [
    "diff1 = df[\"diff_1\"].dropna()\n",
    "diff1 = diff1.reset_index(drop=True)"
   ]
  },
  {
   "cell_type": "code",
   "execution_count": 139,
   "metadata": {},
   "outputs": [
    {
     "data": {
      "image/png": "[encoded data removed]",
      "text/plain": [
       "<Figure size 432x288 with 1 Axes>"
      ]
     },
     "metadata": {
      "needs_background": "light"
     },
     "output_type": "display_data"
    }
   ],
   "source": [
    "sns.histplot(diff1, bins=10)\n",
    "plt.show()"
   ]
  },
  {
   "cell_type": "code",
   "execution_count": 140,
   "metadata": {},
   "outputs": [],
   "source": [
    "bin_count, bin_edges = np.histogram(diff1, bins=10)"
   ]
  },
  {
   "cell_type": "code",
   "execution_count": 141,
   "metadata": {},
   "outputs": [],
   "source": [
    "bin_max_diff = bin_edges[1:]"
   ]
  },
  {
   "cell_type": "code",
   "execution_count": 142,
   "metadata": {},
   "outputs": [
    {
     "data": {
      "text/plain": [
       "array([   5,   16,   85,  488, 1080,  556,   94,   18,    4,    2])"
      ]
     },
     "execution_count": 142,
     "metadata": {},
     "output_type": "execute_result"
    }
   ],
   "source": [
    "bin_count"
   ]
  },
  {
   "cell_type": "code",
   "execution_count": 143,
   "metadata": {},
   "outputs": [],
   "source": [
    "idx_desc = np.argsort(bin_count)[::-1]"
   ]
  },
  {
   "cell_type": "code",
   "execution_count": 144,
   "metadata": {},
   "outputs": [],
   "source": [
    "bin_count = bin_count[idx_desc]\n",
    "bin_max_diff = bin_max_diff[idx_desc]"
   ]
  },
  {
   "cell_type": "code",
   "execution_count": 145,
   "metadata": {},
   "outputs": [
    {
     "data": {
      "text/plain": [
       "array([1080,  556,  488,   94,   85,   18,   16,    5,    4,    2])"
      ]
     },
     "execution_count": 145,
     "metadata": {},
     "output_type": "execute_result"
    }
   ],
   "source": [
    "bin_count"
   ]
  },
  {
   "cell_type": "code",
   "execution_count": 146,
   "metadata": {},
   "outputs": [
    {
     "data": {
      "text/plain": [
       "array([ 0.0027 ,  0.00868, -0.00328,  0.01466, -0.00926,  0.02064,\n",
       "       -0.01524, -0.02122,  0.02662,  0.0326 ])"
      ]
     },
     "execution_count": 146,
     "metadata": {},
     "output_type": "execute_result"
    }
   ],
   "source": [
    "bin_max_diff"
   ]
  },
  {
   "cell_type": "code",
   "execution_count": 147,
   "metadata": {},
   "outputs": [],
   "source": [
    "temp_sum = 0\n",
    "sum_bin_counts = sum(bin_count)\n",
    "curr_bin = 1\n",
    "\n",
    "found = False\n",
    "\n",
    "while not found and curr_bin< len(bin_edges):\n",
    "    temp_sum += bin_count[curr_bin - 1]\n",
    "    if temp_sum / sum_bin_counts > 0.85:\n",
    "        found = True\n",
    "    else:\n",
    "        curr_bin += 1\n"
   ]
  },
  {
   "cell_type": "code",
   "execution_count": 148,
   "metadata": {},
   "outputs": [
    {
     "data": {
      "text/plain": [
       "0.014659999999999944"
      ]
     },
     "execution_count": 148,
     "metadata": {},
     "output_type": "execute_result"
    }
   ],
   "source": [
    "threshold_upper_bound = max(bin_max_diff[:curr_bin+1])\n",
    "threshold_upper_bound "
   ]
  },
  {
   "cell_type": "markdown",
   "metadata": {},
   "source": [
    "## Entropy"
   ]
  },
  {
   "cell_type": "code",
   "execution_count": 149,
   "metadata": {},
   "outputs": [],
   "source": [
    "def get_entropy(diff, labels):\n",
    "    curr_entropy = 0.0\n",
    "    total_count = len(diff)\n",
    "\n",
    "    for label in np.unique(labels):\n",
    "        curr_label_count = len(diff[labels==label])\n",
    "        label_prob = curr_label_count / total_count\n",
    "        curr_entropy += label_prob * math.log(label_prob)\n",
    "\n",
    "    curr_entropy = -curr_entropy\n",
    "    curr_entropy\n",
    "    return curr_entropy"
   ]
  },
  {
   "cell_type": "code",
   "execution_count": 150,
   "metadata": {},
   "outputs": [
    {
     "name": "stdout",
     "output_type": "stream",
     "text": [
      "0.7430756359101289 0\n",
      "0.7993283341655697 0.0001\n",
      "0.8017693479908737 0.00011\n",
      "0.8448094920223177 0.0002\n",
      "0.8478156510242287 0.00021\n",
      "0.880377092776202 0.00030000000000000014\n",
      "0.882972279713704 0.00031000000000000016\n",
      "0.8995846656349775 0.0004000000000000004\n",
      "0.9066916761465714 0.0004100000000000004\n",
      "0.9231859580848201 0.0005000000000000007\n",
      "0.9302993870666674 0.0005100000000000007\n",
      "0.9559616022821377 0.0006000000000000009\n",
      "0.9650161670355704 0.000610000000000001\n",
      "0.9742178392600689 0.0007000000000000012\n",
      "0.9861534546988201 0.0007100000000000012\n",
      "0.9997493820968056 0.0008000000000000014\n",
      "1.0058955136051841 0.0008100000000000015\n",
      "1.0165869870096298 0.0009000000000000017\n",
      "1.0272696226275992 0.0009100000000000017\n",
      "1.0333909625132442 0.001000000000000002\n",
      "1.040245865946416 0.001010000000000002\n",
      "1.0456772878624907 0.0011000000000000022\n",
      "1.0517268028642008 0.0011100000000000023\n",
      "1.0587720285987088 0.0012000000000000025\n",
      "1.0666823222287216 0.0012100000000000025\n",
      "1.0691101403096268 0.0013000000000000028\n",
      "1.0769768698939761 0.0013100000000000028\n",
      "1.0789235242287802 0.001400000000000003\n",
      "1.0835460275108775 0.001410000000000003\n",
      "1.0846770991560457 0.0015000000000000033\n",
      "1.08951430737881 0.0015100000000000033\n",
      "1.0907312345721212 0.0016000000000000035\n",
      "1.0929005911262455 0.0016100000000000036\n",
      "1.0934807165043121 0.0017000000000000038\n",
      "1.0963496761575329 0.0017100000000000038\n",
      "1.0977878444282907 0.001810000000000004\n",
      "1.0978575298907964 0.0019000000000000043\n",
      "1.0985979476878174 0.0019100000000000044\n"
     ]
    }
   ],
   "source": [
    "temp_threshold = 0\n",
    "best_threshold = 0\n",
    "best_entropy = -math.inf\n",
    "\n",
    "while temp_threshold < threshold_upper_bound:\n",
    "    curr_labels = np.zeros(len(diff1))\n",
    "    idx_increase = diff1[diff1>temp_threshold].index\n",
    "    idx_descrease = diff1[diff1 < -temp_threshold].index\n",
    "\n",
    "    curr_labels[idx_increase] = 2\n",
    "    curr_labels[idx_descrease] = 1\n",
    "\n",
    "    curr_entropy = get_entropy(diff1, curr_labels)\n",
    "\n",
    "    if curr_entropy > best_entropy:\n",
    "        best_entropy = curr_entropy\n",
    "        best_threshold = temp_threshold\n",
    "        print(best_entropy, best_threshold)\n",
    "    \n",
    "    temp_threshold += 0.00001\n"
   ]
  },
  {
   "cell_type": "code",
   "execution_count": 151,
   "metadata": {},
   "outputs": [
    {
     "data": {
      "text/plain": [
       "0.0019100000000000044"
      ]
     },
     "execution_count": 151,
     "metadata": {},
     "output_type": "execute_result"
    }
   ],
   "source": [
    "best_threshold"
   ]
  },
  {
   "cell_type": "markdown",
   "metadata": {},
   "source": [
    "## Final dataset labels"
   ]
  },
  {
   "cell_type": "code",
   "execution_count": 152,
   "metadata": {},
   "outputs": [],
   "source": [
    "labels = np.zeros(len(diff1))\n",
    "idx_increase = diff1[diff1>best_threshold].index\n",
    "idx_descrease = diff1[diff1 < -best_threshold].index\n",
    "\n",
    "labels[idx_increase] = 2\n",
    "labels[idx_descrease] = 1\n",
    "\n",
    "# Account for the first data point that does not have a difference\n",
    "labels = np.insert(labels, 0, np.nan)"
   ]
  },
  {
   "cell_type": "code",
   "execution_count": 153,
   "metadata": {},
   "outputs": [],
   "source": [
    "df[\"label\"] = labels"
   ]
  },
  {
   "cell_type": "code",
   "execution_count": 154,
   "metadata": {},
   "outputs": [
    {
     "data": {
      "image/png": "[encoded data removed]",
      "text/plain": [
       "<Figure size 432x288 with 1 Axes>"
      ]
     },
     "metadata": {
      "needs_background": "light"
     },
     "output_type": "display_data"
    }
   ],
   "source": [
    "sns.countplot(x = \"label\", data=df)\n",
    "plt.show()"
   ]
  },
  {
   "cell_type": "markdown",
   "metadata": {},
   "source": [
    "## Export to CSV file"
   ]
  },
  {
   "cell_type": "code",
   "execution_count": 155,
   "metadata": {},
   "outputs": [
    {
     "data": {
      "text/plain": [
       "'../../data/processed/EUR_USD_Labelled_v1.csv'"
      ]
     },
     "execution_count": 155,
     "metadata": {},
     "output_type": "execute_result"
    }
   ],
   "source": [
    "output_path = os.path.relpath(\"../../data/processed/EUR_USD_Labelled_v1.csv\")\n",
    "output_path"
   ]
  },
  {
   "cell_type": "code",
   "execution_count": 156,
   "metadata": {},
   "outputs": [],
   "source": [
    "df.to_csv(output_path, header=True, index=False)"
   ]
  }
 ],
 "metadata": {
  "interpreter": {
   "hash": "7a6674941c1853e0d0f170b80a12cf7984bffc607ed027d31385c7a96638a0b7"
  },
  "kernelspec": {
   "display_name": "Python 3.8.12 ('feature')",
   "language": "python",
   "name": "python3"
  },
  "language_info": {
   "codemirror_mode": {
    "name": "ipython",
    "version": 3
   },
   "file_extension": ".py",
   "mimetype": "text/x-python",
   "name": "python",
   "nbconvert_exporter": "python",
   "pygments_lexer": "ipython3",
   "version": "3.7.11"
  },
  "orig_nbformat": 4
 },
 "nbformat": 4,
 "nbformat_minor": 2
}
