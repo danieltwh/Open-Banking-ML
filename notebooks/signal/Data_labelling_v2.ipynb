{
 "cells": [
  {
   "cell_type": "code",
   "execution_count": 1,
   "metadata": {},
   "outputs": [],
   "source": []
  },
  {
   "cell_type": "code",
   "execution_count": 2,
   "metadata": {},
   "outputs": [],
   "source": [
    "df = pd.read_csv(\"../../data/raw/signal/EUR_USD Historical Data.csv\")"
   ]
  },
  {
   "cell_type": "code",
   "execution_count": 3,
   "metadata": {},
   "outputs": [],
   "source": [
    "df[\"Date\"] = pd.to_datetime(df[\"Date\"])\n",
    "df = df.sort_values(by=[\"Date\"]).reset_index(drop=True)"
   ]
  },
  {
   "cell_type": "code",
   "execution_count": 4,
   "metadata": {},
   "outputs": [
    {
     "data": {
      "text/html": [
       "<div>\n",
       "<style scoped>\n",
       "    .dataframe tbody tr th:only-of-type {\n",
       "        vertical-align: middle;\n",
       "    }\n",
       "\n",
       "    .dataframe tbody tr th {\n",
       "        vertical-align: top;\n",
       "    }\n",
       "\n",
       "    .dataframe thead th {\n",
       "        text-align: right;\n",
       "    }\n",
       "</style>\n",
       "<table border=\"1\" class=\"dataframe\">\n",
       "  <thead>\n",
       "    <tr style=\"text-align: right;\">\n",
       "      <th></th>\n",
       "      <th>Date</th>\n",
       "      <th>Price</th>\n",
       "      <th>Open</th>\n",
       "      <th>High</th>\n",
       "      <th>Low</th>\n",
       "      <th>Change %</th>\n",
       "    </tr>\n",
       "  </thead>\n",
       "  <tbody>\n",
       "    <tr>\n",
       "      <th>0</th>\n",
       "      <td>2013-01-01</td>\n",
       "      <td>1.3205</td>\n",
       "      <td>1.3194</td>\n",
       "      <td>1.3220</td>\n",
       "      <td>1.3180</td>\n",
       "      <td>0.07%</td>\n",
       "    </tr>\n",
       "    <tr>\n",
       "      <th>1</th>\n",
       "      <td>2013-01-02</td>\n",
       "      <td>1.3186</td>\n",
       "      <td>1.3205</td>\n",
       "      <td>1.3302</td>\n",
       "      <td>1.3157</td>\n",
       "      <td>-0.14%</td>\n",
       "    </tr>\n",
       "    <tr>\n",
       "      <th>2</th>\n",
       "      <td>2013-01-03</td>\n",
       "      <td>1.3048</td>\n",
       "      <td>1.3187</td>\n",
       "      <td>1.3192</td>\n",
       "      <td>1.3046</td>\n",
       "      <td>-1.05%</td>\n",
       "    </tr>\n",
       "    <tr>\n",
       "      <th>3</th>\n",
       "      <td>2013-01-04</td>\n",
       "      <td>1.3069</td>\n",
       "      <td>1.3048</td>\n",
       "      <td>1.3091</td>\n",
       "      <td>1.2999</td>\n",
       "      <td>0.16%</td>\n",
       "    </tr>\n",
       "    <tr>\n",
       "      <th>4</th>\n",
       "      <td>2013-01-07</td>\n",
       "      <td>1.3117</td>\n",
       "      <td>1.3072</td>\n",
       "      <td>1.3121</td>\n",
       "      <td>1.3018</td>\n",
       "      <td>0.37%</td>\n",
       "    </tr>\n",
       "    <tr>\n",
       "      <th>...</th>\n",
       "      <td>...</td>\n",
       "      <td>...</td>\n",
       "      <td>...</td>\n",
       "      <td>...</td>\n",
       "      <td>...</td>\n",
       "      <td>...</td>\n",
       "    </tr>\n",
       "    <tr>\n",
       "      <th>2344</th>\n",
       "      <td>2021-12-27</td>\n",
       "      <td>1.1325</td>\n",
       "      <td>1.1318</td>\n",
       "      <td>1.1335</td>\n",
       "      <td>1.1302</td>\n",
       "      <td>0.07%</td>\n",
       "    </tr>\n",
       "    <tr>\n",
       "      <th>2345</th>\n",
       "      <td>2021-12-28</td>\n",
       "      <td>1.1309</td>\n",
       "      <td>1.1329</td>\n",
       "      <td>1.1335</td>\n",
       "      <td>1.1289</td>\n",
       "      <td>-0.14%</td>\n",
       "    </tr>\n",
       "    <tr>\n",
       "      <th>2346</th>\n",
       "      <td>2021-12-29</td>\n",
       "      <td>1.1348</td>\n",
       "      <td>1.1310</td>\n",
       "      <td>1.1370</td>\n",
       "      <td>1.1273</td>\n",
       "      <td>0.34%</td>\n",
       "    </tr>\n",
       "    <tr>\n",
       "      <th>2347</th>\n",
       "      <td>2021-12-30</td>\n",
       "      <td>1.1323</td>\n",
       "      <td>1.1349</td>\n",
       "      <td>1.1360</td>\n",
       "      <td>1.1298</td>\n",
       "      <td>-0.22%</td>\n",
       "    </tr>\n",
       "    <tr>\n",
       "      <th>2348</th>\n",
       "      <td>2021-12-31</td>\n",
       "      <td>1.1368</td>\n",
       "      <td>1.1324</td>\n",
       "      <td>1.1387</td>\n",
       "      <td>1.1302</td>\n",
       "      <td>0.40%</td>\n",
       "    </tr>\n",
       "  </tbody>\n",
       "</table>\n",
       "<p>2349 rows × 6 columns</p>\n",
       "</div>"
      ],
      "text/plain": [
       "           Date   Price    Open    High     Low Change %\n",
       "0    2013-01-01  1.3205  1.3194  1.3220  1.3180    0.07%\n",
       "1    2013-01-02  1.3186  1.3205  1.3302  1.3157   -0.14%\n",
       "2    2013-01-03  1.3048  1.3187  1.3192  1.3046   -1.05%\n",
       "3    2013-01-04  1.3069  1.3048  1.3091  1.2999    0.16%\n",
       "4    2013-01-07  1.3117  1.3072  1.3121  1.3018    0.37%\n",
       "...         ...     ...     ...     ...     ...      ...\n",
       "2344 2021-12-27  1.1325  1.1318  1.1335  1.1302    0.07%\n",
       "2345 2021-12-28  1.1309  1.1329  1.1335  1.1289   -0.14%\n",
       "2346 2021-12-29  1.1348  1.1310  1.1370  1.1273    0.34%\n",
       "2347 2021-12-30  1.1323  1.1349  1.1360  1.1298   -0.22%\n",
       "2348 2021-12-31  1.1368  1.1324  1.1387  1.1302    0.40%\n",
       "\n",
       "[2349 rows x 6 columns]"
      ]
     },
     "execution_count": 4,
     "metadata": {},
     "output_type": "execute_result"
    }
   ],
   "source": [
    "df"
   ]
  },
  {
   "cell_type": "code",
   "execution_count": 5,
   "metadata": {},
   "outputs": [
    {
     "data": {
      "text/html": [
       "<div>\n",
       "<style scoped>\n",
       "    .dataframe tbody tr th:only-of-type {\n",
       "        vertical-align: middle;\n",
       "    }\n",
       "\n",
       "    .dataframe tbody tr th {\n",
       "        vertical-align: top;\n",
       "    }\n",
       "\n",
       "    .dataframe thead th {\n",
       "        text-align: right;\n",
       "    }\n",
       "</style>\n",
       "<table border=\"1\" class=\"dataframe\">\n",
       "  <thead>\n",
       "    <tr style=\"text-align: right;\">\n",
       "      <th></th>\n",
       "      <th>Price</th>\n",
       "      <th>Open</th>\n",
       "      <th>High</th>\n",
       "      <th>Low</th>\n",
       "    </tr>\n",
       "  </thead>\n",
       "  <tbody>\n",
       "    <tr>\n",
       "      <th>count</th>\n",
       "      <td>2349.000000</td>\n",
       "      <td>2349.000000</td>\n",
       "      <td>2349.000000</td>\n",
       "      <td>2349.000000</td>\n",
       "    </tr>\n",
       "    <tr>\n",
       "      <th>mean</th>\n",
       "      <td>1.180983</td>\n",
       "      <td>1.181058</td>\n",
       "      <td>1.185360</td>\n",
       "      <td>1.176829</td>\n",
       "    </tr>\n",
       "    <tr>\n",
       "      <th>std</th>\n",
       "      <td>0.090639</td>\n",
       "      <td>0.090645</td>\n",
       "      <td>0.090436</td>\n",
       "      <td>0.090694</td>\n",
       "    </tr>\n",
       "    <tr>\n",
       "      <th>min</th>\n",
       "      <td>1.038700</td>\n",
       "      <td>1.038900</td>\n",
       "      <td>1.041900</td>\n",
       "      <td>1.034100</td>\n",
       "    </tr>\n",
       "    <tr>\n",
       "      <th>25%</th>\n",
       "      <td>1.115100</td>\n",
       "      <td>1.115100</td>\n",
       "      <td>1.119400</td>\n",
       "      <td>1.111400</td>\n",
       "    </tr>\n",
       "    <tr>\n",
       "      <th>50%</th>\n",
       "      <td>1.156300</td>\n",
       "      <td>1.155900</td>\n",
       "      <td>1.160800</td>\n",
       "      <td>1.152700</td>\n",
       "    </tr>\n",
       "    <tr>\n",
       "      <th>75%</th>\n",
       "      <td>1.223900</td>\n",
       "      <td>1.224200</td>\n",
       "      <td>1.228400</td>\n",
       "      <td>1.220900</td>\n",
       "    </tr>\n",
       "    <tr>\n",
       "      <th>max</th>\n",
       "      <td>1.393400</td>\n",
       "      <td>1.393300</td>\n",
       "      <td>1.399300</td>\n",
       "      <td>1.391000</td>\n",
       "    </tr>\n",
       "  </tbody>\n",
       "</table>\n",
       "</div>"
      ],
      "text/plain": [
       "             Price         Open         High          Low\n",
       "count  2349.000000  2349.000000  2349.000000  2349.000000\n",
       "mean      1.180983     1.181058     1.185360     1.176829\n",
       "std       0.090639     0.090645     0.090436     0.090694\n",
       "min       1.038700     1.038900     1.041900     1.034100\n",
       "25%       1.115100     1.115100     1.119400     1.111400\n",
       "50%       1.156300     1.155900     1.160800     1.152700\n",
       "75%       1.223900     1.224200     1.228400     1.220900\n",
       "max       1.393400     1.393300     1.399300     1.391000"
      ]
     },
     "execution_count": 5,
     "metadata": {},
     "output_type": "execute_result"
    }
   ],
   "source": [
    "df.describe()"
   ]
  },
  {
   "cell_type": "code",
   "execution_count": 6,
   "metadata": {},
   "outputs": [
    {
     "data": {
      "text/plain": [
       "(2349, 6)"
      ]
     },
     "execution_count": 6,
     "metadata": {},
     "output_type": "execute_result"
    }
   ],
   "source": [
    "df.shape"
   ]
  },
  {
   "cell_type": "markdown",
   "metadata": {},
   "source": [
    "## Obtaining the threshold_upper_bound"
   ]
  },
  {
   "cell_type": "code",
   "execution_count": 7,
   "metadata": {},
   "outputs": [],
   "source": [
    "df[\"diff_1\"] = df[\"Price\"] - df[\"Price\"].shift(1)"
   ]
  },
  {
   "cell_type": "code",
   "execution_count": 8,
   "metadata": {},
   "outputs": [
    {
     "data": {
      "text/plain": [
       "0          NaN\n",
       "1      -0.0019\n",
       "2      -0.0138\n",
       "3       0.0021\n",
       "4       0.0048\n",
       "         ...  \n",
       "2344    0.0008\n",
       "2345   -0.0016\n",
       "2346    0.0039\n",
       "2347   -0.0025\n",
       "2348    0.0045\n",
       "Name: diff_1, Length: 2349, dtype: float64"
      ]
     },
     "execution_count": 8,
     "metadata": {},
     "output_type": "execute_result"
    }
   ],
   "source": [
    "df[\"diff_1\"]"
   ]
  },
  {
   "cell_type": "code",
   "execution_count": 11,
   "metadata": {},
   "outputs": [],
   "source": [
    "diff1 = df[\"diff_1\"].dropna()\n",
    "diff1 = diff1.reset_index(drop=True)"
   ]
  },
  {
   "cell_type": "code",
   "execution_count": 13,
   "metadata": {},
   "outputs": [
    {
     "data": {
      "image/png": "[encoded data removed]",
      "text/plain": [
       "<Figure size 432x288 with 1 Axes>"
      ]
     },
     "metadata": {
      "needs_background": "light"
     },
     "output_type": "display_data"
    }
   ],
   "source": [
    "sns.histplot(diff1, bins=10)\n",
    "plt.show()"
   ]
  },
  {
   "cell_type": "code",
   "execution_count": 15,
   "metadata": {},
   "outputs": [],
   "source": [
    "bin_count, bin_edges = np.histogram(diff1, bins=10)"
   ]
  },
  {
   "cell_type": "code",
   "execution_count": 18,
   "metadata": {},
   "outputs": [
    {
     "data": {
      "text/plain": [
       "array([   5,   16,   85,  488, 1080,  556,   94,   18,    4,    2],\n",
       "      dtype=int64)"
      ]
     },
     "execution_count": 18,
     "metadata": {},
     "output_type": "execute_result"
    }
   ],
   "source": [
    "bin_count"
   ]
  },
  {
   "cell_type": "code",
   "execution_count": 20,
   "metadata": {},
   "outputs": [
    {
     "data": {
      "text/plain": [
       "array([-0.0272 , -0.02122, -0.01524, -0.00926, -0.00328,  0.0027 ,\n",
       "        0.00868,  0.01466,  0.02064,  0.02662,  0.0326 ])"
      ]
     },
     "execution_count": 20,
     "metadata": {},
     "output_type": "execute_result"
    }
   ],
   "source": [
    "bin_edges"
   ]
  },
  {
   "cell_type": "code",
   "execution_count": 16,
   "metadata": {},
   "outputs": [],
   "source": [
    "bin_max_diff = bin_edges[1:]"
   ]
  },
  {
   "cell_type": "code",
   "execution_count": 19,
   "metadata": {},
   "outputs": [
    {
     "data": {
      "text/plain": [
       "array([-0.02122, -0.01524, -0.00926, -0.00328,  0.0027 ,  0.00868,\n",
       "        0.01466,  0.02064,  0.02662,  0.0326 ])"
      ]
     },
     "execution_count": 19,
     "metadata": {},
     "output_type": "execute_result"
    }
   ],
   "source": [
    "bin_max_diff"
   ]
  },
  {
   "cell_type": "code",
   "execution_count": 17,
   "metadata": {},
   "outputs": [
    {
     "data": {
      "text/plain": [
       "array([   5,   16,   85,  488, 1080,  556,   94,   18,    4,    2],\n",
       "      dtype=int64)"
      ]
     },
     "execution_count": 17,
     "metadata": {},
     "output_type": "execute_result"
    }
   ],
   "source": [
    "bin_count"
   ]
  },
  {
   "cell_type": "code",
   "execution_count": 21,
   "metadata": {},
   "outputs": [],
   "source": [
    "idx_desc = np.argsort(bin_count)[::-1]"
   ]
  },
  {
   "cell_type": "code",
   "execution_count": 23,
   "metadata": {},
   "outputs": [
    {
     "data": {
      "text/plain": [
       "array([4, 5, 3, 6, 2, 7, 1, 0, 8, 9], dtype=int64)"
      ]
     },
     "execution_count": 23,
     "metadata": {},
     "output_type": "execute_result"
    }
   ],
   "source": [
    "idx_desc"
   ]
  },
  {
   "cell_type": "code",
   "execution_count": 24,
   "metadata": {},
   "outputs": [],
   "source": [
    "bin_count = bin_count[idx_desc]\n",
    "bin_max_diff = bin_max_diff[idx_desc]"
   ]
  },
  {
   "cell_type": "code",
   "execution_count": 25,
   "metadata": {},
   "outputs": [
    {
     "data": {
      "text/plain": [
       "array([1080,  556,  488,   94,   85,   18,   16,    5,    4,    2],\n",
       "      dtype=int64)"
      ]
     },
     "execution_count": 25,
     "metadata": {},
     "output_type": "execute_result"
    }
   ],
   "source": [
    "bin_count"
   ]
  },
  {
   "cell_type": "code",
   "execution_count": 26,
   "metadata": {},
   "outputs": [
    {
     "data": {
      "text/plain": [
       "array([ 0.0027 ,  0.00868, -0.00328,  0.01466, -0.00926,  0.02064,\n",
       "       -0.01524, -0.02122,  0.02662,  0.0326 ])"
      ]
     },
     "execution_count": 26,
     "metadata": {},
     "output_type": "execute_result"
    }
   ],
   "source": [
    "bin_max_diff"
   ]
  },
  {
   "cell_type": "code",
   "execution_count": 47,
   "metadata": {},
   "outputs": [],
   "source": [
    "temp_sum = 0\n",
    "sum_bin_counts = sum(bin_count)\n",
    "curr_bin = 1\n",
    "\n",
    "found = False\n",
    "\n",
    "while not found and curr_bin< len(bin_edges):\n",
    "    temp_sum += bin_count[curr_bin - 1]\n",
    "    if temp_sum / sum_bin_counts > 0.85:\n",
    "        found = True\n",
    "    else:\n",
    "        curr_bin += 1\n"
   ]
  },
  {
   "cell_type": "code",
   "execution_count": 28,
   "metadata": {},
   "outputs": [
    {
     "data": {
      "text/plain": [
       "0.014659999999999944"
      ]
     },
     "execution_count": 28,
     "metadata": {},
     "output_type": "execute_result"
    }
   ],
   "source": [
    "threshold_upper_bound = max(bin_max_diff[:curr_bin+1])\n",
    "threshold_upper_bound "
   ]
  },
  {
   "cell_type": "markdown",
   "metadata": {},
   "source": [
    "## Entropy"
   ]
  },
  {
   "cell_type": "code",
   "execution_count": 31,
   "metadata": {},
   "outputs": [],
   "source": [
    "def get_entropy(diff, labels):\n",
    "    curr_entropy = 0.0\n",
    "    total_count = len(diff)\n",
    "\n",
    "    for label in np.unique(labels):\n",
    "        curr_label_count = len(diff[labels==label])\n",
    "        label_prob = curr_label_count / total_count\n",
    "        curr_entropy += label_prob * math.log(label_prob)\n",
    "\n",
    "    curr_entropy = -curr_entropy\n",
    "    curr_entropy\n",
    "    return curr_entropy"
   ]
  },
  {
   "cell_type": "code",
   "execution_count": 85,
   "metadata": {},
   "outputs": [],
   "source": [
    "def get_best_threshold(diff1):\n",
    "\n",
    "    bin_count, bin_edges = np.histogram(diff1, bins=10)\n",
    "    bin_max_diff = bin_edges[1:]\n",
    "    idx_desc = np.argsort(bin_count)[::-1]\n",
    "    bin_count = bin_count[idx_desc]\n",
    "    bin_max_diff = bin_max_diff[idx_desc]\n",
    "\n",
    "    temp_sum = 0\n",
    "    sum_bin_counts = sum(bin_count)\n",
    "    curr_bin = 1\n",
    "\n",
    "    found = False\n",
    "\n",
    "    while not found and curr_bin< len(bin_edges):\n",
    "        temp_sum += bin_count[curr_bin - 1]\n",
    "        if temp_sum / sum_bin_counts > 0.85:\n",
    "            found = True\n",
    "        else:\n",
    "            curr_bin += 1\n",
    "\n",
    "    threshold_upper_bound = max(bin_max_diff[:curr_bin+1])\n",
    "\n",
    "    temp_threshold = 0\n",
    "    best_threshold = 0\n",
    "    best_entropy = -math.inf\n",
    "\n",
    "    while temp_threshold < threshold_upper_bound:\n",
    "        curr_labels = np.zeros(len(diff1))\n",
    "        idx_increase = diff1[diff1>temp_threshold].index\n",
    "        idx_descrease = diff1[diff1 < -temp_threshold].index\n",
    "\n",
    "        curr_labels[idx_increase] = 2\n",
    "        curr_labels[idx_descrease] = 1\n",
    "\n",
    "        curr_entropy = get_entropy(diff1, curr_labels)\n",
    "\n",
    "        if curr_entropy > best_entropy:\n",
    "            best_entropy = curr_entropy\n",
    "            best_threshold = temp_threshold\n",
    "            print(best_entropy, best_threshold)\n",
    "        \n",
    "        temp_threshold += 0.00001\n",
    "    return best_entropy, best_threshold\n"
   ]
  },
  {
   "cell_type": "code",
   "execution_count": null,
   "metadata": {},
   "outputs": [],
   "source": [
    "best_entropy, best_threshold = get_best_threshold(diff1)"
   ]
  },
  {
   "cell_type": "code",
   "execution_count": 34,
   "metadata": {},
   "outputs": [
    {
     "data": {
      "text/plain": [
       "0.0019100000000000044"
      ]
     },
     "execution_count": 34,
     "metadata": {},
     "output_type": "execute_result"
    }
   ],
   "source": [
    "best_threshold"
   ]
  },
  {
   "cell_type": "markdown",
   "metadata": {},
   "source": [
    "## Final dataset labels"
   ]
  },
  {
   "cell_type": "code",
   "execution_count": 40,
   "metadata": {},
   "outputs": [],
   "source": [
    "labels = np.zeros(len(diff1))\n",
    "idx_increase = diff1[diff1>best_threshold].index\n",
    "idx_descrease = diff1[diff1 < -best_threshold].index\n",
    "\n",
    "labels[idx_increase] = 2\n",
    "labels[idx_descrease] = 1\n",
    "\n",
    "# Account for the first data point that does not have a difference\n",
    "labels = np.insert(labels, 0, np.nan)"
   ]
  },
  {
   "cell_type": "code",
   "execution_count": 42,
   "metadata": {},
   "outputs": [],
   "source": [
    "df[\"label\"] = labels"
   ]
  },
  {
   "cell_type": "code",
   "execution_count": 43,
   "metadata": {},
   "outputs": [
    {
     "data": {
      "text/html": [
       "<div>\n",
       "<style scoped>\n",
       "    .dataframe tbody tr th:only-of-type {\n",
       "        vertical-align: middle;\n",
       "    }\n",
       "\n",
       "    .dataframe tbody tr th {\n",
       "        vertical-align: top;\n",
       "    }\n",
       "\n",
       "    .dataframe thead th {\n",
       "        text-align: right;\n",
       "    }\n",
       "</style>\n",
       "<table border=\"1\" class=\"dataframe\">\n",
       "  <thead>\n",
       "    <tr style=\"text-align: right;\">\n",
       "      <th></th>\n",
       "      <th>Date</th>\n",
       "      <th>Price</th>\n",
       "      <th>Open</th>\n",
       "      <th>High</th>\n",
       "      <th>Low</th>\n",
       "      <th>Change %</th>\n",
       "      <th>diff_1</th>\n",
       "      <th>label</th>\n",
       "    </tr>\n",
       "  </thead>\n",
       "  <tbody>\n",
       "    <tr>\n",
       "      <th>0</th>\n",
       "      <td>2013-01-01</td>\n",
       "      <td>1.3205</td>\n",
       "      <td>1.3194</td>\n",
       "      <td>1.3220</td>\n",
       "      <td>1.3180</td>\n",
       "      <td>0.07%</td>\n",
       "      <td>NaN</td>\n",
       "      <td>NaN</td>\n",
       "    </tr>\n",
       "    <tr>\n",
       "      <th>1</th>\n",
       "      <td>2013-01-02</td>\n",
       "      <td>1.3186</td>\n",
       "      <td>1.3205</td>\n",
       "      <td>1.3302</td>\n",
       "      <td>1.3157</td>\n",
       "      <td>-0.14%</td>\n",
       "      <td>-0.0019</td>\n",
       "      <td>0.0</td>\n",
       "    </tr>\n",
       "    <tr>\n",
       "      <th>2</th>\n",
       "      <td>2013-01-03</td>\n",
       "      <td>1.3048</td>\n",
       "      <td>1.3187</td>\n",
       "      <td>1.3192</td>\n",
       "      <td>1.3046</td>\n",
       "      <td>-1.05%</td>\n",
       "      <td>-0.0138</td>\n",
       "      <td>1.0</td>\n",
       "    </tr>\n",
       "    <tr>\n",
       "      <th>3</th>\n",
       "      <td>2013-01-04</td>\n",
       "      <td>1.3069</td>\n",
       "      <td>1.3048</td>\n",
       "      <td>1.3091</td>\n",
       "      <td>1.2999</td>\n",
       "      <td>0.16%</td>\n",
       "      <td>0.0021</td>\n",
       "      <td>2.0</td>\n",
       "    </tr>\n",
       "    <tr>\n",
       "      <th>4</th>\n",
       "      <td>2013-01-07</td>\n",
       "      <td>1.3117</td>\n",
       "      <td>1.3072</td>\n",
       "      <td>1.3121</td>\n",
       "      <td>1.3018</td>\n",
       "      <td>0.37%</td>\n",
       "      <td>0.0048</td>\n",
       "      <td>2.0</td>\n",
       "    </tr>\n",
       "    <tr>\n",
       "      <th>...</th>\n",
       "      <td>...</td>\n",
       "      <td>...</td>\n",
       "      <td>...</td>\n",
       "      <td>...</td>\n",
       "      <td>...</td>\n",
       "      <td>...</td>\n",
       "      <td>...</td>\n",
       "      <td>...</td>\n",
       "    </tr>\n",
       "    <tr>\n",
       "      <th>2344</th>\n",
       "      <td>2021-12-27</td>\n",
       "      <td>1.1325</td>\n",
       "      <td>1.1318</td>\n",
       "      <td>1.1335</td>\n",
       "      <td>1.1302</td>\n",
       "      <td>0.07%</td>\n",
       "      <td>0.0008</td>\n",
       "      <td>0.0</td>\n",
       "    </tr>\n",
       "    <tr>\n",
       "      <th>2345</th>\n",
       "      <td>2021-12-28</td>\n",
       "      <td>1.1309</td>\n",
       "      <td>1.1329</td>\n",
       "      <td>1.1335</td>\n",
       "      <td>1.1289</td>\n",
       "      <td>-0.14%</td>\n",
       "      <td>-0.0016</td>\n",
       "      <td>0.0</td>\n",
       "    </tr>\n",
       "    <tr>\n",
       "      <th>2346</th>\n",
       "      <td>2021-12-29</td>\n",
       "      <td>1.1348</td>\n",
       "      <td>1.1310</td>\n",
       "      <td>1.1370</td>\n",
       "      <td>1.1273</td>\n",
       "      <td>0.34%</td>\n",
       "      <td>0.0039</td>\n",
       "      <td>2.0</td>\n",
       "    </tr>\n",
       "    <tr>\n",
       "      <th>2347</th>\n",
       "      <td>2021-12-30</td>\n",
       "      <td>1.1323</td>\n",
       "      <td>1.1349</td>\n",
       "      <td>1.1360</td>\n",
       "      <td>1.1298</td>\n",
       "      <td>-0.22%</td>\n",
       "      <td>-0.0025</td>\n",
       "      <td>1.0</td>\n",
       "    </tr>\n",
       "    <tr>\n",
       "      <th>2348</th>\n",
       "      <td>2021-12-31</td>\n",
       "      <td>1.1368</td>\n",
       "      <td>1.1324</td>\n",
       "      <td>1.1387</td>\n",
       "      <td>1.1302</td>\n",
       "      <td>0.40%</td>\n",
       "      <td>0.0045</td>\n",
       "      <td>2.0</td>\n",
       "    </tr>\n",
       "  </tbody>\n",
       "</table>\n",
       "<p>2349 rows × 8 columns</p>\n",
       "</div>"
      ],
      "text/plain": [
       "           Date   Price    Open    High     Low Change %  diff_1  label\n",
       "0    2013-01-01  1.3205  1.3194  1.3220  1.3180    0.07%     NaN    NaN\n",
       "1    2013-01-02  1.3186  1.3205  1.3302  1.3157   -0.14% -0.0019    0.0\n",
       "2    2013-01-03  1.3048  1.3187  1.3192  1.3046   -1.05% -0.0138    1.0\n",
       "3    2013-01-04  1.3069  1.3048  1.3091  1.2999    0.16%  0.0021    2.0\n",
       "4    2013-01-07  1.3117  1.3072  1.3121  1.3018    0.37%  0.0048    2.0\n",
       "...         ...     ...     ...     ...     ...      ...     ...    ...\n",
       "2344 2021-12-27  1.1325  1.1318  1.1335  1.1302    0.07%  0.0008    0.0\n",
       "2345 2021-12-28  1.1309  1.1329  1.1335  1.1289   -0.14% -0.0016    0.0\n",
       "2346 2021-12-29  1.1348  1.1310  1.1370  1.1273    0.34%  0.0039    2.0\n",
       "2347 2021-12-30  1.1323  1.1349  1.1360  1.1298   -0.22% -0.0025    1.0\n",
       "2348 2021-12-31  1.1368  1.1324  1.1387  1.1302    0.40%  0.0045    2.0\n",
       "\n",
       "[2349 rows x 8 columns]"
      ]
     },
     "execution_count": 43,
     "metadata": {},
     "output_type": "execute_result"
    }
   ],
   "source": [
    "df"
   ]
  },
  {
   "cell_type": "code",
   "execution_count": 44,
   "metadata": {},
   "outputs": [
    {
     "data": {
      "image/png": "[encoded data removed]",
      "text/plain": [
       "<Figure size 432x288 with 1 Axes>"
      ]
     },
     "metadata": {
      "needs_background": "light"
     },
     "output_type": "display_data"
    }
   ],
   "source": [
    "sns.countplot(x = \"label\", data=df)\n",
    "plt.show()"
   ]
  },
  {
   "cell_type": "markdown",
   "metadata": {},
   "source": [
    "## Changing Threshold"
   ]
  },
  {
   "cell_type": "code",
   "execution_count": 65,
   "metadata": {},
   "outputs": [
    {
     "data": {
      "text/plain": [
       "<module 'technical_indicators' from '../../src/technical_indicators.py'>"
      ]
     },
     "execution_count": 65,
     "metadata": {},
     "output_type": "execute_result"
    }
   ],
   "source": [
    "import sys, os\n",
    "\n",
    "import math\n",
    "\n",
    "import numpy as np\n",
    "import pandas as pd\n",
    "import matplotlib.pyplot as plt\n",
    "import seaborn as sns\n",
    "\n",
    "sys.path.append(\"../../src\")\n",
    "import technical_indicators\n",
    "\n",
    "import importlib\n",
    "importlib.reload(technical_indicators)"
   ]
  },
  {
   "cell_type": "code",
   "execution_count": 62,
   "metadata": {},
   "outputs": [],
   "source": [
    "df = pd.read_csv(\"../../data/processed/signalEUR_USD_Labelled_v1_processed.csv\", index_col=0)\n",
    "df[\"Date\"] = pd.to_datetime(df[\"Date\"])"
   ]
  },
  {
   "cell_type": "code",
   "execution_count": 86,
   "metadata": {},
   "outputs": [],
   "source": [
    "def get_entropy(diff, labels):\n",
    "    curr_entropy = 0.0\n",
    "    total_count = len(diff)\n",
    "\n",
    "    for label in np.unique(labels):\n",
    "        curr_label_count = len(diff[labels==label])\n",
    "        label_prob = curr_label_count / total_count\n",
    "        curr_entropy += label_prob * math.log(label_prob)\n",
    "\n",
    "    curr_entropy = -curr_entropy\n",
    "    curr_entropy\n",
    "    return curr_entropy"
   ]
  },
  {
   "cell_type": "code",
   "execution_count": 104,
   "metadata": {},
   "outputs": [],
   "source": [
    "def get_best_threshold(diff1):\n",
    "\n",
    "    bin_count, bin_edges = np.histogram(diff1, bins=10)\n",
    "    bin_max_diff = bin_edges[1:]\n",
    "    idx_desc = np.argsort(bin_count)[::-1]\n",
    "    bin_count = bin_count[idx_desc]\n",
    "    bin_max_diff = bin_max_diff[idx_desc]\n",
    "\n",
    "    temp_sum = 0\n",
    "    sum_bin_counts = sum(bin_count)\n",
    "    curr_bin = 1\n",
    "\n",
    "    found = False\n",
    "\n",
    "    while not found and curr_bin< len(bin_edges):\n",
    "        temp_sum += bin_count[curr_bin - 1]\n",
    "        if temp_sum / sum_bin_counts > 0.85:\n",
    "            found = True\n",
    "        else:\n",
    "            curr_bin += 1\n",
    "\n",
    "    threshold_upper_bound = max(bin_max_diff[:curr_bin+1])\n",
    "\n",
    "    temp_threshold = 0\n",
    "    best_threshold = 0\n",
    "    best_entropy = -math.inf\n",
    "\n",
    "    while temp_threshold < threshold_upper_bound:\n",
    "        curr_labels = np.zeros(len(diff1))\n",
    "        idx_increase = diff1[diff1>temp_threshold].index\n",
    "        idx_descrease = diff1[diff1 < -temp_threshold].index\n",
    "\n",
    "        curr_labels[idx_increase] = 2\n",
    "        curr_labels[idx_descrease] = 1\n",
    "\n",
    "        curr_entropy = get_entropy(diff1, curr_labels)\n",
    "\n",
    "        if curr_entropy > best_entropy:\n",
    "            best_entropy = curr_entropy\n",
    "            best_threshold = temp_threshold\n",
    "            print(best_entropy, best_threshold)\n",
    "        \n",
    "        temp_threshold += 0.00001\n",
    "    return best_entropy, best_threshold\n"
   ]
  },
  {
   "cell_type": "code",
   "execution_count": null,
   "metadata": {},
   "outputs": [],
   "source": [
    "def process(df):\n",
    "    df = technical_indicators.sma(df, interval=10)\n",
    "    df = technical_indicators.ema(df, interval=10)\n",
    "    df = technical_indicators.cma(df)\n",
    "    df = technical_indicators.macd(df)\n",
    "    df = technical_indicators.roc(df)\n",
    "    df = technical_indicators.rsi(df)\n",
    "    df = technical_indicators.bb(df)\n",
    "    df = technical_indicators.cci(df)\n",
    "    return df"
   ]
  },
  {
   "cell_type": "code",
   "execution_count": 100,
   "metadata": {},
   "outputs": [
    {
     "data": {
      "text/html": [
       "<div>\n",
       "<style scoped>\n",
       "    .dataframe tbody tr th:only-of-type {\n",
       "        vertical-align: middle;\n",
       "    }\n",
       "\n",
       "    .dataframe tbody tr th {\n",
       "        vertical-align: top;\n",
       "    }\n",
       "\n",
       "    .dataframe thead th {\n",
       "        text-align: right;\n",
       "    }\n",
       "</style>\n",
       "<table border=\"1\" class=\"dataframe\">\n",
       "  <thead>\n",
       "    <tr style=\"text-align: right;\">\n",
       "      <th></th>\n",
       "      <th>Date</th>\n",
       "      <th>Price</th>\n",
       "      <th>Open</th>\n",
       "      <th>High</th>\n",
       "      <th>Low</th>\n",
       "      <th>Change %</th>\n",
       "      <th>diff_1</th>\n",
       "      <th>label</th>\n",
       "      <th>sma</th>\n",
       "      <th>ema</th>\n",
       "      <th>cma</th>\n",
       "      <th>macd</th>\n",
       "      <th>macd_s</th>\n",
       "      <th>macd_h</th>\n",
       "      <th>roc</th>\n",
       "      <th>rsi</th>\n",
       "      <th>Bollinger_up</th>\n",
       "      <th>Bollinger_down</th>\n",
       "      <th>cci</th>\n",
       "      <th>diff_n</th>\n",
       "    </tr>\n",
       "  </thead>\n",
       "  <tbody>\n",
       "    <tr>\n",
       "      <th>0</th>\n",
       "      <td>2013-01-01</td>\n",
       "      <td>1.3205</td>\n",
       "      <td>1.3194</td>\n",
       "      <td>1.3220</td>\n",
       "      <td>1.3180</td>\n",
       "      <td>0.07%</td>\n",
       "      <td>NaN</td>\n",
       "      <td>NaN</td>\n",
       "      <td>NaN</td>\n",
       "      <td>1.320500</td>\n",
       "      <td>1.320500</td>\n",
       "      <td>NaN</td>\n",
       "      <td>NaN</td>\n",
       "      <td>NaN</td>\n",
       "      <td>NaN</td>\n",
       "      <td>NaN</td>\n",
       "      <td>NaN</td>\n",
       "      <td>NaN</td>\n",
       "      <td>NaN</td>\n",
       "      <td>-0.0122</td>\n",
       "    </tr>\n",
       "    <tr>\n",
       "      <th>1</th>\n",
       "      <td>2013-01-02</td>\n",
       "      <td>1.3186</td>\n",
       "      <td>1.3205</td>\n",
       "      <td>1.3302</td>\n",
       "      <td>1.3157</td>\n",
       "      <td>-0.14%</td>\n",
       "      <td>-0.0019</td>\n",
       "      <td>0.0</td>\n",
       "      <td>NaN</td>\n",
       "      <td>1.318956</td>\n",
       "      <td>1.319550</td>\n",
       "      <td>NaN</td>\n",
       "      <td>NaN</td>\n",
       "      <td>NaN</td>\n",
       "      <td>NaN</td>\n",
       "      <td>0.000000</td>\n",
       "      <td>NaN</td>\n",
       "      <td>NaN</td>\n",
       "      <td>NaN</td>\n",
       "      <td>-0.0122</td>\n",
       "    </tr>\n",
       "    <tr>\n",
       "      <th>2</th>\n",
       "      <td>2013-01-03</td>\n",
       "      <td>1.3048</td>\n",
       "      <td>1.3187</td>\n",
       "      <td>1.3192</td>\n",
       "      <td>1.3046</td>\n",
       "      <td>-1.05%</td>\n",
       "      <td>-0.0138</td>\n",
       "      <td>1.0</td>\n",
       "      <td>NaN</td>\n",
       "      <td>1.307931</td>\n",
       "      <td>1.314633</td>\n",
       "      <td>NaN</td>\n",
       "      <td>NaN</td>\n",
       "      <td>NaN</td>\n",
       "      <td>NaN</td>\n",
       "      <td>0.000000</td>\n",
       "      <td>NaN</td>\n",
       "      <td>NaN</td>\n",
       "      <td>NaN</td>\n",
       "      <td>0.0223</td>\n",
       "    </tr>\n",
       "    <tr>\n",
       "      <th>3</th>\n",
       "      <td>2013-01-04</td>\n",
       "      <td>1.3069</td>\n",
       "      <td>1.3048</td>\n",
       "      <td>1.3091</td>\n",
       "      <td>1.2999</td>\n",
       "      <td>0.16%</td>\n",
       "      <td>0.0021</td>\n",
       "      <td>2.0</td>\n",
       "      <td>NaN</td>\n",
       "      <td>1.307136</td>\n",
       "      <td>1.312700</td>\n",
       "      <td>NaN</td>\n",
       "      <td>NaN</td>\n",
       "      <td>NaN</td>\n",
       "      <td>NaN</td>\n",
       "      <td>13.559663</td>\n",
       "      <td>NaN</td>\n",
       "      <td>NaN</td>\n",
       "      <td>NaN</td>\n",
       "      <td>0.0275</td>\n",
       "    </tr>\n",
       "    <tr>\n",
       "      <th>4</th>\n",
       "      <td>2013-01-07</td>\n",
       "      <td>1.3117</td>\n",
       "      <td>1.3072</td>\n",
       "      <td>1.3121</td>\n",
       "      <td>1.3018</td>\n",
       "      <td>0.37%</td>\n",
       "      <td>0.0048</td>\n",
       "      <td>2.0</td>\n",
       "      <td>NaN</td>\n",
       "      <td>1.310649</td>\n",
       "      <td>1.312500</td>\n",
       "      <td>NaN</td>\n",
       "      <td>NaN</td>\n",
       "      <td>NaN</td>\n",
       "      <td>NaN</td>\n",
       "      <td>36.329386</td>\n",
       "      <td>NaN</td>\n",
       "      <td>NaN</td>\n",
       "      <td>NaN</td>\n",
       "      <td>0.0266</td>\n",
       "    </tr>\n",
       "    <tr>\n",
       "      <th>...</th>\n",
       "      <td>...</td>\n",
       "      <td>...</td>\n",
       "      <td>...</td>\n",
       "      <td>...</td>\n",
       "      <td>...</td>\n",
       "      <td>...</td>\n",
       "      <td>...</td>\n",
       "      <td>...</td>\n",
       "      <td>...</td>\n",
       "      <td>...</td>\n",
       "      <td>...</td>\n",
       "      <td>...</td>\n",
       "      <td>...</td>\n",
       "      <td>...</td>\n",
       "      <td>...</td>\n",
       "      <td>...</td>\n",
       "      <td>...</td>\n",
       "      <td>...</td>\n",
       "      <td>...</td>\n",
       "      <td>...</td>\n",
       "    </tr>\n",
       "    <tr>\n",
       "      <th>2344</th>\n",
       "      <td>2021-12-27</td>\n",
       "      <td>1.1325</td>\n",
       "      <td>1.1318</td>\n",
       "      <td>1.1335</td>\n",
       "      <td>1.1302</td>\n",
       "      <td>0.07%</td>\n",
       "      <td>0.0008</td>\n",
       "      <td>0.0</td>\n",
       "      <td>1.130020</td>\n",
       "      <td>1.132357</td>\n",
       "      <td>1.181063</td>\n",
       "      <td>-0.001917</td>\n",
       "      <td>-0.003277</td>\n",
       "      <td>0.001360</td>\n",
       "      <td>0.004435</td>\n",
       "      <td>55.666956</td>\n",
       "      <td>1.135719</td>\n",
       "      <td>1.124321</td>\n",
       "      <td>64.885520</td>\n",
       "      <td>NaN</td>\n",
       "    </tr>\n",
       "    <tr>\n",
       "      <th>2345</th>\n",
       "      <td>2021-12-28</td>\n",
       "      <td>1.1309</td>\n",
       "      <td>1.1329</td>\n",
       "      <td>1.1335</td>\n",
       "      <td>1.1289</td>\n",
       "      <td>-0.14%</td>\n",
       "      <td>-0.0016</td>\n",
       "      <td>0.0</td>\n",
       "      <td>1.129885</td>\n",
       "      <td>1.131236</td>\n",
       "      <td>1.181042</td>\n",
       "      <td>-0.001742</td>\n",
       "      <td>-0.002970</td>\n",
       "      <td>0.001228</td>\n",
       "      <td>0.002304</td>\n",
       "      <td>51.038878</td>\n",
       "      <td>1.135350</td>\n",
       "      <td>1.124420</td>\n",
       "      <td>35.968157</td>\n",
       "      <td>NaN</td>\n",
       "    </tr>\n",
       "    <tr>\n",
       "      <th>2346</th>\n",
       "      <td>2021-12-29</td>\n",
       "      <td>1.1348</td>\n",
       "      <td>1.1310</td>\n",
       "      <td>1.1370</td>\n",
       "      <td>1.1273</td>\n",
       "      <td>0.34%</td>\n",
       "      <td>0.0039</td>\n",
       "      <td>2.0</td>\n",
       "      <td>1.130030</td>\n",
       "      <td>1.133978</td>\n",
       "      <td>1.181022</td>\n",
       "      <td>-0.001275</td>\n",
       "      <td>-0.002631</td>\n",
       "      <td>0.001357</td>\n",
       "      <td>0.002119</td>\n",
       "      <td>60.317695</td>\n",
       "      <td>1.135861</td>\n",
       "      <td>1.124199</td>\n",
       "      <td>96.397770</td>\n",
       "      <td>NaN</td>\n",
       "    </tr>\n",
       "    <tr>\n",
       "      <th>2347</th>\n",
       "      <td>2021-12-30</td>\n",
       "      <td>1.1323</td>\n",
       "      <td>1.1349</td>\n",
       "      <td>1.1360</td>\n",
       "      <td>1.1298</td>\n",
       "      <td>-0.22%</td>\n",
       "      <td>-0.0025</td>\n",
       "      <td>1.0</td>\n",
       "      <td>1.130150</td>\n",
       "      <td>1.132687</td>\n",
       "      <td>1.181001</td>\n",
       "      <td>-0.001093</td>\n",
       "      <td>-0.002323</td>\n",
       "      <td>0.001231</td>\n",
       "      <td>-0.000441</td>\n",
       "      <td>52.902228</td>\n",
       "      <td>1.136068</td>\n",
       "      <td>1.124232</td>\n",
       "      <td>81.244514</td>\n",
       "      <td>NaN</td>\n",
       "    </tr>\n",
       "    <tr>\n",
       "      <th>2348</th>\n",
       "      <td>2021-12-31</td>\n",
       "      <td>1.1368</td>\n",
       "      <td>1.1324</td>\n",
       "      <td>1.1387</td>\n",
       "      <td>1.1302</td>\n",
       "      <td>0.40%</td>\n",
       "      <td>0.0045</td>\n",
       "      <td>2.0</td>\n",
       "      <td>1.130425</td>\n",
       "      <td>1.135851</td>\n",
       "      <td>1.180983</td>\n",
       "      <td>-0.000579</td>\n",
       "      <td>-0.001974</td>\n",
       "      <td>0.001396</td>\n",
       "      <td>0.004506</td>\n",
       "      <td>62.481977</td>\n",
       "      <td>1.137039</td>\n",
       "      <td>1.123811</td>\n",
       "      <td>133.875356</td>\n",
       "      <td>NaN</td>\n",
       "    </tr>\n",
       "  </tbody>\n",
       "</table>\n",
       "<p>2349 rows × 20 columns</p>\n",
       "</div>"
      ],
      "text/plain": [
       "           Date   Price    Open    High     Low Change %  diff_1  label  \\\n",
       "0    2013-01-01  1.3205  1.3194  1.3220  1.3180    0.07%     NaN    NaN   \n",
       "1    2013-01-02  1.3186  1.3205  1.3302  1.3157   -0.14% -0.0019    0.0   \n",
       "2    2013-01-03  1.3048  1.3187  1.3192  1.3046   -1.05% -0.0138    1.0   \n",
       "3    2013-01-04  1.3069  1.3048  1.3091  1.2999    0.16%  0.0021    2.0   \n",
       "4    2013-01-07  1.3117  1.3072  1.3121  1.3018    0.37%  0.0048    2.0   \n",
       "...         ...     ...     ...     ...     ...      ...     ...    ...   \n",
       "2344 2021-12-27  1.1325  1.1318  1.1335  1.1302    0.07%  0.0008    0.0   \n",
       "2345 2021-12-28  1.1309  1.1329  1.1335  1.1289   -0.14% -0.0016    0.0   \n",
       "2346 2021-12-29  1.1348  1.1310  1.1370  1.1273    0.34%  0.0039    2.0   \n",
       "2347 2021-12-30  1.1323  1.1349  1.1360  1.1298   -0.22% -0.0025    1.0   \n",
       "2348 2021-12-31  1.1368  1.1324  1.1387  1.1302    0.40%  0.0045    2.0   \n",
       "\n",
       "           sma       ema       cma      macd    macd_s    macd_h       roc  \\\n",
       "0          NaN  1.320500  1.320500       NaN       NaN       NaN       NaN   \n",
       "1          NaN  1.318956  1.319550       NaN       NaN       NaN       NaN   \n",
       "2          NaN  1.307931  1.314633       NaN       NaN       NaN       NaN   \n",
       "3          NaN  1.307136  1.312700       NaN       NaN       NaN       NaN   \n",
       "4          NaN  1.310649  1.312500       NaN       NaN       NaN       NaN   \n",
       "...        ...       ...       ...       ...       ...       ...       ...   \n",
       "2344  1.130020  1.132357  1.181063 -0.001917 -0.003277  0.001360  0.004435   \n",
       "2345  1.129885  1.131236  1.181042 -0.001742 -0.002970  0.001228  0.002304   \n",
       "2346  1.130030  1.133978  1.181022 -0.001275 -0.002631  0.001357  0.002119   \n",
       "2347  1.130150  1.132687  1.181001 -0.001093 -0.002323  0.001231 -0.000441   \n",
       "2348  1.130425  1.135851  1.180983 -0.000579 -0.001974  0.001396  0.004506   \n",
       "\n",
       "            rsi  Bollinger_up  Bollinger_down         cci  diff_n  \n",
       "0           NaN           NaN             NaN         NaN -0.0122  \n",
       "1      0.000000           NaN             NaN         NaN -0.0122  \n",
       "2      0.000000           NaN             NaN         NaN  0.0223  \n",
       "3     13.559663           NaN             NaN         NaN  0.0275  \n",
       "4     36.329386           NaN             NaN         NaN  0.0266  \n",
       "...         ...           ...             ...         ...     ...  \n",
       "2344  55.666956      1.135719        1.124321   64.885520     NaN  \n",
       "2345  51.038878      1.135350        1.124420   35.968157     NaN  \n",
       "2346  60.317695      1.135861        1.124199   96.397770     NaN  \n",
       "2347  52.902228      1.136068        1.124232   81.244514     NaN  \n",
       "2348  62.481977      1.137039        1.123811  133.875356     NaN  \n",
       "\n",
       "[2349 rows x 20 columns]"
      ]
     },
     "execution_count": 100,
     "metadata": {},
     "output_type": "execute_result"
    }
   ],
   "source": [
    "df"
   ]
  },
  {
   "cell_type": "code",
   "execution_count": 101,
   "metadata": {},
   "outputs": [],
   "source": [
    "N_AHEAD = 5\n",
    "\n",
    "df[\"diff_n\"] = np.nan\n",
    "\n",
    "MAX_IDX = df.index[-1]\n",
    "\n",
    "for idx, row in df.iterrows():\n",
    "\n",
    "    label_idx = idx + N_AHEAD\n",
    "\n",
    "    if idx <= MAX_IDX and label_idx <= MAX_IDX:\n",
    "        diff = df.loc[label_idx, \"Price\"] - df.loc[idx, \"Price\"]\n",
    "        df.loc[idx, \"diff_n\"] = diff"
   ]
  },
  {
   "cell_type": "code",
   "execution_count": null,
   "metadata": {},
   "outputs": [],
   "source": [
    "# temp_df = df[~df[\"diff_1\"].isna()]\n",
    "# temp_df"
   ]
  },
  {
   "cell_type": "code",
   "execution_count": 118,
   "metadata": {},
   "outputs": [],
   "source": [
    "temp_df = df.dropna(axis=0).reset_index(drop=True)"
   ]
  },
  {
   "cell_type": "code",
   "execution_count": 121,
   "metadata": {},
   "outputs": [
    {
     "name": "stdout",
     "output_type": "stream",
     "text": [
      "0.7194774452134761 0\n",
      "0.7447696345302225 0.0001\n",
      "0.7776931038339561 0.0002\n",
      "0.7790482940556358 0.00021\n",
      "0.80365425248575 0.00030000000000000014\n",
      "0.8178310709952631 0.0004000000000000004\n",
      "0.8201109620067821 0.0004100000000000004\n",
      "0.8256992487096089 0.0005000000000000007\n",
      "0.8289825092744878 0.0005100000000000007\n",
      "0.8396586445740055 0.0006000000000000009\n",
      "0.8458420188510977 0.000610000000000001\n",
      "0.8548117784419487 0.0007000000000000012\n",
      "0.8587325720457255 0.0007100000000000012\n",
      "0.8690965274566982 0.0008000000000000014\n",
      "0.8736540039554319 0.0008100000000000015\n",
      "0.8825138490615221 0.0009000000000000017\n",
      "0.889463123937484 0.0009100000000000017\n",
      "0.8969572566501316 0.001000000000000002\n",
      "0.9018661394921474 0.001010000000000002\n",
      "0.9097384765479891 0.0011000000000000022\n",
      "0.9158373331638607 0.0011100000000000023\n",
      "0.9196376169182379 0.0012000000000000025\n",
      "0.9240556998361067 0.0012100000000000025\n",
      "0.9262485178046529 0.0013000000000000028\n",
      "0.9326665444295801 0.0013100000000000028\n",
      "0.9375334432968845 0.001400000000000003\n",
      "0.9435944408367853 0.001410000000000003\n",
      "0.9475492403589341 0.0015000000000000033\n",
      "0.9552992859082916 0.0015100000000000033\n",
      "0.9565519672733682 0.0016000000000000035\n",
      "0.9633171157874609 0.0016100000000000036\n",
      "0.9651329625960523 0.0017000000000000038\n",
      "0.9739581330277005 0.0017100000000000038\n",
      "0.9767985916591452 0.001800000000000004\n",
      "0.9870958470504865 0.001810000000000004\n",
      "0.9876079316331179 0.0019000000000000043\n",
      "0.9978390960874524 0.0019100000000000044\n",
      "1.0017408235075003 0.0020000000000000044\n",
      "1.0069595985663218 0.0021000000000000046\n",
      "1.0137483194819268 0.002200000000000005\n",
      "1.0150846919919467 0.002210000000000005\n",
      "1.0197725762187053 0.002300000000000005\n",
      "1.0201785265706085 0.002310000000000005\n",
      "1.0267716366334683 0.0024000000000000054\n",
      "1.0291732375266858 0.0024100000000000055\n",
      "1.0327412059877452 0.0025000000000000057\n",
      "1.0353495691680434 0.0025100000000000057\n",
      "1.0396688633013942 0.002600000000000006\n",
      "1.0413502333312903 0.002610000000000006\n",
      "1.0450240059209654 0.002700000000000006\n",
      "1.0472478023601213 0.0027100000000000062\n",
      "1.0520566871682449 0.0028000000000000065\n",
      "1.0550782470331046 0.0028100000000000065\n",
      "1.056870417701682 0.0029000000000000067\n",
      "1.058585853765949 0.0029100000000000068\n",
      "1.061099376281849 0.003000000000000007\n",
      "1.0642857024353782 0.003010000000000007\n",
      "1.0661219506997033 0.0031000000000000073\n",
      "1.0671178010046658 0.0031100000000000073\n",
      "1.0685446581066325 0.0032000000000000075\n",
      "1.0708578539113671 0.0032100000000000076\n",
      "1.0719738380954689 0.003300000000000008\n",
      "1.0734610117520282 0.003310000000000008\n",
      "1.074357245206285 0.003400000000000008\n",
      "1.0785738970929566 0.003410000000000008\n",
      "1.0796622930953754 0.0035000000000000083\n",
      "1.081999342661306 0.0035100000000000083\n",
      "1.0829724034064623 0.0036000000000000086\n",
      "1.0851426629816725 0.0036100000000000086\n",
      "1.0852761499199906 0.003700000000000009\n",
      "1.0862094177878903 0.003710000000000009\n",
      "1.0871071102210337 0.003800000000000009\n",
      "1.0886486856283537 0.003810000000000009\n",
      "1.0887966469657753 0.0039000000000000094\n",
      "1.0907254209133308 0.003910000000000009\n",
      "1.092453892346514 0.004000000000000005\n",
      "1.0937123492980203 0.004100000000000001\n",
      "1.093816265153401 0.004110000000000001\n",
      "1.09504888867902 0.004199999999999997\n",
      "1.095137890382368 0.004209999999999997\n",
      "1.0961880193316973 0.004299999999999993\n",
      "1.0963018242658533 0.004309999999999993\n",
      "1.0965545264653216 0.004399999999999989\n",
      "1.0966545678992374 0.004409999999999989\n",
      "1.0970862116742346 0.004499999999999985\n",
      "1.0972689793605694 0.0045099999999999845\n",
      "1.0975397524725836 0.004599999999999981\n",
      "1.0976643500462253 0.00460999999999998\n",
      "1.0977837359073555 0.004699999999999977\n",
      "1.0979021905668405 0.004799999999999973\n"
     ]
    }
   ],
   "source": [
    "best_entropy, best_threshold = get_best_threshold(temp_df[\"diff_n\"])"
   ]
  },
  {
   "cell_type": "code",
   "execution_count": 122,
   "metadata": {},
   "outputs": [
    {
     "data": {
      "text/plain": [
       "0.004799999999999973"
      ]
     },
     "execution_count": 122,
     "metadata": {},
     "output_type": "execute_result"
    }
   ],
   "source": [
    "best_threshold"
   ]
  },
  {
   "cell_type": "markdown",
   "metadata": {},
   "source": [
    "### Label with diff_n"
   ]
  },
  {
   "cell_type": "code",
   "execution_count": 136,
   "metadata": {},
   "outputs": [],
   "source": [
    "THRESHOLD = 0.0055"
   ]
  },
  {
   "cell_type": "code",
   "execution_count": 137,
   "metadata": {},
   "outputs": [],
   "source": [
    "temp_df = df.copy()"
   ]
  },
  {
   "cell_type": "code",
   "execution_count": 138,
   "metadata": {},
   "outputs": [],
   "source": [
    "diff_n = temp_df[\"diff_n\"]\n",
    "\n",
    "idx_increase = diff_n[diff_n> THRESHOLD ].index\n",
    "idx_decrease = diff_n[diff_n < -THRESHOLD].index"
   ]
  },
  {
   "cell_type": "code",
   "execution_count": 139,
   "metadata": {},
   "outputs": [],
   "source": [
    "# Increase\n",
    "temp_df.loc[idx_increase, \"label\"] = 2\n",
    "\n",
    "# Decrease\n",
    "temp_df.loc[idx_decrease, \"label\"] = 1\n",
    "\n",
    "# No significant change\n",
    "temp_df.loc[~temp_df.index.isin(idx_increase.union(idx_decrease)), \"label\"] = 0"
   ]
  },
  {
   "cell_type": "code",
   "execution_count": 140,
   "metadata": {},
   "outputs": [
    {
     "data": {
      "image/png": "[encoded data removed]",
      "text/plain": [
       "<Figure size 432x288 with 1 Axes>"
      ]
     },
     "metadata": {
      "needs_background": "light"
     },
     "output_type": "display_data"
    }
   ],
   "source": [
    "sns.countplot(x = \"label\", data=temp_df)\n",
    "plt.show()"
   ]
  },
  {
   "cell_type": "code",
   "execution_count": null,
   "metadata": {},
   "outputs": [],
   "source": []
  },
  {
   "cell_type": "markdown",
   "metadata": {},
   "source": [
    "### Label with diff_n"
   ]
  },
  {
   "cell_type": "code",
   "execution_count": 12,
   "metadata": {},
   "outputs": [],
   "source": [
    "import numpy as np\n",
    "import pandas as pd\n",
    "import matplotlib.pyplot as plt\n",
    "import seaborn as sns"
   ]
  },
  {
   "cell_type": "code",
   "execution_count": 27,
   "metadata": {},
   "outputs": [],
   "source": [
    "df = pd.read_csv(\"../../data/processed/oanda_backtest_data_v1.csv\")"
   ]
  },
  {
   "cell_type": "code",
   "execution_count": 28,
   "metadata": {},
   "outputs": [],
   "source": [
    "df[\"Date\"] = pd.to_datetime(df[\"Date\"])"
   ]
  },
  {
   "cell_type": "code",
   "execution_count": 29,
   "metadata": {},
   "outputs": [],
   "source": [
    "df[\"diff_1\"] = df[\"Price\"] - df[\"Price\"].shift(1)"
   ]
  },
  {
   "cell_type": "code",
   "execution_count": 30,
   "metadata": {},
   "outputs": [
    {
     "data": {
      "text/html": [
       "<div>\n",
       "<style scoped>\n",
       "    .dataframe tbody tr th:only-of-type {\n",
       "        vertical-align: middle;\n",
       "    }\n",
       "\n",
       "    .dataframe tbody tr th {\n",
       "        vertical-align: top;\n",
       "    }\n",
       "\n",
       "    .dataframe thead th {\n",
       "        text-align: right;\n",
       "    }\n",
       "</style>\n",
       "<table border=\"1\" class=\"dataframe\">\n",
       "  <thead>\n",
       "    <tr style=\"text-align: right;\">\n",
       "      <th></th>\n",
       "      <th>Date</th>\n",
       "      <th>Open</th>\n",
       "      <th>High</th>\n",
       "      <th>Low</th>\n",
       "      <th>Price</th>\n",
       "      <th>Volume</th>\n",
       "      <th>Complete</th>\n",
       "      <th>Bid_c</th>\n",
       "      <th>Ask_c</th>\n",
       "      <th>sma</th>\n",
       "      <th>...</th>\n",
       "      <th>roc</th>\n",
       "      <th>rsi</th>\n",
       "      <th>Bollinger_up</th>\n",
       "      <th>Bollinger_down</th>\n",
       "      <th>cci</th>\n",
       "      <th>Momentum</th>\n",
       "      <th>Bollinger</th>\n",
       "      <th>price_sma</th>\n",
       "      <th>price_ema</th>\n",
       "      <th>diff_1</th>\n",
       "    </tr>\n",
       "  </thead>\n",
       "  <tbody>\n",
       "    <tr>\n",
       "      <th>0</th>\n",
       "      <td>2020-01-19 22:00:00</td>\n",
       "      <td>1.10930</td>\n",
       "      <td>1.11026</td>\n",
       "      <td>1.10766</td>\n",
       "      <td>1.10950</td>\n",
       "      <td>22822</td>\n",
       "      <td>True</td>\n",
       "      <td>1.10937</td>\n",
       "      <td>1.10962</td>\n",
       "      <td>NaN</td>\n",
       "      <td>...</td>\n",
       "      <td>NaN</td>\n",
       "      <td>NaN</td>\n",
       "      <td>NaN</td>\n",
       "      <td>NaN</td>\n",
       "      <td>NaN</td>\n",
       "      <td>NaN</td>\n",
       "      <td>NaN</td>\n",
       "      <td>NaN</td>\n",
       "      <td>0.000000</td>\n",
       "      <td>NaN</td>\n",
       "    </tr>\n",
       "    <tr>\n",
       "      <th>1</th>\n",
       "      <td>2020-01-20 22:00:00</td>\n",
       "      <td>1.10945</td>\n",
       "      <td>1.11180</td>\n",
       "      <td>1.10811</td>\n",
       "      <td>1.10822</td>\n",
       "      <td>38986</td>\n",
       "      <td>True</td>\n",
       "      <td>1.10812</td>\n",
       "      <td>1.10833</td>\n",
       "      <td>NaN</td>\n",
       "      <td>...</td>\n",
       "      <td>NaN</td>\n",
       "      <td>0.000000</td>\n",
       "      <td>NaN</td>\n",
       "      <td>NaN</td>\n",
       "      <td>NaN</td>\n",
       "      <td>NaN</td>\n",
       "      <td>NaN</td>\n",
       "      <td>NaN</td>\n",
       "      <td>-0.000240</td>\n",
       "      <td>-0.00128</td>\n",
       "    </tr>\n",
       "    <tr>\n",
       "      <th>2</th>\n",
       "      <td>2020-01-21 22:00:00</td>\n",
       "      <td>1.10867</td>\n",
       "      <td>1.10984</td>\n",
       "      <td>1.10702</td>\n",
       "      <td>1.10936</td>\n",
       "      <td>41211</td>\n",
       "      <td>True</td>\n",
       "      <td>1.10912</td>\n",
       "      <td>1.10959</td>\n",
       "      <td>NaN</td>\n",
       "      <td>...</td>\n",
       "      <td>NaN</td>\n",
       "      <td>50.681683</td>\n",
       "      <td>NaN</td>\n",
       "      <td>NaN</td>\n",
       "      <td>NaN</td>\n",
       "      <td>NaN</td>\n",
       "      <td>NaN</td>\n",
       "      <td>NaN</td>\n",
       "      <td>0.000199</td>\n",
       "      <td>0.00114</td>\n",
       "    </tr>\n",
       "    <tr>\n",
       "      <th>3</th>\n",
       "      <td>2020-01-22 22:00:00</td>\n",
       "      <td>1.10932</td>\n",
       "      <td>1.11088</td>\n",
       "      <td>1.10364</td>\n",
       "      <td>1.10563</td>\n",
       "      <td>58325</td>\n",
       "      <td>True</td>\n",
       "      <td>1.10513</td>\n",
       "      <td>1.10613</td>\n",
       "      <td>NaN</td>\n",
       "      <td>...</td>\n",
       "      <td>NaN</td>\n",
       "      <td>17.396136</td>\n",
       "      <td>NaN</td>\n",
       "      <td>NaN</td>\n",
       "      <td>NaN</td>\n",
       "      <td>NaN</td>\n",
       "      <td>NaN</td>\n",
       "      <td>NaN</td>\n",
       "      <td>-0.000807</td>\n",
       "      <td>-0.00373</td>\n",
       "    </tr>\n",
       "    <tr>\n",
       "      <th>4</th>\n",
       "      <td>2020-01-23 22:00:00</td>\n",
       "      <td>1.10558</td>\n",
       "      <td>1.10618</td>\n",
       "      <td>1.10198</td>\n",
       "      <td>1.10252</td>\n",
       "      <td>46040</td>\n",
       "      <td>True</td>\n",
       "      <td>1.10222</td>\n",
       "      <td>1.10282</td>\n",
       "      <td>NaN</td>\n",
       "      <td>...</td>\n",
       "      <td>NaN</td>\n",
       "      <td>10.660470</td>\n",
       "      <td>NaN</td>\n",
       "      <td>NaN</td>\n",
       "      <td>NaN</td>\n",
       "      <td>99.370888</td>\n",
       "      <td>NaN</td>\n",
       "      <td>NaN</td>\n",
       "      <td>-0.000902</td>\n",
       "      <td>-0.00311</td>\n",
       "    </tr>\n",
       "    <tr>\n",
       "      <th>...</th>\n",
       "      <td>...</td>\n",
       "      <td>...</td>\n",
       "      <td>...</td>\n",
       "      <td>...</td>\n",
       "      <td>...</td>\n",
       "      <td>...</td>\n",
       "      <td>...</td>\n",
       "      <td>...</td>\n",
       "      <td>...</td>\n",
       "      <td>...</td>\n",
       "      <td>...</td>\n",
       "      <td>...</td>\n",
       "      <td>...</td>\n",
       "      <td>...</td>\n",
       "      <td>...</td>\n",
       "      <td>...</td>\n",
       "      <td>...</td>\n",
       "      <td>...</td>\n",
       "      <td>...</td>\n",
       "      <td>...</td>\n",
       "      <td>...</td>\n",
       "    </tr>\n",
       "    <tr>\n",
       "      <th>498</th>\n",
       "      <td>2021-12-19 22:00:00</td>\n",
       "      <td>1.12380</td>\n",
       "      <td>1.13040</td>\n",
       "      <td>1.12347</td>\n",
       "      <td>1.12766</td>\n",
       "      <td>63918</td>\n",
       "      <td>True</td>\n",
       "      <td>1.12757</td>\n",
       "      <td>1.12775</td>\n",
       "      <td>1.128616</td>\n",
       "      <td>...</td>\n",
       "      <td>-0.000851</td>\n",
       "      <td>46.862006</td>\n",
       "      <td>1.136576</td>\n",
       "      <td>1.120657</td>\n",
       "      <td>-27.585639</td>\n",
       "      <td>100.170554</td>\n",
       "      <td>-0.060085</td>\n",
       "      <td>-0.000956</td>\n",
       "      <td>0.000485</td>\n",
       "      <td>0.00406</td>\n",
       "    </tr>\n",
       "    <tr>\n",
       "      <th>499</th>\n",
       "      <td>2021-12-20 22:00:00</td>\n",
       "      <td>1.12849</td>\n",
       "      <td>1.13026</td>\n",
       "      <td>1.12608</td>\n",
       "      <td>1.12841</td>\n",
       "      <td>54860</td>\n",
       "      <td>True</td>\n",
       "      <td>1.12832</td>\n",
       "      <td>1.12850</td>\n",
       "      <td>1.128791</td>\n",
       "      <td>...</td>\n",
       "      <td>0.002372</td>\n",
       "      <td>48.256950</td>\n",
       "      <td>1.136560</td>\n",
       "      <td>1.121022</td>\n",
       "      <td>-9.278133</td>\n",
       "      <td>99.905266</td>\n",
       "      <td>-0.024520</td>\n",
       "      <td>-0.000381</td>\n",
       "      <td>0.000285</td>\n",
       "      <td>0.00075</td>\n",
       "    </tr>\n",
       "    <tr>\n",
       "      <th>500</th>\n",
       "      <td>2021-12-21 22:00:00</td>\n",
       "      <td>1.12864</td>\n",
       "      <td>1.13425</td>\n",
       "      <td>1.12644</td>\n",
       "      <td>1.13276</td>\n",
       "      <td>52085</td>\n",
       "      <td>True</td>\n",
       "      <td>1.13266</td>\n",
       "      <td>1.13285</td>\n",
       "      <td>1.129425</td>\n",
       "      <td>...</td>\n",
       "      <td>0.002904</td>\n",
       "      <td>55.988907</td>\n",
       "      <td>1.136208</td>\n",
       "      <td>1.122642</td>\n",
       "      <td>48.790505</td>\n",
       "      <td>99.973523</td>\n",
       "      <td>0.245837</td>\n",
       "      <td>0.003335</td>\n",
       "      <td>0.001070</td>\n",
       "      <td>0.00435</td>\n",
       "    </tr>\n",
       "    <tr>\n",
       "      <th>501</th>\n",
       "      <td>2021-12-22 22:00:00</td>\n",
       "      <td>1.13265</td>\n",
       "      <td>1.13424</td>\n",
       "      <td>1.12902</td>\n",
       "      <td>1.13275</td>\n",
       "      <td>50018</td>\n",
       "      <td>True</td>\n",
       "      <td>1.13264</td>\n",
       "      <td>1.13286</td>\n",
       "      <td>1.130016</td>\n",
       "      <td>...</td>\n",
       "      <td>-0.000274</td>\n",
       "      <td>55.966724</td>\n",
       "      <td>1.135641</td>\n",
       "      <td>1.124392</td>\n",
       "      <td>75.487036</td>\n",
       "      <td>100.814347</td>\n",
       "      <td>0.243002</td>\n",
       "      <td>0.002733</td>\n",
       "      <td>0.000245</td>\n",
       "      <td>-0.00001</td>\n",
       "    </tr>\n",
       "    <tr>\n",
       "      <th>502</th>\n",
       "      <td>2021-12-23 22:00:00</td>\n",
       "      <td>1.13255</td>\n",
       "      <td>1.13436</td>\n",
       "      <td>1.13037</td>\n",
       "      <td>1.13105</td>\n",
       "      <td>21521</td>\n",
       "      <td>True</td>\n",
       "      <td>1.13055</td>\n",
       "      <td>1.13155</td>\n",
       "      <td>1.130018</td>\n",
       "      <td>...</td>\n",
       "      <td>0.006630</td>\n",
       "      <td>51.930775</td>\n",
       "      <td>1.135644</td>\n",
       "      <td>1.124392</td>\n",
       "      <td>66.053979</td>\n",
       "      <td>100.300623</td>\n",
       "      <td>0.091724</td>\n",
       "      <td>0.001032</td>\n",
       "      <td>-0.000336</td>\n",
       "      <td>-0.00170</td>\n",
       "    </tr>\n",
       "  </tbody>\n",
       "</table>\n",
       "<p>503 rows × 25 columns</p>\n",
       "</div>"
      ],
      "text/plain": [
       "                   Date     Open     High      Low    Price  Volume  Complete  \\\n",
       "0   2020-01-19 22:00:00  1.10930  1.11026  1.10766  1.10950   22822      True   \n",
       "1   2020-01-20 22:00:00  1.10945  1.11180  1.10811  1.10822   38986      True   \n",
       "2   2020-01-21 22:00:00  1.10867  1.10984  1.10702  1.10936   41211      True   \n",
       "3   2020-01-22 22:00:00  1.10932  1.11088  1.10364  1.10563   58325      True   \n",
       "4   2020-01-23 22:00:00  1.10558  1.10618  1.10198  1.10252   46040      True   \n",
       "..                  ...      ...      ...      ...      ...     ...       ...   \n",
       "498 2021-12-19 22:00:00  1.12380  1.13040  1.12347  1.12766   63918      True   \n",
       "499 2021-12-20 22:00:00  1.12849  1.13026  1.12608  1.12841   54860      True   \n",
       "500 2021-12-21 22:00:00  1.12864  1.13425  1.12644  1.13276   52085      True   \n",
       "501 2021-12-22 22:00:00  1.13265  1.13424  1.12902  1.13275   50018      True   \n",
       "502 2021-12-23 22:00:00  1.13255  1.13436  1.13037  1.13105   21521      True   \n",
       "\n",
       "       Bid_c    Ask_c       sma  ...       roc        rsi  Bollinger_up  \\\n",
       "0    1.10937  1.10962       NaN  ...       NaN        NaN           NaN   \n",
       "1    1.10812  1.10833       NaN  ...       NaN   0.000000           NaN   \n",
       "2    1.10912  1.10959       NaN  ...       NaN  50.681683           NaN   \n",
       "3    1.10513  1.10613       NaN  ...       NaN  17.396136           NaN   \n",
       "4    1.10222  1.10282       NaN  ...       NaN  10.660470           NaN   \n",
       "..       ...      ...       ...  ...       ...        ...           ...   \n",
       "498  1.12757  1.12775  1.128616  ... -0.000851  46.862006      1.136576   \n",
       "499  1.12832  1.12850  1.128791  ...  0.002372  48.256950      1.136560   \n",
       "500  1.13266  1.13285  1.129425  ...  0.002904  55.988907      1.136208   \n",
       "501  1.13264  1.13286  1.130016  ... -0.000274  55.966724      1.135641   \n",
       "502  1.13055  1.13155  1.130018  ...  0.006630  51.930775      1.135644   \n",
       "\n",
       "     Bollinger_down        cci    Momentum  Bollinger  price_sma  price_ema  \\\n",
       "0               NaN        NaN         NaN        NaN        NaN   0.000000   \n",
       "1               NaN        NaN         NaN        NaN        NaN  -0.000240   \n",
       "2               NaN        NaN         NaN        NaN        NaN   0.000199   \n",
       "3               NaN        NaN         NaN        NaN        NaN  -0.000807   \n",
       "4               NaN        NaN   99.370888        NaN        NaN  -0.000902   \n",
       "..              ...        ...         ...        ...        ...        ...   \n",
       "498        1.120657 -27.585639  100.170554  -0.060085  -0.000956   0.000485   \n",
       "499        1.121022  -9.278133   99.905266  -0.024520  -0.000381   0.000285   \n",
       "500        1.122642  48.790505   99.973523   0.245837   0.003335   0.001070   \n",
       "501        1.124392  75.487036  100.814347   0.243002   0.002733   0.000245   \n",
       "502        1.124392  66.053979  100.300623   0.091724   0.001032  -0.000336   \n",
       "\n",
       "      diff_1  \n",
       "0        NaN  \n",
       "1   -0.00128  \n",
       "2    0.00114  \n",
       "3   -0.00373  \n",
       "4   -0.00311  \n",
       "..       ...  \n",
       "498  0.00406  \n",
       "499  0.00075  \n",
       "500  0.00435  \n",
       "501 -0.00001  \n",
       "502 -0.00170  \n",
       "\n",
       "[503 rows x 25 columns]"
      ]
     },
     "execution_count": 30,
     "metadata": {},
     "output_type": "execute_result"
    }
   ],
   "source": [
    "df"
   ]
  },
  {
   "cell_type": "code",
   "execution_count": 31,
   "metadata": {},
   "outputs": [],
   "source": [
    "THRESHOLD = 0.0055"
   ]
  },
  {
   "cell_type": "code",
   "execution_count": 32,
   "metadata": {},
   "outputs": [],
   "source": [
    "N_AHEAD = 5\n",
    "\n",
    "df[\"diff_n\"] = np.nan\n",
    "\n",
    "MAX_IDX = df.index[-1]\n",
    "\n",
    "for idx, row in df.iterrows():\n",
    "\n",
    "    label_idx = idx + N_AHEAD\n",
    "\n",
    "    if idx <= MAX_IDX and label_idx <= MAX_IDX:\n",
    "        diff = df.loc[label_idx, \"Price\"] - df.loc[idx, \"Price\"]\n",
    "        df.loc[idx, \"diff_n\"] = diff"
   ]
  },
  {
   "cell_type": "code",
   "execution_count": 33,
   "metadata": {},
   "outputs": [],
   "source": [
    "diff_n = df[\"diff_n\"]\n",
    "\n",
    "idx_increase = diff_n[diff_n> THRESHOLD ].index\n",
    "idx_decrease = diff_n[diff_n < -THRESHOLD].index"
   ]
  },
  {
   "cell_type": "code",
   "execution_count": 34,
   "metadata": {},
   "outputs": [],
   "source": [
    "# Increase\n",
    "df.loc[idx_increase, \"label\"] = 2\n",
    "\n",
    "# Decrease\n",
    "df.loc[idx_decrease, \"label\"] = 1\n",
    "\n",
    "# No significant change\n",
    "df.loc[~df.index.isin(idx_increase.union(idx_decrease)), \"label\"] = 0"
   ]
  },
  {
   "cell_type": "code",
   "execution_count": 35,
   "metadata": {},
   "outputs": [
    {
     "data": {
      "image/png": "[encoded data removed]",
      "text/plain": [
       "<Figure size 432x288 with 1 Axes>"
      ]
     },
     "metadata": {
      "needs_background": "light"
     },
     "output_type": "display_data"
    }
   ],
   "source": [
    "sns.countplot(x = \"label\", data=df)\n",
    "plt.show()"
   ]
  },
  {
   "cell_type": "code",
   "execution_count": 36,
   "metadata": {},
   "outputs": [
    {
     "data": {
      "text/plain": [
       "'../../data/processed/oanda_backtest_data_labelled_v1.csv'"
      ]
     },
     "execution_count": 36,
     "metadata": {},
     "output_type": "execute_result"
    }
   ],
   "source": [
    "output_path = os.path.relpath(\"../../data/processed/oanda_backtest_data_labelled_v1.csv\")\n",
    "output_path"
   ]
  },
  {
   "cell_type": "code",
   "execution_count": 37,
   "metadata": {},
   "outputs": [],
   "source": [
    "df.to_csv(output_path, header=True, index=False)"
   ]
  },
  {
   "cell_type": "markdown",
   "metadata": {},
   "source": [
    "### Label with diff_1"
   ]
  },
  {
   "cell_type": "code",
   "execution_count": 9,
   "metadata": {},
   "outputs": [],
   "source": [
    "diff1 = df[\"diff_1\"]\n",
    "\n",
    "idx_increase = diff1[diff1> THRESHOLD ].index\n",
    "idx_decrease = diff1[diff1 < -THRESHOLD].index\n",
    "\n",
    "# labels[idx_increase] = 2\n",
    "# labels[idx_descrease] = 1\n",
    "\n",
    "# # Account for the first data point that does not have a difference\n",
    "# labels = np.insert(labels, 0, np.nan)"
   ]
  },
  {
   "cell_type": "code",
   "execution_count": 10,
   "metadata": {},
   "outputs": [],
   "source": [
    "# Increase\n",
    "df.loc[idx_increase, \"label\"] = 2\n",
    "\n",
    "# Decrease\n",
    "df.loc[idx_decrease, \"label\"] = 1\n",
    "\n",
    "# No significant change\n",
    "df.loc[~df.index.isin(idx_increase.union(idx_decrease)), \"label\"] = 0"
   ]
  },
  {
   "cell_type": "code",
   "execution_count": 13,
   "metadata": {},
   "outputs": [
    {
     "data": {
      "image/png": "[encoded data removed]",
      "text/plain": [
       "<Figure size 432x288 with 1 Axes>"
      ]
     },
     "metadata": {
      "needs_background": "light"
     },
     "output_type": "display_data"
    }
   ],
   "source": [
    "sns.countplot(x = \"label\", data=df)\n",
    "plt.show()"
   ]
  },
  {
   "cell_type": "markdown",
   "metadata": {},
   "source": [
    "## Export to CSV file"
   ]
  },
  {
   "cell_type": "code",
   "execution_count": 14,
   "metadata": {},
   "outputs": [
    {
     "data": {
      "text/plain": [
       "'../../data/processed/oanda_backtest_data_labelled_v1.csv'"
      ]
     },
     "execution_count": 14,
     "metadata": {},
     "output_type": "execute_result"
    }
   ],
   "source": [
    "output_path = os.path.relpath(\"../../data/processed/oanda_backtest_data_labelled_v1.csv\")\n",
    "output_path"
   ]
  },
  {
   "cell_type": "code",
   "execution_count": 15,
   "metadata": {},
   "outputs": [],
   "source": [
    "df.to_csv(output_path, header=True, index=False)"
   ]
  },
  {
   "cell_type": "code",
   "execution_count": null,
   "metadata": {},
   "outputs": [],
   "source": []
  }
 ],
 "metadata": {
  "interpreter": {
   "hash": "7a6674941c1853e0d0f170b80a12cf7984bffc607ed027d31385c7a96638a0b7"
  },
  "kernelspec": {
   "display_name": "Python 3 (ipykernel)",
   "language": "python",
   "name": "python3"
  },
  "language_info": {
   "codemirror_mode": {
    "name": "ipython",
    "version": 3
   },
   "file_extension": ".py",
   "mimetype": "text/x-python",
   "name": "python",
   "nbconvert_exporter": "python",
   "pygments_lexer": "ipython3",
   "version": "3.8.2"
  }
 },
 "nbformat": 4,
 "nbformat_minor": 2
}
